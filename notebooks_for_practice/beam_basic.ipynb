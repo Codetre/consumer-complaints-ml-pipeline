{
 "cells": [
  {
   "cell_type": "markdown",
   "source": [
    "# Apache Beam\n",
    "1. 어디에 사용되는가:\n",
    "    - 데이터 처리(검증과 전처리) 단계에서 작업 정의\n",
    "    - 파이프라인 오케스트레이션\n",
    "    - 사용자 정의 컴포넌트 작성\n",
    "\n",
    "2. 기본 개념\n",
    "    - 컬렉션(collection): Beam이 읽거나 쓰기 위해 사용하는 데이터 형식\n",
    "    - 변환(transform): collection을 소비하여 이뤄지는 데이터 조작\n",
    "\n",
    "이 코드를 파이썬 스크립트로 모아 `python pipeline.py`으로 실행할 수 있다.\n",
    "그 경우 파이프라인 실행은 DirectRunner가 담당한다."
   ],
   "metadata": {
    "collapsed": false
   }
  },
  {
   "cell_type": "code",
   "execution_count": 1,
   "metadata": {
    "collapsed": true
   },
   "outputs": [],
   "source": [
    "import re\n",
    "\n",
    "import apache_beam as beam\n",
    "from apache_beam.io import ReadFromText\n",
    "from apache_beam.io import WriteToText\n",
    "from apache_beam.options.pipeline_options import PipelineOptions\n",
    "from apache_beam.options.pipeline_options import SetupOptions"
   ]
  },
  {
   "cell_type": "code",
   "execution_count": 2,
   "outputs": [],
   "source": [
    "def format_result(word_count):\n",
    "    word, count = word_count\n",
    "    return f\"{word}: {count}\""
   ],
   "metadata": {
    "collapsed": false
   }
  },
  {
   "cell_type": "code",
   "execution_count": 3,
   "outputs": [],
   "source": [
    "input_file = \"gs://dataflow-samples/shakespeare/kinglear.txt\"\n",
    "output_file = \"output.txt\""
   ],
   "metadata": {
    "collapsed": false
   }
  },
  {
   "cell_type": "markdown",
   "source": [
    "### 텍스트 파일 내 단어 등장 빈도를 계산하는 작업을 파이프라인으로 정의"
   ],
   "metadata": {
    "collapsed": false
   }
  },
  {
   "cell_type": "code",
   "execution_count": 4,
   "outputs": [
    {
     "data": {
      "application/javascript": "\n        if (typeof window.interactive_beam_jquery == 'undefined') {\n          var jqueryScript = document.createElement('script');\n          jqueryScript.src = 'https://code.jquery.com/jquery-3.4.1.slim.min.js';\n          jqueryScript.type = 'text/javascript';\n          jqueryScript.onload = function() {\n            var datatableScript = document.createElement('script');\n            datatableScript.src = 'https://cdn.datatables.net/1.10.20/js/jquery.dataTables.min.js';\n            datatableScript.type = 'text/javascript';\n            datatableScript.onload = function() {\n              window.interactive_beam_jquery = jQuery.noConflict(true);\n              window.interactive_beam_jquery(document).ready(function($){\n                \n              });\n            }\n            document.head.appendChild(datatableScript);\n          };\n          document.head.appendChild(jqueryScript);\n        } else {\n          window.interactive_beam_jquery(document).ready(function($){\n            \n          });\n        }"
     },
     "metadata": {},
     "output_type": "display_data"
    }
   ],
   "source": [
    "#  PipelineOptions 객체의 `runner` 인자를 수정해 실행기를 Spark, Flink로 변경할 수 있다.\n",
    "pipeline_options = PipelineOptions()\n",
    "\n",
    "# 컬렉션을 처리하는 변환은 모두 파이프라인 컨텍스트 하에서 실행된다.\n",
    "with beam.Pipeline() as p:\n",
    "    # 입력 컬렉션: 빔이 처리하는 컬렉션 데이터는 `PCollection` 타입으로 나타낸다.\n",
    "    lines = p | beam.io.ReadFromText(input_file)\n",
    "\n",
    "    # chaining을 이용한 변환 과정 기술:\n",
    "    # `out_collection =\n",
    "    #       (in_collection | 'desc' >> process | 'desc' >> process ...)`\n",
    "    counts = (\n",
    "        lines\n",
    "        | \"Split\" >> beam.FlatMap(lambda x: re.findall(r\"A[-Za-z]+\", x))\n",
    "        | \"PairWithOne\" >> beam.Map(lambda x: (x, 1))\n",
    "        | \"GroupAndSum\" >> beam.CombinePerKey(sum)\n",
    "    )\n",
    "    # 파이썬 함수로 원하는 작업을 직접 기술할 수 있다.\n",
    "    output = counts | 'Format' >> beam.Map(format_result)\n",
    "\n",
    "    # 출력 컬렉션\n",
    "    output | WriteToText(output_file)"
   ],
   "metadata": {
    "collapsed": false
   }
  }
 ],
 "metadata": {
  "kernelspec": {
   "display_name": "Python 3",
   "language": "python",
   "name": "python3"
  },
  "language_info": {
   "codemirror_mode": {
    "name": "ipython",
    "version": 2
   },
   "file_extension": ".py",
   "mimetype": "text/x-python",
   "name": "python",
   "nbconvert_exporter": "python",
   "pygments_lexer": "ipython2",
   "version": "2.7.6"
  }
 },
 "nbformat": 4,
 "nbformat_minor": 0
}
