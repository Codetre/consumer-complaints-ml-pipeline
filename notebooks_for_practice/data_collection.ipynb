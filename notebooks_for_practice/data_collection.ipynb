{
 "cells": [
  {
   "cell_type": "code",
   "execution_count": 1,
   "metadata": {
    "collapsed": true
   },
   "outputs": [
    {
     "name": "stderr",
     "output_type": "stream",
     "text": [
      "2023-01-13 12:53:26.092747: I tensorflow/core/platform/cpu_feature_guard.cc:193] This TensorFlow binary is optimized with oneAPI Deep Neural Network Library (oneDNN) to use the following CPU instructions in performance-critical operations:  SSE4.1 SSE4.2 AVX AVX2 FMA\n",
      "To enable them in other operations, rebuild TensorFlow with the appropriate compiler flags.\n"
     ]
    }
   ],
   "source": [
    "import os\n",
    "from pathlib import Path\n",
    "import shutil\n",
    "\n",
    "import pandas as pd\n",
    "import numpy as np\n",
    "import tensorflow as tf\n",
    "from tfx.components import CsvExampleGen, ImportExampleGen\n",
    "from tfx.orchestration.experimental.interactive.interactive_context import InteractiveContext  # 대화형 컴포넌트 관리자\n",
    "from tfx.proto import example_gen_pb2  # example_gen 옵션 지정용"
   ]
  },
  {
   "cell_type": "code",
   "execution_count": 2,
   "outputs": [],
   "source": [
    "# 이번 노트북에서 공통적으로 사용할 경로\n",
    "dir_path = Path().parent.absolute()\n",
    "data_dir = os.path.join(dir_path, \"data\")\n",
    "complaints_dir = os.path.join(data_dir, \"complaints\")"
   ],
   "metadata": {
    "collapsed": false
   }
  },
  {
   "cell_type": "code",
   "execution_count": 3,
   "outputs": [
    {
     "name": "stderr",
     "output_type": "stream",
     "text": [
      "WARNING:absl:InteractiveContext pipeline_root argument not provided: using temporary directory /tmp/tfx-interactive-2023-01-13T12_53_50.683064-3vpw1_66 as root for pipeline outputs.\n",
      "WARNING:absl:InteractiveContext metadata_connection_config not provided: using SQLite ML Metadata database at /tmp/tfx-interactive-2023-01-13T12_53_50.683064-3vpw1_66/metadata.sqlite.\n"
     ]
    }
   ],
   "source": [
    "context = InteractiveContext()"
   ],
   "metadata": {
    "collapsed": false
   }
  },
  {
   "cell_type": "markdown",
   "source": [
    "# TFRecord\n",
    " 장점\n",
    "  - 플랫폼 독립적인 protobuf 기반\n",
    "  - 대용량 데이터 고속 처리\n",
    "  - TF 생태계에 통용되는 형식"
   ],
   "metadata": {
    "collapsed": false
   }
  },
  {
   "cell_type": "code",
   "execution_count": 2,
   "outputs": [],
   "source": [
    "record_path = \"test.tfrecord\"\n",
    "with tf.io.TFRecordWriter(record_path) as writer:\n",
    "    writer.write(b\"First example\")\n",
    "    writer.write(b\"Second example\")\n"
   ],
   "metadata": {
    "collapsed": false
   }
  },
  {
   "cell_type": "code",
   "execution_count": 3,
   "outputs": [
    {
     "name": "stderr",
     "output_type": "stream",
     "text": [
      "2023-01-10 04:13:48.413612: I tensorflow/core/platform/cpu_feature_guard.cc:193] This TensorFlow binary is optimized with oneAPI Deep Neural Network Library (oneDNN) to use the following CPU instructions in performance-critical operations:  SSE4.1 SSE4.2 AVX AVX2 FMA\n",
      "To enable them in other operations, rebuild TensorFlow with the appropriate compiler flags.\n"
     ]
    },
    {
     "name": "stdout",
     "output_type": "stream",
     "text": [
      "tf.Tensor(b'First example', shape=(), dtype=string)\n",
      "tf.Tensor(b'Second example', shape=(), dtype=string)\n"
     ]
    }
   ],
   "source": [
    " for example in tf.data.TFRecordDataset(record_path):\n",
    "    print(example)"
   ],
   "metadata": {
    "collapsed": false
   }
  },
  {
   "cell_type": "markdown",
   "source": [
    "# ExampleGen\n",
    "데이터를 다음과 같은 곳에서 읽을 수 있다:\n",
    "  - CSV(`CsvExampleGen`)\n",
    "  - TFRecord(`ImportExampleGen`)\n",
    "  - Apache Avro\n",
    "  - Apache Parquet"
   ],
   "metadata": {
    "collapsed": false
   }
  },
  {
   "cell_type": "markdown",
   "source": [
    "## CSV 파일 읽어들이기"
   ],
   "metadata": {
    "collapsed": false
   }
  },
  {
   "cell_type": "code",
   "execution_count": 67,
   "outputs": [],
   "source": [
    "csv_dir = os.path.join(data_dir, \"taxi\")"
   ],
   "metadata": {
    "collapsed": false
   }
  },
  {
   "cell_type": "code",
   "execution_count": 10,
   "outputs": [
    {
     "data": {
      "application/javascript": "\n        if (typeof window.interactive_beam_jquery == 'undefined') {\n          var jqueryScript = document.createElement('script');\n          jqueryScript.src = 'https://code.jquery.com/jquery-3.4.1.slim.min.js';\n          jqueryScript.type = 'text/javascript';\n          jqueryScript.onload = function() {\n            var datatableScript = document.createElement('script');\n            datatableScript.src = 'https://cdn.datatables.net/1.10.20/js/jquery.dataTables.min.js';\n            datatableScript.type = 'text/javascript';\n            datatableScript.onload = function() {\n              window.interactive_beam_jquery = jQuery.noConflict(true);\n              window.interactive_beam_jquery(document).ready(function($){\n                \n              });\n            }\n            document.head.appendChild(datatableScript);\n          };\n          document.head.appendChild(jqueryScript);\n        } else {\n          window.interactive_beam_jquery(document).ready(function($){\n            \n          });\n        }"
     },
     "metadata": {},
     "output_type": "display_data"
    },
    {
     "name": "stderr",
     "output_type": "stream",
     "text": [
      "WARNING:apache_beam.io.tfrecordio:Couldn't find python-snappy so the implementation of _TFRecordUtil._masked_crc32c is not as fast as it could be.\n"
     ]
    },
    {
     "data": {
      "text/plain": "ExecutionResult(\n    component_id: CsvExampleGen\n    execution_id: 1\n    outputs:\n        examples: OutputChannel(artifact_type=Examples, producer_component_id=CsvExampleGen, output_key=examples, additional_properties={}, additional_custom_properties={}))",
      "text/html": "<style>\n.tfx-object.expanded {\n  padding: 4px 8px 4px 8px;\n  background: white;\n  border: 1px solid #bbbbbb;\n  box-shadow: 4px 4px 2px rgba(0,0,0,0.05);\n}\nhtml[theme=dark] .tfx-object.expanded {\n  background: black;\n}\n.tfx-object, .tfx-object * {\n  font-size: 11pt;\n}\n.tfx-object > .title {\n  cursor: pointer;\n}\n.tfx-object .expansion-marker {\n  color: #999999;\n}\n.tfx-object.expanded > .title > .expansion-marker:before {\n  content: '▼';\n}\n.tfx-object.collapsed > .title > .expansion-marker:before {\n  content: '▶';\n}\n.tfx-object .class-name {\n  font-weight: bold;\n}\n.tfx-object .deemphasize {\n  opacity: 0.5;\n}\n.tfx-object.collapsed > table.attr-table {\n  display: none;\n}\n.tfx-object.expanded > table.attr-table {\n  display: block;\n}\n.tfx-object table.attr-table {\n  border: 2px solid white;\n  margin-top: 5px;\n}\nhtml[theme=dark] .tfx-object table.attr-table {\n  border: 2px solid black;\n}\n.tfx-object table.attr-table td.attr-name {\n  vertical-align: top;\n  font-weight: bold;\n}\n.tfx-object table.attr-table td.attrvalue {\n  text-align: left;\n}\n</style>\n<script>\nfunction toggleTfxObject(element) {\n  var objElement = element.parentElement;\n  if (objElement.classList.contains('collapsed')) {\n    objElement.classList.remove('collapsed');\n    objElement.classList.add('expanded');\n  } else {\n    objElement.classList.add('collapsed');\n    objElement.classList.remove('expanded');\n  }\n}\n</script>\n<div class=\"tfx-object expanded\"><div class = \"title\" onclick=\"toggleTfxObject(this)\"><span class=\"expansion-marker\"></span><span class=\"class-name\">ExecutionResult</span><span class=\"deemphasize\"> at 0x7fd560748640</span></div><table class=\"attr-table\"><tr><td class=\"attr-name\">.execution_id</td><td class = \"attrvalue\">1</td></tr><tr><td class=\"attr-name\">.component</td><td class = \"attrvalue\"><style>\n.tfx-object.expanded {\n  padding: 4px 8px 4px 8px;\n  background: white;\n  border: 1px solid #bbbbbb;\n  box-shadow: 4px 4px 2px rgba(0,0,0,0.05);\n}\nhtml[theme=dark] .tfx-object.expanded {\n  background: black;\n}\n.tfx-object, .tfx-object * {\n  font-size: 11pt;\n}\n.tfx-object > .title {\n  cursor: pointer;\n}\n.tfx-object .expansion-marker {\n  color: #999999;\n}\n.tfx-object.expanded > .title > .expansion-marker:before {\n  content: '▼';\n}\n.tfx-object.collapsed > .title > .expansion-marker:before {\n  content: '▶';\n}\n.tfx-object .class-name {\n  font-weight: bold;\n}\n.tfx-object .deemphasize {\n  opacity: 0.5;\n}\n.tfx-object.collapsed > table.attr-table {\n  display: none;\n}\n.tfx-object.expanded > table.attr-table {\n  display: block;\n}\n.tfx-object table.attr-table {\n  border: 2px solid white;\n  margin-top: 5px;\n}\nhtml[theme=dark] .tfx-object table.attr-table {\n  border: 2px solid black;\n}\n.tfx-object table.attr-table td.attr-name {\n  vertical-align: top;\n  font-weight: bold;\n}\n.tfx-object table.attr-table td.attrvalue {\n  text-align: left;\n}\n</style>\n<script>\nfunction toggleTfxObject(element) {\n  var objElement = element.parentElement;\n  if (objElement.classList.contains('collapsed')) {\n    objElement.classList.remove('collapsed');\n    objElement.classList.add('expanded');\n  } else {\n    objElement.classList.add('collapsed');\n    objElement.classList.remove('expanded');\n  }\n}\n</script>\n<div class=\"tfx-object collapsed\"><div class = \"title\" onclick=\"toggleTfxObject(this)\"><span class=\"expansion-marker\"></span><span class=\"class-name\">CsvExampleGen</span><span class=\"deemphasize\"> at 0x7fd560763c70</span></div><table class=\"attr-table\"><tr><td class=\"attr-name\">.inputs</td><td class = \"attrvalue\">{}</td></tr><tr><td class=\"attr-name\">.outputs</td><td class = \"attrvalue\"><table class=\"attr-table\"><tr><td class=\"attr-name\">['examples']</td><td class = \"attrvalue\"><style>\n.tfx-object.expanded {\n  padding: 4px 8px 4px 8px;\n  background: white;\n  border: 1px solid #bbbbbb;\n  box-shadow: 4px 4px 2px rgba(0,0,0,0.05);\n}\nhtml[theme=dark] .tfx-object.expanded {\n  background: black;\n}\n.tfx-object, .tfx-object * {\n  font-size: 11pt;\n}\n.tfx-object > .title {\n  cursor: pointer;\n}\n.tfx-object .expansion-marker {\n  color: #999999;\n}\n.tfx-object.expanded > .title > .expansion-marker:before {\n  content: '▼';\n}\n.tfx-object.collapsed > .title > .expansion-marker:before {\n  content: '▶';\n}\n.tfx-object .class-name {\n  font-weight: bold;\n}\n.tfx-object .deemphasize {\n  opacity: 0.5;\n}\n.tfx-object.collapsed > table.attr-table {\n  display: none;\n}\n.tfx-object.expanded > table.attr-table {\n  display: block;\n}\n.tfx-object table.attr-table {\n  border: 2px solid white;\n  margin-top: 5px;\n}\nhtml[theme=dark] .tfx-object table.attr-table {\n  border: 2px solid black;\n}\n.tfx-object table.attr-table td.attr-name {\n  vertical-align: top;\n  font-weight: bold;\n}\n.tfx-object table.attr-table td.attrvalue {\n  text-align: left;\n}\n</style>\n<script>\nfunction toggleTfxObject(element) {\n  var objElement = element.parentElement;\n  if (objElement.classList.contains('collapsed')) {\n    objElement.classList.remove('collapsed');\n    objElement.classList.add('expanded');\n  } else {\n    objElement.classList.add('collapsed');\n    objElement.classList.remove('expanded');\n  }\n}\n</script>\n<div class=\"tfx-object collapsed\"><div class = \"title\" onclick=\"toggleTfxObject(this)\"><span class=\"expansion-marker\"></span><span class=\"class-name\">Channel</span> of type <span class=\"class-name\">'Examples'</span> (1 artifact)<span class=\"deemphasize\"> at 0x7fd56074d760</span></div><table class=\"attr-table\"><tr><td class=\"attr-name\">.type_name</td><td class = \"attrvalue\">Examples</td></tr><tr><td class=\"attr-name\">._artifacts</td><td class = \"attrvalue\"><table class=\"attr-table\"><tr><td class=\"attr-name\">[0]</td><td class = \"attrvalue\"><style>\n.tfx-object.expanded {\n  padding: 4px 8px 4px 8px;\n  background: white;\n  border: 1px solid #bbbbbb;\n  box-shadow: 4px 4px 2px rgba(0,0,0,0.05);\n}\nhtml[theme=dark] .tfx-object.expanded {\n  background: black;\n}\n.tfx-object, .tfx-object * {\n  font-size: 11pt;\n}\n.tfx-object > .title {\n  cursor: pointer;\n}\n.tfx-object .expansion-marker {\n  color: #999999;\n}\n.tfx-object.expanded > .title > .expansion-marker:before {\n  content: '▼';\n}\n.tfx-object.collapsed > .title > .expansion-marker:before {\n  content: '▶';\n}\n.tfx-object .class-name {\n  font-weight: bold;\n}\n.tfx-object .deemphasize {\n  opacity: 0.5;\n}\n.tfx-object.collapsed > table.attr-table {\n  display: none;\n}\n.tfx-object.expanded > table.attr-table {\n  display: block;\n}\n.tfx-object table.attr-table {\n  border: 2px solid white;\n  margin-top: 5px;\n}\nhtml[theme=dark] .tfx-object table.attr-table {\n  border: 2px solid black;\n}\n.tfx-object table.attr-table td.attr-name {\n  vertical-align: top;\n  font-weight: bold;\n}\n.tfx-object table.attr-table td.attrvalue {\n  text-align: left;\n}\n</style>\n<script>\nfunction toggleTfxObject(element) {\n  var objElement = element.parentElement;\n  if (objElement.classList.contains('collapsed')) {\n    objElement.classList.remove('collapsed');\n    objElement.classList.add('expanded');\n  } else {\n    objElement.classList.add('collapsed');\n    objElement.classList.remove('expanded');\n  }\n}\n</script>\n<div class=\"tfx-object collapsed\"><div class = \"title\" onclick=\"toggleTfxObject(this)\"><span class=\"expansion-marker\"></span><span class=\"class-name\">Artifact</span> of type <span class=\"class-name\">'Examples'</span> (uri: /tmp/tfx-interactive-2023-01-10T04_19_06.444458-1_blds93/CsvExampleGen/examples/1)<span class=\"deemphasize\"> at 0x7fd58a4a5b50</span></div><table class=\"attr-table\"><tr><td class=\"attr-name\">.type</td><td class = \"attrvalue\">&lt;class &#x27;tfx.types.standard_artifacts.Examples&#x27;&gt;</td></tr><tr><td class=\"attr-name\">.uri</td><td class = \"attrvalue\">/tmp/tfx-interactive-2023-01-10T04_19_06.444458-1_blds93/CsvExampleGen/examples/1</td></tr><tr><td class=\"attr-name\">.span</td><td class = \"attrvalue\">0</td></tr><tr><td class=\"attr-name\">.split_names</td><td class = \"attrvalue\">[&quot;train&quot;, &quot;eval&quot;]</td></tr><tr><td class=\"attr-name\">.version</td><td class = \"attrvalue\">0</td></tr></table></div></td></tr></table></td></tr></table></div></td></tr></table></td></tr><tr><td class=\"attr-name\">.exec_properties</td><td class = \"attrvalue\"><table class=\"attr-table\"><tr><td class=\"attr-name\">['input_base']</td><td class = \"attrvalue\">/home/hakjun/projects/pipeline/data/taxi</td></tr><tr><td class=\"attr-name\">['input_config']</td><td class = \"attrvalue\">{\n  &quot;splits&quot;: [\n    {\n      &quot;name&quot;: &quot;single_split&quot;,\n      &quot;pattern&quot;: &quot;*&quot;\n    }\n  ]\n}</td></tr><tr><td class=\"attr-name\">['output_config']</td><td class = \"attrvalue\">{\n  &quot;split_config&quot;: {\n    &quot;splits&quot;: [\n      {\n        &quot;hash_buckets&quot;: 2,\n        &quot;name&quot;: &quot;train&quot;\n      },\n      {\n        &quot;hash_buckets&quot;: 1,\n        &quot;name&quot;: &quot;eval&quot;\n      }\n    ]\n  }\n}</td></tr><tr><td class=\"attr-name\">['output_data_format']</td><td class = \"attrvalue\">6</td></tr><tr><td class=\"attr-name\">['output_file_format']</td><td class = \"attrvalue\">5</td></tr><tr><td class=\"attr-name\">['custom_config']</td><td class = \"attrvalue\">None</td></tr><tr><td class=\"attr-name\">['range_config']</td><td class = \"attrvalue\">None</td></tr><tr><td class=\"attr-name\">['span']</td><td class = \"attrvalue\">0</td></tr><tr><td class=\"attr-name\">['version']</td><td class = \"attrvalue\">None</td></tr><tr><td class=\"attr-name\">['input_fingerprint']</td><td class = \"attrvalue\">split:single_split,num_files:1,total_bytes:1922812,xor_checksum:1673313402,sum_checksum:1673313402</td></tr></table></td></tr></table></div></td></tr><tr><td class=\"attr-name\">.component.inputs</td><td class = \"attrvalue\">{}</td></tr><tr><td class=\"attr-name\">.component.outputs</td><td class = \"attrvalue\"><table class=\"attr-table\"><tr><td class=\"attr-name\">['examples']</td><td class = \"attrvalue\"><style>\n.tfx-object.expanded {\n  padding: 4px 8px 4px 8px;\n  background: white;\n  border: 1px solid #bbbbbb;\n  box-shadow: 4px 4px 2px rgba(0,0,0,0.05);\n}\nhtml[theme=dark] .tfx-object.expanded {\n  background: black;\n}\n.tfx-object, .tfx-object * {\n  font-size: 11pt;\n}\n.tfx-object > .title {\n  cursor: pointer;\n}\n.tfx-object .expansion-marker {\n  color: #999999;\n}\n.tfx-object.expanded > .title > .expansion-marker:before {\n  content: '▼';\n}\n.tfx-object.collapsed > .title > .expansion-marker:before {\n  content: '▶';\n}\n.tfx-object .class-name {\n  font-weight: bold;\n}\n.tfx-object .deemphasize {\n  opacity: 0.5;\n}\n.tfx-object.collapsed > table.attr-table {\n  display: none;\n}\n.tfx-object.expanded > table.attr-table {\n  display: block;\n}\n.tfx-object table.attr-table {\n  border: 2px solid white;\n  margin-top: 5px;\n}\nhtml[theme=dark] .tfx-object table.attr-table {\n  border: 2px solid black;\n}\n.tfx-object table.attr-table td.attr-name {\n  vertical-align: top;\n  font-weight: bold;\n}\n.tfx-object table.attr-table td.attrvalue {\n  text-align: left;\n}\n</style>\n<script>\nfunction toggleTfxObject(element) {\n  var objElement = element.parentElement;\n  if (objElement.classList.contains('collapsed')) {\n    objElement.classList.remove('collapsed');\n    objElement.classList.add('expanded');\n  } else {\n    objElement.classList.add('collapsed');\n    objElement.classList.remove('expanded');\n  }\n}\n</script>\n<div class=\"tfx-object collapsed\"><div class = \"title\" onclick=\"toggleTfxObject(this)\"><span class=\"expansion-marker\"></span><span class=\"class-name\">Channel</span> of type <span class=\"class-name\">'Examples'</span> (1 artifact)<span class=\"deemphasize\"> at 0x7fd56074d760</span></div><table class=\"attr-table\"><tr><td class=\"attr-name\">.type_name</td><td class = \"attrvalue\">Examples</td></tr><tr><td class=\"attr-name\">._artifacts</td><td class = \"attrvalue\"><table class=\"attr-table\"><tr><td class=\"attr-name\">[0]</td><td class = \"attrvalue\"><style>\n.tfx-object.expanded {\n  padding: 4px 8px 4px 8px;\n  background: white;\n  border: 1px solid #bbbbbb;\n  box-shadow: 4px 4px 2px rgba(0,0,0,0.05);\n}\nhtml[theme=dark] .tfx-object.expanded {\n  background: black;\n}\n.tfx-object, .tfx-object * {\n  font-size: 11pt;\n}\n.tfx-object > .title {\n  cursor: pointer;\n}\n.tfx-object .expansion-marker {\n  color: #999999;\n}\n.tfx-object.expanded > .title > .expansion-marker:before {\n  content: '▼';\n}\n.tfx-object.collapsed > .title > .expansion-marker:before {\n  content: '▶';\n}\n.tfx-object .class-name {\n  font-weight: bold;\n}\n.tfx-object .deemphasize {\n  opacity: 0.5;\n}\n.tfx-object.collapsed > table.attr-table {\n  display: none;\n}\n.tfx-object.expanded > table.attr-table {\n  display: block;\n}\n.tfx-object table.attr-table {\n  border: 2px solid white;\n  margin-top: 5px;\n}\nhtml[theme=dark] .tfx-object table.attr-table {\n  border: 2px solid black;\n}\n.tfx-object table.attr-table td.attr-name {\n  vertical-align: top;\n  font-weight: bold;\n}\n.tfx-object table.attr-table td.attrvalue {\n  text-align: left;\n}\n</style>\n<script>\nfunction toggleTfxObject(element) {\n  var objElement = element.parentElement;\n  if (objElement.classList.contains('collapsed')) {\n    objElement.classList.remove('collapsed');\n    objElement.classList.add('expanded');\n  } else {\n    objElement.classList.add('collapsed');\n    objElement.classList.remove('expanded');\n  }\n}\n</script>\n<div class=\"tfx-object collapsed\"><div class = \"title\" onclick=\"toggleTfxObject(this)\"><span class=\"expansion-marker\"></span><span class=\"class-name\">Artifact</span> of type <span class=\"class-name\">'Examples'</span> (uri: /tmp/tfx-interactive-2023-01-10T04_19_06.444458-1_blds93/CsvExampleGen/examples/1)<span class=\"deemphasize\"> at 0x7fd58a4a5b50</span></div><table class=\"attr-table\"><tr><td class=\"attr-name\">.type</td><td class = \"attrvalue\">&lt;class &#x27;tfx.types.standard_artifacts.Examples&#x27;&gt;</td></tr><tr><td class=\"attr-name\">.uri</td><td class = \"attrvalue\">/tmp/tfx-interactive-2023-01-10T04_19_06.444458-1_blds93/CsvExampleGen/examples/1</td></tr><tr><td class=\"attr-name\">.span</td><td class = \"attrvalue\">0</td></tr><tr><td class=\"attr-name\">.split_names</td><td class = \"attrvalue\">[&quot;train&quot;, &quot;eval&quot;]</td></tr><tr><td class=\"attr-name\">.version</td><td class = \"attrvalue\">0</td></tr></table></div></td></tr></table></td></tr></table></div></td></tr></table></td></tr></table></div>"
     },
     "execution_count": 10,
     "metadata": {},
     "output_type": "execute_result"
    }
   ],
   "source": [
    "# `input_base`에 데이터 파일만 넣어야 하며, 패턴 지정이 없는 한 하위 디렉토리는 읽지 않는다.\n",
    "csv_example_gen = CsvExampleGen(input_base=csv_dir)\n",
    "context.run(csv_example_gen)"
   ],
   "metadata": {
    "collapsed": false
   }
  },
  {
   "cell_type": "markdown",
   "source": [
    "## TFRecord 읽어들이기(tfds에서 받은 mnist trainset 사용)"
   ],
   "metadata": {
    "collapsed": false
   }
  },
  {
   "cell_type": "code",
   "execution_count": 16,
   "outputs": [
    {
     "data": {
      "text/plain": "ImportExampleGen(spec: <tfx.types.standard_component_specs.FileBasedExampleGenSpec object at 0x7fd55f5c55b0>, executor_spec: <tfx.dsl.components.base.executor_spec.BeamExecutorSpec object at 0x7fd55f5c5820>, driver_class: <class 'tfx.components.example_gen.driver.FileBasedDriver'>, component_id: ImportExampleGen, inputs: {}, outputs: {'examples': OutputChannel(artifact_type=Examples, producer_component_id=ImportExampleGen, output_key=examples, additional_properties={}, additional_custom_properties={})})",
      "text/html": "<style>\n.tfx-object.expanded {\n  padding: 4px 8px 4px 8px;\n  background: white;\n  border: 1px solid #bbbbbb;\n  box-shadow: 4px 4px 2px rgba(0,0,0,0.05);\n}\nhtml[theme=dark] .tfx-object.expanded {\n  background: black;\n}\n.tfx-object, .tfx-object * {\n  font-size: 11pt;\n}\n.tfx-object > .title {\n  cursor: pointer;\n}\n.tfx-object .expansion-marker {\n  color: #999999;\n}\n.tfx-object.expanded > .title > .expansion-marker:before {\n  content: '▼';\n}\n.tfx-object.collapsed > .title > .expansion-marker:before {\n  content: '▶';\n}\n.tfx-object .class-name {\n  font-weight: bold;\n}\n.tfx-object .deemphasize {\n  opacity: 0.5;\n}\n.tfx-object.collapsed > table.attr-table {\n  display: none;\n}\n.tfx-object.expanded > table.attr-table {\n  display: block;\n}\n.tfx-object table.attr-table {\n  border: 2px solid white;\n  margin-top: 5px;\n}\nhtml[theme=dark] .tfx-object table.attr-table {\n  border: 2px solid black;\n}\n.tfx-object table.attr-table td.attr-name {\n  vertical-align: top;\n  font-weight: bold;\n}\n.tfx-object table.attr-table td.attrvalue {\n  text-align: left;\n}\n</style>\n<script>\nfunction toggleTfxObject(element) {\n  var objElement = element.parentElement;\n  if (objElement.classList.contains('collapsed')) {\n    objElement.classList.remove('collapsed');\n    objElement.classList.add('expanded');\n  } else {\n    objElement.classList.add('collapsed');\n    objElement.classList.remove('expanded');\n  }\n}\n</script>\n<div class=\"tfx-object expanded\"><div class = \"title\" onclick=\"toggleTfxObject(this)\"><span class=\"expansion-marker\"></span><span class=\"class-name\">ImportExampleGen</span><span class=\"deemphasize\"> at 0x7fd55f727130</span></div><table class=\"attr-table\"><tr><td class=\"attr-name\">.inputs</td><td class = \"attrvalue\">{}</td></tr><tr><td class=\"attr-name\">.outputs</td><td class = \"attrvalue\"><table class=\"attr-table\"><tr><td class=\"attr-name\">['examples']</td><td class = \"attrvalue\"><style>\n.tfx-object.expanded {\n  padding: 4px 8px 4px 8px;\n  background: white;\n  border: 1px solid #bbbbbb;\n  box-shadow: 4px 4px 2px rgba(0,0,0,0.05);\n}\nhtml[theme=dark] .tfx-object.expanded {\n  background: black;\n}\n.tfx-object, .tfx-object * {\n  font-size: 11pt;\n}\n.tfx-object > .title {\n  cursor: pointer;\n}\n.tfx-object .expansion-marker {\n  color: #999999;\n}\n.tfx-object.expanded > .title > .expansion-marker:before {\n  content: '▼';\n}\n.tfx-object.collapsed > .title > .expansion-marker:before {\n  content: '▶';\n}\n.tfx-object .class-name {\n  font-weight: bold;\n}\n.tfx-object .deemphasize {\n  opacity: 0.5;\n}\n.tfx-object.collapsed > table.attr-table {\n  display: none;\n}\n.tfx-object.expanded > table.attr-table {\n  display: block;\n}\n.tfx-object table.attr-table {\n  border: 2px solid white;\n  margin-top: 5px;\n}\nhtml[theme=dark] .tfx-object table.attr-table {\n  border: 2px solid black;\n}\n.tfx-object table.attr-table td.attr-name {\n  vertical-align: top;\n  font-weight: bold;\n}\n.tfx-object table.attr-table td.attrvalue {\n  text-align: left;\n}\n</style>\n<script>\nfunction toggleTfxObject(element) {\n  var objElement = element.parentElement;\n  if (objElement.classList.contains('collapsed')) {\n    objElement.classList.remove('collapsed');\n    objElement.classList.add('expanded');\n  } else {\n    objElement.classList.add('collapsed');\n    objElement.classList.remove('expanded');\n  }\n}\n</script>\n<div class=\"tfx-object collapsed\"><div class = \"title\" onclick=\"toggleTfxObject(this)\"><span class=\"expansion-marker\"></span><span class=\"class-name\">Channel</span> of type <span class=\"class-name\">'Examples'</span> (1 artifact)<span class=\"deemphasize\"> at 0x7fd55f47a340</span></div><table class=\"attr-table\"><tr><td class=\"attr-name\">.type_name</td><td class = \"attrvalue\">Examples</td></tr><tr><td class=\"attr-name\">._artifacts</td><td class = \"attrvalue\"><table class=\"attr-table\"><tr><td class=\"attr-name\">[0]</td><td class = \"attrvalue\"><style>\n.tfx-object.expanded {\n  padding: 4px 8px 4px 8px;\n  background: white;\n  border: 1px solid #bbbbbb;\n  box-shadow: 4px 4px 2px rgba(0,0,0,0.05);\n}\nhtml[theme=dark] .tfx-object.expanded {\n  background: black;\n}\n.tfx-object, .tfx-object * {\n  font-size: 11pt;\n}\n.tfx-object > .title {\n  cursor: pointer;\n}\n.tfx-object .expansion-marker {\n  color: #999999;\n}\n.tfx-object.expanded > .title > .expansion-marker:before {\n  content: '▼';\n}\n.tfx-object.collapsed > .title > .expansion-marker:before {\n  content: '▶';\n}\n.tfx-object .class-name {\n  font-weight: bold;\n}\n.tfx-object .deemphasize {\n  opacity: 0.5;\n}\n.tfx-object.collapsed > table.attr-table {\n  display: none;\n}\n.tfx-object.expanded > table.attr-table {\n  display: block;\n}\n.tfx-object table.attr-table {\n  border: 2px solid white;\n  margin-top: 5px;\n}\nhtml[theme=dark] .tfx-object table.attr-table {\n  border: 2px solid black;\n}\n.tfx-object table.attr-table td.attr-name {\n  vertical-align: top;\n  font-weight: bold;\n}\n.tfx-object table.attr-table td.attrvalue {\n  text-align: left;\n}\n</style>\n<script>\nfunction toggleTfxObject(element) {\n  var objElement = element.parentElement;\n  if (objElement.classList.contains('collapsed')) {\n    objElement.classList.remove('collapsed');\n    objElement.classList.add('expanded');\n  } else {\n    objElement.classList.add('collapsed');\n    objElement.classList.remove('expanded');\n  }\n}\n</script>\n<div class=\"tfx-object collapsed\"><div class = \"title\" onclick=\"toggleTfxObject(this)\"><span class=\"expansion-marker\"></span><span class=\"class-name\">Artifact</span> of type <span class=\"class-name\">'Examples'</span> (uri: /tmp/tfx-interactive-2023-01-10T04_19_06.444458-1_blds93/ImportExampleGen/examples/5)<span class=\"deemphasize\"> at 0x7fd5eb79dcd0</span></div><table class=\"attr-table\"><tr><td class=\"attr-name\">.type</td><td class = \"attrvalue\">&lt;class &#x27;tfx.types.standard_artifacts.Examples&#x27;&gt;</td></tr><tr><td class=\"attr-name\">.uri</td><td class = \"attrvalue\">/tmp/tfx-interactive-2023-01-10T04_19_06.444458-1_blds93/ImportExampleGen/examples/5</td></tr><tr><td class=\"attr-name\">.span</td><td class = \"attrvalue\">0</td></tr><tr><td class=\"attr-name\">.split_names</td><td class = \"attrvalue\">[&quot;train&quot;, &quot;eval&quot;]</td></tr><tr><td class=\"attr-name\">.version</td><td class = \"attrvalue\">0</td></tr></table></div></td></tr></table></td></tr></table></div></td></tr></table></td></tr><tr><td class=\"attr-name\">.exec_properties</td><td class = \"attrvalue\"><table class=\"attr-table\"><tr><td class=\"attr-name\">['input_base']</td><td class = \"attrvalue\">/home/hakjun/projects/pipeline/data/tfrecords</td></tr><tr><td class=\"attr-name\">['input_config']</td><td class = \"attrvalue\">{\n  &quot;splits&quot;: [\n    {\n      &quot;name&quot;: &quot;single_split&quot;,\n      &quot;pattern&quot;: &quot;*&quot;\n    }\n  ]\n}</td></tr><tr><td class=\"attr-name\">['output_config']</td><td class = \"attrvalue\">{\n  &quot;split_config&quot;: {\n    &quot;splits&quot;: [\n      {\n        &quot;hash_buckets&quot;: 2,\n        &quot;name&quot;: &quot;train&quot;\n      },\n      {\n        &quot;hash_buckets&quot;: 1,\n        &quot;name&quot;: &quot;eval&quot;\n      }\n    ]\n  }\n}</td></tr><tr><td class=\"attr-name\">['output_data_format']</td><td class = \"attrvalue\">6</td></tr><tr><td class=\"attr-name\">['output_file_format']</td><td class = \"attrvalue\">5</td></tr><tr><td class=\"attr-name\">['custom_config']</td><td class = \"attrvalue\">None</td></tr><tr><td class=\"attr-name\">['range_config']</td><td class = \"attrvalue\">None</td></tr><tr><td class=\"attr-name\">['span']</td><td class = \"attrvalue\">0</td></tr><tr><td class=\"attr-name\">['version']</td><td class = \"attrvalue\">None</td></tr><tr><td class=\"attr-name\">['input_fingerprint']</td><td class = \"attrvalue\">split:single_split,num_files:1,total_bytes:19832042,xor_checksum:1673325422,sum_checksum:1673325422</td></tr></table></td></tr></table></div>"
     },
     "metadata": {},
     "output_type": "display_data"
    }
   ],
   "source": [
    "rec_example_gen = ImportExampleGen(\n",
    "    input_base=os.path.join(complaints_dir, \"records\"))\n",
    "context.run(rec_example_gen)\n",
    "context.show(rec_example_gen)"
   ],
   "metadata": {
    "collapsed": false
   }
  },
  {
   "cell_type": "markdown",
   "source": [
    "## 임의의 데이터 읽어 TFRecord로 변환하기"
   ],
   "metadata": {
    "collapsed": false
   }
  },
  {
   "cell_type": "code",
   "execution_count": 7,
   "outputs": [
    {
     "ename": "NameError",
     "evalue": "name 'tf' is not defined",
     "output_type": "error",
     "traceback": [
      "\u001B[0;31m---------------------------------------------------------------------------\u001B[0m",
      "\u001B[0;31mNameError\u001B[0m                                 Traceback (most recent call last)",
      "Cell \u001B[0;32mIn[7], line 1\u001B[0m\n\u001B[0;32m----> 1\u001B[0m filepath \u001B[38;5;241m=\u001B[39m \u001B[43mtf\u001B[49m\u001B[38;5;241m.\u001B[39mkeras\u001B[38;5;241m.\u001B[39mutils\u001B[38;5;241m.\u001B[39mget_file(\n\u001B[1;32m      2\u001B[0m     \u001B[38;5;124m\"\u001B[39m\u001B[38;5;124mcomplaints.csv.zip\u001B[39m\u001B[38;5;124m\"\u001B[39m,\n\u001B[1;32m      3\u001B[0m     \u001B[38;5;124m\"\u001B[39m\u001B[38;5;124mhttp://files.consumerfinance.gov/ccdb/complaints.csv.zip\u001B[39m\u001B[38;5;124m\"\u001B[39m\n\u001B[1;32m      4\u001B[0m )\n",
      "\u001B[0;31mNameError\u001B[0m: name 'tf' is not defined"
     ]
    }
   ],
   "source": [
    "filepath = tf.keras.utils.get_file(\n",
    "    \"complaints.csv.zip\",\n",
    "    \"http://files.consumerfinance.gov/ccdb/complaints.csv.zip\"\n",
    ")"
   ],
   "metadata": {
    "collapsed": false
   }
  },
  {
   "cell_type": "code",
   "execution_count": 6,
   "outputs": [
    {
     "ename": "FileExistsError",
     "evalue": "[Errno 17] File exists: '/home/hakjun/projects/pipeline/data/complaints/processed'",
     "output_type": "error",
     "traceback": [
      "\u001B[0;31m---------------------------------------------------------------------------\u001B[0m",
      "\u001B[0;31mFileExistsError\u001B[0m                           Traceback (most recent call last)",
      "Cell \u001B[0;32mIn[6], line 2\u001B[0m\n\u001B[1;32m      1\u001B[0m processed_dir \u001B[38;5;241m=\u001B[39m os\u001B[38;5;241m.\u001B[39mpath\u001B[38;5;241m.\u001B[39mjoin(complaints_dir, \u001B[38;5;124m\"\u001B[39m\u001B[38;5;124mprocessed\u001B[39m\u001B[38;5;124m\"\u001B[39m)\n\u001B[0;32m----> 2\u001B[0m \u001B[43mPath\u001B[49m\u001B[43m(\u001B[49m\u001B[43mprocessed_dir\u001B[49m\u001B[43m)\u001B[49m\u001B[38;5;241;43m.\u001B[39;49m\u001B[43mmkdir\u001B[49m\u001B[43m(\u001B[49m\u001B[43mparents\u001B[49m\u001B[38;5;241;43m=\u001B[39;49m\u001B[38;5;28;43;01mTrue\u001B[39;49;00m\u001B[43m,\u001B[49m\u001B[43m \u001B[49m\u001B[43mexist_ok\u001B[49m\u001B[38;5;241;43m=\u001B[39;49m\u001B[38;5;28;43;01mFalse\u001B[39;49;00m\u001B[43m)\u001B[49m\n",
      "File \u001B[0;32m~/projects/pipeline/venv/lib/python3.8/pathlib.py:1288\u001B[0m, in \u001B[0;36mPath.mkdir\u001B[0;34m(self, mode, parents, exist_ok)\u001B[0m\n\u001B[1;32m   1286\u001B[0m     \u001B[38;5;28mself\u001B[39m\u001B[38;5;241m.\u001B[39m_raise_closed()\n\u001B[1;32m   1287\u001B[0m \u001B[38;5;28;01mtry\u001B[39;00m:\n\u001B[0;32m-> 1288\u001B[0m     \u001B[38;5;28;43mself\u001B[39;49m\u001B[38;5;241;43m.\u001B[39;49m\u001B[43m_accessor\u001B[49m\u001B[38;5;241;43m.\u001B[39;49m\u001B[43mmkdir\u001B[49m\u001B[43m(\u001B[49m\u001B[38;5;28;43mself\u001B[39;49m\u001B[43m,\u001B[49m\u001B[43m \u001B[49m\u001B[43mmode\u001B[49m\u001B[43m)\u001B[49m\n\u001B[1;32m   1289\u001B[0m \u001B[38;5;28;01mexcept\u001B[39;00m \u001B[38;5;167;01mFileNotFoundError\u001B[39;00m:\n\u001B[1;32m   1290\u001B[0m     \u001B[38;5;28;01mif\u001B[39;00m \u001B[38;5;129;01mnot\u001B[39;00m parents \u001B[38;5;129;01mor\u001B[39;00m \u001B[38;5;28mself\u001B[39m\u001B[38;5;241m.\u001B[39mparent \u001B[38;5;241m==\u001B[39m \u001B[38;5;28mself\u001B[39m:\n",
      "\u001B[0;31mFileExistsError\u001B[0m: [Errno 17] File exists: '/home/hakjun/projects/pipeline/data/complaints/processed'"
     ]
    }
   ],
   "source": [
    "processed_dir = os.path.join(complaints_dir, \"processed\")\n",
    "Path(processed_dir).mkdir(parents=True, exist_ok=False)"
   ],
   "metadata": {
    "collapsed": false
   }
  },
  {
   "cell_type": "code",
   "execution_count": 7,
   "outputs": [],
   "source": [
    "# VM 인스턴스에서 너무 느려서 직접 풀고 주석 처리\n",
    "# shutil.unpack_archive(filepath, data_dir)"
   ],
   "metadata": {
    "collapsed": false
   }
  },
  {
   "cell_type": "code",
   "execution_count": 4,
   "outputs": [
    {
     "name": "stderr",
     "output_type": "stream",
     "text": [
      "/tmp/ipykernel_18450/2008693550.py:1: DtypeWarning: Columns (9,16) have mixed types. Specify dtype option on import or set low_memory=False.\n",
      "  df = pd.read_csv(os.path.join(complaints_dir, \"raw\", \"complaints.csv\"))\n"
     ]
    }
   ],
   "source": [
    "df = pd.read_csv(os.path.join(complaints_dir, \"raw\", \"complaints.csv\"))"
   ],
   "metadata": {
    "collapsed": false
   }
  },
  {
   "cell_type": "code",
   "execution_count": 5,
   "outputs": [
    {
     "data": {
      "text/plain": "Index(['Date received', 'Product', 'Sub-product', 'Issue', 'Sub-issue',\n       'Consumer complaint narrative', 'Company public response', 'Company',\n       'State', 'ZIP code', 'Tags', 'Consumer consent provided?',\n       'Submitted via', 'Date sent to company', 'Company response to consumer',\n       'Timely response?', 'Consumer disputed?', 'Complaint ID'],\n      dtype='object')"
     },
     "execution_count": 5,
     "metadata": {},
     "output_type": "execute_result"
    }
   ],
   "source": [
    "df.columns"
   ],
   "metadata": {
    "collapsed": false
   }
  },
  {
   "cell_type": "code",
   "execution_count": 6,
   "outputs": [],
   "source": [
    "df.loc[df[\"Consumer disputed?\"] == \"\", \"Consumer disputed?\"] = np.nan"
   ],
   "metadata": {
    "collapsed": false
   }
  },
  {
   "cell_type": "code",
   "execution_count": 7,
   "outputs": [],
   "source": [
    "# 다음 열 중 비어 있는 레코드는 제외\n",
    "df = df.dropna(subset=[\"Consumer complaint narrative\", \"Consumer disputed?\", \"ZIP code\"])"
   ],
   "metadata": {
    "collapsed": false
   }
  },
  {
   "cell_type": "code",
   "execution_count": 8,
   "outputs": [
    {
     "data": {
      "text/plain": "{'No', 'Yes'}"
     },
     "execution_count": 8,
     "metadata": {},
     "output_type": "execute_result"
    }
   ],
   "source": [
    "# \"Consumer disputed?\" 열은 카테고리임을 알 수 있다.\n",
    "set(df[\"Consumer disputed?\"].values)"
   ],
   "metadata": {
    "collapsed": false
   }
  },
  {
   "cell_type": "code",
   "execution_count": 9,
   "outputs": [],
   "source": [
    "# 이 열을 0과 1인 바이너리로 인코딩\n",
    "df.loc[df[\"Consumer disputed?\"] == \"Yes\", \"Consumer disputed?\"] = 1\n",
    "df.loc[df[\"Consumer disputed?\"] == \"No\", \"Consumer disputed?\"] = 0"
   ],
   "metadata": {
    "collapsed": false
   }
  },
  {
   "cell_type": "code",
   "execution_count": 10,
   "outputs": [
    {
     "name": "stderr",
     "output_type": "stream",
     "text": [
      "/tmp/ipykernel_18450/1779365420.py:2: FutureWarning: The default value of regex will change from True to False in a future version.\n",
      "  df[\"ZIP code\"] = df.astype({\"ZIP code\": \"string\"})[\"ZIP code\"].str.replace(\".0\", \"\")\n"
     ]
    }
   ],
   "source": [
    "# \"ZIP code\"열 전처리\n",
    "df[\"ZIP code\"] = df.astype({\"ZIP code\": \"string\"})[\"ZIP code\"].str.replace(\".0\", \"\")"
   ],
   "metadata": {
    "collapsed": false
   }
  },
  {
   "cell_type": "code",
   "execution_count": 11,
   "outputs": [],
   "source": [
    "# 빈 문자열이거나 null을 \"000000\"로 변환\n",
    "df.loc[df[\"ZIP code\"] == \"\", \"ZIP code\"] = \"000000\"\n",
    "df.loc[pd.isna(df[\"ZIP code\"]), \"ZIP code\"] = \"000000\""
   ],
   "metadata": {
    "collapsed": false
   }
  },
  {
   "cell_type": "code",
   "execution_count": 12,
   "outputs": [],
   "source": [
    "df = df[df[\"ZIP code\"].str.len() == 5]"
   ],
   "metadata": {
    "collapsed": false
   }
  },
  {
   "cell_type": "code",
   "execution_count": 13,
   "outputs": [
    {
     "data": {
      "text/plain": "       Date received       Product                     Sub-product  \\\n136386    2016-05-09      Mortgage     Conventional fixed mortgage   \n144085    2016-06-01      Mortgage     Conventional fixed mortgage   \n148160    2017-04-18      Mortgage                    FHA mortgage   \n148164    2017-04-17  Student loan  Federal student loan servicing   \n148166    2017-04-21  Student loan        Non-federal student loan   \n\n                                           Issue  \\\n136386  Loan servicing, payments, escrow account   \n144085  Loan servicing, payments, escrow account   \n148160  Loan modification,collection,foreclosure   \n148164        Dealing with my lender or servicer   \n148166        Dealing with my lender or servicer   \n\n                                    Sub-issue  \\\n136386                                    NaN   \n144085                                    NaN   \n148160                                    NaN   \n148164  Having problems with customer service   \n148166  Trouble with how payments are handled   \n\n                             Consumer complaint narrative  \\\n136386  XXXX of XXXX complaints regarding same company...   \n144085  My Mortgage Company, Ditech, failed to apply p...   \n148160  My husband and I are going through a financial...   \n148164  In XX/XX/2016 I contacted ACS regarding incorr...   \n148166  This complaint is further evidence tha t Navie...   \n\n                                  Company public response  \\\n136386  Company has responded to the consumer and the ...   \n144085  Company believes complaint is the result of an...   \n148160                                                NaN   \n148164                                                NaN   \n148166                                                NaN   \n\n                                        Company State ZIP code Tags  \\\n136386  Specialized Loan Servicing Holdings LLC    CA    95472  NaN   \n144085                     Ditech Financial LLC    SC    29414  NaN   \n148160             PENNYMAC LOAN SERVICES, LLC.    AZ    85338  NaN   \n148164                   ACS Education Services    CA    92223  NaN   \n148166                  Navient Solutions, LLC.    TX    78746  NaN   \n\n       Consumer consent provided? Submitted via Date sent to company  \\\n136386           Consent provided           Web           2016-05-09   \n144085           Consent provided           Web           2016-06-01   \n148160           Consent provided           Web           2017-04-18   \n148164           Consent provided           Web           2017-04-17   \n148166           Consent provided           Web           2017-04-21   \n\n       Company response to consumer Timely response? Consumer disputed?  \\\n136386      Closed with explanation              Yes                  0   \n144085      Closed with explanation              Yes                  1   \n148160      Closed with explanation              Yes                  0   \n148164      Closed with explanation              Yes                  0   \n148166      Closed with explanation              Yes                  0   \n\n        Complaint ID  \n136386       1915601  \n144085       1950363  \n148160       2440537  \n148164       2438881  \n148166       2446956  ",
      "text/html": "<div>\n<style scoped>\n    .dataframe tbody tr th:only-of-type {\n        vertical-align: middle;\n    }\n\n    .dataframe tbody tr th {\n        vertical-align: top;\n    }\n\n    .dataframe thead th {\n        text-align: right;\n    }\n</style>\n<table border=\"1\" class=\"dataframe\">\n  <thead>\n    <tr style=\"text-align: right;\">\n      <th></th>\n      <th>Date received</th>\n      <th>Product</th>\n      <th>Sub-product</th>\n      <th>Issue</th>\n      <th>Sub-issue</th>\n      <th>Consumer complaint narrative</th>\n      <th>Company public response</th>\n      <th>Company</th>\n      <th>State</th>\n      <th>ZIP code</th>\n      <th>Tags</th>\n      <th>Consumer consent provided?</th>\n      <th>Submitted via</th>\n      <th>Date sent to company</th>\n      <th>Company response to consumer</th>\n      <th>Timely response?</th>\n      <th>Consumer disputed?</th>\n      <th>Complaint ID</th>\n    </tr>\n  </thead>\n  <tbody>\n    <tr>\n      <th>136386</th>\n      <td>2016-05-09</td>\n      <td>Mortgage</td>\n      <td>Conventional fixed mortgage</td>\n      <td>Loan servicing, payments, escrow account</td>\n      <td>NaN</td>\n      <td>XXXX of XXXX complaints regarding same company...</td>\n      <td>Company has responded to the consumer and the ...</td>\n      <td>Specialized Loan Servicing Holdings LLC</td>\n      <td>CA</td>\n      <td>95472</td>\n      <td>NaN</td>\n      <td>Consent provided</td>\n      <td>Web</td>\n      <td>2016-05-09</td>\n      <td>Closed with explanation</td>\n      <td>Yes</td>\n      <td>0</td>\n      <td>1915601</td>\n    </tr>\n    <tr>\n      <th>144085</th>\n      <td>2016-06-01</td>\n      <td>Mortgage</td>\n      <td>Conventional fixed mortgage</td>\n      <td>Loan servicing, payments, escrow account</td>\n      <td>NaN</td>\n      <td>My Mortgage Company, Ditech, failed to apply p...</td>\n      <td>Company believes complaint is the result of an...</td>\n      <td>Ditech Financial LLC</td>\n      <td>SC</td>\n      <td>29414</td>\n      <td>NaN</td>\n      <td>Consent provided</td>\n      <td>Web</td>\n      <td>2016-06-01</td>\n      <td>Closed with explanation</td>\n      <td>Yes</td>\n      <td>1</td>\n      <td>1950363</td>\n    </tr>\n    <tr>\n      <th>148160</th>\n      <td>2017-04-18</td>\n      <td>Mortgage</td>\n      <td>FHA mortgage</td>\n      <td>Loan modification,collection,foreclosure</td>\n      <td>NaN</td>\n      <td>My husband and I are going through a financial...</td>\n      <td>NaN</td>\n      <td>PENNYMAC LOAN SERVICES, LLC.</td>\n      <td>AZ</td>\n      <td>85338</td>\n      <td>NaN</td>\n      <td>Consent provided</td>\n      <td>Web</td>\n      <td>2017-04-18</td>\n      <td>Closed with explanation</td>\n      <td>Yes</td>\n      <td>0</td>\n      <td>2440537</td>\n    </tr>\n    <tr>\n      <th>148164</th>\n      <td>2017-04-17</td>\n      <td>Student loan</td>\n      <td>Federal student loan servicing</td>\n      <td>Dealing with my lender or servicer</td>\n      <td>Having problems with customer service</td>\n      <td>In XX/XX/2016 I contacted ACS regarding incorr...</td>\n      <td>NaN</td>\n      <td>ACS Education Services</td>\n      <td>CA</td>\n      <td>92223</td>\n      <td>NaN</td>\n      <td>Consent provided</td>\n      <td>Web</td>\n      <td>2017-04-17</td>\n      <td>Closed with explanation</td>\n      <td>Yes</td>\n      <td>0</td>\n      <td>2438881</td>\n    </tr>\n    <tr>\n      <th>148166</th>\n      <td>2017-04-21</td>\n      <td>Student loan</td>\n      <td>Non-federal student loan</td>\n      <td>Dealing with my lender or servicer</td>\n      <td>Trouble with how payments are handled</td>\n      <td>This complaint is further evidence tha t Navie...</td>\n      <td>NaN</td>\n      <td>Navient Solutions, LLC.</td>\n      <td>TX</td>\n      <td>78746</td>\n      <td>NaN</td>\n      <td>Consent provided</td>\n      <td>Web</td>\n      <td>2017-04-21</td>\n      <td>Closed with explanation</td>\n      <td>Yes</td>\n      <td>0</td>\n      <td>2446956</td>\n    </tr>\n  </tbody>\n</table>\n</div>"
     },
     "execution_count": 13,
     "metadata": {},
     "output_type": "execute_result"
    }
   ],
   "source": [
    "df.head()"
   ],
   "metadata": {
    "collapsed": false
   }
  },
  {
   "cell_type": "code",
   "execution_count": 14,
   "outputs": [],
   "source": [
    "df[\"ZIP code\"] = df[\"ZIP code\"].str.replace(\"XX\", \"00\")\n",
    "df = df.reset_index(drop=True)\n",
    "df[\"ZIP code\"] = pd.to_numeric(df[\"ZIP code\"], errors=\"coerce\")\n",
    "df = df[df[\"ZIP code\"].notna()]\n",
    "df[\"ZIP code\"] = df[\"ZIP code\"].astype(\"int\")"
   ],
   "metadata": {
    "collapsed": false
   }
  },
  {
   "cell_type": "code",
   "execution_count": 15,
   "outputs": [
    {
     "ename": "NameError",
     "evalue": "name 'processed_dir' is not defined",
     "output_type": "error",
     "traceback": [
      "\u001B[0;31m---------------------------------------------------------------------------\u001B[0m",
      "\u001B[0;31mNameError\u001B[0m                                 Traceback (most recent call last)",
      "Cell \u001B[0;32mIn[15], line 1\u001B[0m\n\u001B[0;32m----> 1\u001B[0m df\u001B[38;5;241m.\u001B[39mto_csv(os\u001B[38;5;241m.\u001B[39mpath\u001B[38;5;241m.\u001B[39mjoin(\u001B[43mprocessed_dir\u001B[49m, \u001B[38;5;124m\"\u001B[39m\u001B[38;5;124mprocessed-complaints.csv\u001B[39m\u001B[38;5;124m\"\u001B[39m), index\u001B[38;5;241m=\u001B[39m\u001B[38;5;28;01mFalse\u001B[39;00m)\n",
      "\u001B[0;31mNameError\u001B[0m: name 'processed_dir' is not defined"
     ]
    }
   ],
   "source": [
    "df.to_csv(os.path.join(processed_dir, \"processed-complaints.csv\"), index=False)"
   ],
   "metadata": {
    "collapsed": false
   }
  },
  {
   "cell_type": "code",
   "execution_count": 16,
   "outputs": [],
   "source": [
    "def _bytes_feature(value: str):\n",
    "    return tf.train.Feature(\n",
    "        bytes_list=tf.train.BytesList(value=[value.encode()])\n",
    "    )\n",
    "\n",
    "\n",
    "def _float_feature(value: float):\n",
    "    return tf.train.Feature(\n",
    "        float_list=tf.train.FloatList(value=[value])\n",
    "    )\n",
    "\n",
    "\n",
    "def __int64_feature(value: int):\n",
    "    return tf.train.Feature(\n",
    "        int64_list=tf.train.Int64List(value=[value])\n",
    "    )"
   ],
   "metadata": {
    "collapsed": false
   }
  },
  {
   "cell_type": "code",
   "execution_count": 21,
   "outputs": [],
   "source": [
    "df = pd.read_csv(os.path.join(processed_dir, \"processed-complaints.csv\"))"
   ],
   "metadata": {
    "collapsed": false
   }
  },
  {
   "cell_type": "code",
   "execution_count": 17,
   "outputs": [],
   "source": [
    "# 분할된 tfrecord들을 ExampleGen으로 읽는 경우도 생각해서 쪼개 놓겠다\n",
    "train_num_samples = int(0.5 * len(df))\n",
    "eval_num_samples = int(0.2 * len(df))\n",
    "test_num_samples = len(df) - (train_num_samples + eval_num_samples)\n",
    "\n",
    "trainset = df.iloc[:train_num_samples]\n",
    "evalset = df.iloc[train_num_samples:train_num_samples + eval_num_samples]\n",
    "testset = df.iloc[train_num_samples + eval_num_samples:]"
   ],
   "metadata": {
    "collapsed": false
   }
  },
  {
   "cell_type": "code",
   "execution_count": 18,
   "outputs": [],
   "source": [
    "record_path = os.path.join(complaints_dir, \"records\", \"consumer-complaints.tfrecord\")\n",
    "split_dir = os.path.join(complaints_dir, 'splits')"
   ],
   "metadata": {
    "collapsed": false
   }
  },
  {
   "cell_type": "code",
   "execution_count": 19,
   "outputs": [],
   "source": [
    "# writer 컨텍스트 내에서 파일 생성이 아니라면 종료 전 `record_writer.close()`를 실행할 것.\n",
    "def write_tfrecord(dataframe, filepath):\n",
    "    with tf.io.TFRecordWriter(filepath) as record_writer:\n",
    "        for idx, row in dataframe.iterrows():\n",
    "            example = tf.train.Example(\n",
    "                features=tf.train.Features(\n",
    "                    feature={\n",
    "                        \"product\": _bytes_feature(str(row[\"Product\"])),\n",
    "                        \"sub_product\": _bytes_feature(str(row[\"Sub-product\"])),\n",
    "                        \"issue\": _bytes_feature(str(row[\"Issue\"])),\n",
    "                        \"sub_issue\": _bytes_feature(str(row[\"Sub-issue\"])),\n",
    "                        \"state\": _bytes_feature(str(row[\"State\"])),\n",
    "                        \"zip_code\": __int64_feature(int(row[\"ZIP code\"])),\n",
    "                        \"company\": _bytes_feature(str(row[\"Company\"])),\n",
    "                        \"company_response\": _bytes_feature(str(row[\"Company public response\"])),\n",
    "                        \"timely_response\": _bytes_feature(str(row[\"Timely response?\"])),\n",
    "                        \"consumer_disputed\": _float_feature(float(row[\"Consumer disputed?\"])),\n",
    "                        \"consumer_complaint_narrative\": _bytes_feature(str(row[\"Consumer complaint narrative\"]))\n",
    "                    }\n",
    "                )\n",
    "            )\n",
    "            # 데이터 직렬화\n",
    "            record_writer.write(example.SerializeToString())"
   ],
   "metadata": {
    "collapsed": false
   }
  },
  {
   "cell_type": "code",
   "execution_count": 21,
   "outputs": [],
   "source": [
    "write_tfrecord(df, record_path)\n",
    "\n",
    "write_tfrecord(trainset, os.path.join(split_dir, \"train.tfrecord\"))\n",
    "write_tfrecord(evalset, os.path.join(split_dir, \"eval.tfrecord\"))\n",
    "write_tfrecord(testset, os.path.join(split_dir, \"test.tfrecord\"))"
   ],
   "metadata": {
    "collapsed": false
   }
  },
  {
   "cell_type": "code",
   "execution_count": 36,
   "outputs": [
    {
     "data": {
      "text/plain": "ImportExampleGen(spec: <tfx.types.standard_component_specs.FileBasedExampleGenSpec object at 0x7f9cddb9f9a0>, executor_spec: <tfx.dsl.components.base.executor_spec.BeamExecutorSpec object at 0x7f9cddb9f160>, driver_class: <class 'tfx.components.example_gen.driver.FileBasedDriver'>, component_id: ImportExampleGen, inputs: {}, outputs: {'examples': OutputChannel(artifact_type=Examples, producer_component_id=ImportExampleGen, output_key=examples, additional_properties={}, additional_custom_properties={})})",
      "text/html": "<style>\n.tfx-object.expanded {\n  padding: 4px 8px 4px 8px;\n  background: white;\n  border: 1px solid #bbbbbb;\n  box-shadow: 4px 4px 2px rgba(0,0,0,0.05);\n}\nhtml[theme=dark] .tfx-object.expanded {\n  background: black;\n}\n.tfx-object, .tfx-object * {\n  font-size: 11pt;\n}\n.tfx-object > .title {\n  cursor: pointer;\n}\n.tfx-object .expansion-marker {\n  color: #999999;\n}\n.tfx-object.expanded > .title > .expansion-marker:before {\n  content: '▼';\n}\n.tfx-object.collapsed > .title > .expansion-marker:before {\n  content: '▶';\n}\n.tfx-object .class-name {\n  font-weight: bold;\n}\n.tfx-object .deemphasize {\n  opacity: 0.5;\n}\n.tfx-object.collapsed > table.attr-table {\n  display: none;\n}\n.tfx-object.expanded > table.attr-table {\n  display: block;\n}\n.tfx-object table.attr-table {\n  border: 2px solid white;\n  margin-top: 5px;\n}\nhtml[theme=dark] .tfx-object table.attr-table {\n  border: 2px solid black;\n}\n.tfx-object table.attr-table td.attr-name {\n  vertical-align: top;\n  font-weight: bold;\n}\n.tfx-object table.attr-table td.attrvalue {\n  text-align: left;\n}\n</style>\n<script>\nfunction toggleTfxObject(element) {\n  var objElement = element.parentElement;\n  if (objElement.classList.contains('collapsed')) {\n    objElement.classList.remove('collapsed');\n    objElement.classList.add('expanded');\n  } else {\n    objElement.classList.add('collapsed');\n    objElement.classList.remove('expanded');\n  }\n}\n</script>\n<div class=\"tfx-object expanded\"><div class = \"title\" onclick=\"toggleTfxObject(this)\"><span class=\"expansion-marker\"></span><span class=\"class-name\">ImportExampleGen</span><span class=\"deemphasize\"> at 0x7f9cddb9f4f0</span></div><table class=\"attr-table\"><tr><td class=\"attr-name\">.inputs</td><td class = \"attrvalue\">{}</td></tr><tr><td class=\"attr-name\">.outputs</td><td class = \"attrvalue\"><table class=\"attr-table\"><tr><td class=\"attr-name\">['examples']</td><td class = \"attrvalue\"><style>\n.tfx-object.expanded {\n  padding: 4px 8px 4px 8px;\n  background: white;\n  border: 1px solid #bbbbbb;\n  box-shadow: 4px 4px 2px rgba(0,0,0,0.05);\n}\nhtml[theme=dark] .tfx-object.expanded {\n  background: black;\n}\n.tfx-object, .tfx-object * {\n  font-size: 11pt;\n}\n.tfx-object > .title {\n  cursor: pointer;\n}\n.tfx-object .expansion-marker {\n  color: #999999;\n}\n.tfx-object.expanded > .title > .expansion-marker:before {\n  content: '▼';\n}\n.tfx-object.collapsed > .title > .expansion-marker:before {\n  content: '▶';\n}\n.tfx-object .class-name {\n  font-weight: bold;\n}\n.tfx-object .deemphasize {\n  opacity: 0.5;\n}\n.tfx-object.collapsed > table.attr-table {\n  display: none;\n}\n.tfx-object.expanded > table.attr-table {\n  display: block;\n}\n.tfx-object table.attr-table {\n  border: 2px solid white;\n  margin-top: 5px;\n}\nhtml[theme=dark] .tfx-object table.attr-table {\n  border: 2px solid black;\n}\n.tfx-object table.attr-table td.attr-name {\n  vertical-align: top;\n  font-weight: bold;\n}\n.tfx-object table.attr-table td.attrvalue {\n  text-align: left;\n}\n</style>\n<script>\nfunction toggleTfxObject(element) {\n  var objElement = element.parentElement;\n  if (objElement.classList.contains('collapsed')) {\n    objElement.classList.remove('collapsed');\n    objElement.classList.add('expanded');\n  } else {\n    objElement.classList.add('collapsed');\n    objElement.classList.remove('expanded');\n  }\n}\n</script>\n<div class=\"tfx-object collapsed\"><div class = \"title\" onclick=\"toggleTfxObject(this)\"><span class=\"expansion-marker\"></span><span class=\"class-name\">Channel</span> of type <span class=\"class-name\">'Examples'</span> (1 artifact)<span class=\"deemphasize\"> at 0x7f9ce08b5b50</span></div><table class=\"attr-table\"><tr><td class=\"attr-name\">.type_name</td><td class = \"attrvalue\">Examples</td></tr><tr><td class=\"attr-name\">._artifacts</td><td class = \"attrvalue\"><table class=\"attr-table\"><tr><td class=\"attr-name\">[0]</td><td class = \"attrvalue\"><style>\n.tfx-object.expanded {\n  padding: 4px 8px 4px 8px;\n  background: white;\n  border: 1px solid #bbbbbb;\n  box-shadow: 4px 4px 2px rgba(0,0,0,0.05);\n}\nhtml[theme=dark] .tfx-object.expanded {\n  background: black;\n}\n.tfx-object, .tfx-object * {\n  font-size: 11pt;\n}\n.tfx-object > .title {\n  cursor: pointer;\n}\n.tfx-object .expansion-marker {\n  color: #999999;\n}\n.tfx-object.expanded > .title > .expansion-marker:before {\n  content: '▼';\n}\n.tfx-object.collapsed > .title > .expansion-marker:before {\n  content: '▶';\n}\n.tfx-object .class-name {\n  font-weight: bold;\n}\n.tfx-object .deemphasize {\n  opacity: 0.5;\n}\n.tfx-object.collapsed > table.attr-table {\n  display: none;\n}\n.tfx-object.expanded > table.attr-table {\n  display: block;\n}\n.tfx-object table.attr-table {\n  border: 2px solid white;\n  margin-top: 5px;\n}\nhtml[theme=dark] .tfx-object table.attr-table {\n  border: 2px solid black;\n}\n.tfx-object table.attr-table td.attr-name {\n  vertical-align: top;\n  font-weight: bold;\n}\n.tfx-object table.attr-table td.attrvalue {\n  text-align: left;\n}\n</style>\n<script>\nfunction toggleTfxObject(element) {\n  var objElement = element.parentElement;\n  if (objElement.classList.contains('collapsed')) {\n    objElement.classList.remove('collapsed');\n    objElement.classList.add('expanded');\n  } else {\n    objElement.classList.add('collapsed');\n    objElement.classList.remove('expanded');\n  }\n}\n</script>\n<div class=\"tfx-object collapsed\"><div class = \"title\" onclick=\"toggleTfxObject(this)\"><span class=\"expansion-marker\"></span><span class=\"class-name\">Artifact</span> of type <span class=\"class-name\">'Examples'</span> (uri: /tmp/tfx-interactive-2023-01-12T02_09_36.578374-9iejjbtz/ImportExampleGen/examples/2)<span class=\"deemphasize\"> at 0x7f9cd9f826d0</span></div><table class=\"attr-table\"><tr><td class=\"attr-name\">.type</td><td class = \"attrvalue\">&lt;class &#x27;tfx.types.standard_artifacts.Examples&#x27;&gt;</td></tr><tr><td class=\"attr-name\">.uri</td><td class = \"attrvalue\">/tmp/tfx-interactive-2023-01-12T02_09_36.578374-9iejjbtz/ImportExampleGen/examples/2</td></tr><tr><td class=\"attr-name\">.span</td><td class = \"attrvalue\">0</td></tr><tr><td class=\"attr-name\">.split_names</td><td class = \"attrvalue\">[&quot;train&quot;, &quot;eval&quot;]</td></tr><tr><td class=\"attr-name\">.version</td><td class = \"attrvalue\">0</td></tr></table></div></td></tr></table></td></tr></table></div></td></tr></table></td></tr><tr><td class=\"attr-name\">.exec_properties</td><td class = \"attrvalue\"><table class=\"attr-table\"><tr><td class=\"attr-name\">['input_base']</td><td class = \"attrvalue\">/home/hakjun/projects/pipeline/data/complaints/records</td></tr><tr><td class=\"attr-name\">['input_config']</td><td class = \"attrvalue\">{\n  &quot;splits&quot;: [\n    {\n      &quot;name&quot;: &quot;single_split&quot;,\n      &quot;pattern&quot;: &quot;*&quot;\n    }\n  ]\n}</td></tr><tr><td class=\"attr-name\">['output_config']</td><td class = \"attrvalue\">{\n  &quot;split_config&quot;: {\n    &quot;splits&quot;: [\n      {\n        &quot;hash_buckets&quot;: 2,\n        &quot;name&quot;: &quot;train&quot;\n      },\n      {\n        &quot;hash_buckets&quot;: 1,\n        &quot;name&quot;: &quot;eval&quot;\n      }\n    ]\n  }\n}</td></tr><tr><td class=\"attr-name\">['output_data_format']</td><td class = \"attrvalue\">6</td></tr><tr><td class=\"attr-name\">['output_file_format']</td><td class = \"attrvalue\">5</td></tr><tr><td class=\"attr-name\">['custom_config']</td><td class = \"attrvalue\">None</td></tr><tr><td class=\"attr-name\">['range_config']</td><td class = \"attrvalue\">None</td></tr><tr><td class=\"attr-name\">['span']</td><td class = \"attrvalue\">0</td></tr><tr><td class=\"attr-name\">['version']</td><td class = \"attrvalue\">None</td></tr><tr><td class=\"attr-name\">['input_fingerprint']</td><td class = \"attrvalue\">split:single_split,num_files:1,total_bytes:100971035,xor_checksum:1673489812,sum_checksum:1673489812</td></tr></table></td></tr></table></div>"
     },
     "metadata": {},
     "output_type": "display_data"
    }
   ],
   "source": [
    "# 이렇게 만든 tfrecord 파일을 이제 ExampleGen 컴포넌트로 읽어들일 수 있다.\n",
    "rec_example_gen = ImportExampleGen(\n",
    "    input_base=os.path.join(complaints_dir, \"records\"))\n",
    "context.run(rec_example_gen)\n",
    "context.show(rec_example_gen)"
   ],
   "metadata": {
    "collapsed": false
   }
  },
  {
   "cell_type": "markdown",
   "source": [
    "## 원격 데이터 수집"
   ],
   "metadata": {
    "collapsed": false
   }
  },
  {
   "cell_type": "code",
   "execution_count": 64,
   "outputs": [
    {
     "ename": "RuntimeError",
     "evalue": "Split pattern gs://example_compliance_data/* does not match any files.",
     "output_type": "error",
     "traceback": [
      "\u001B[0;31m---------------------------------------------------------------------------\u001B[0m",
      "\u001B[0;31mRuntimeError\u001B[0m                              Traceback (most recent call last)",
      "Cell \u001B[0;32mIn[64], line 2\u001B[0m\n\u001B[1;32m      1\u001B[0m remote_example_gen \u001B[38;5;241m=\u001B[39m CsvExampleGen(input_base\u001B[38;5;241m=\u001B[39m\u001B[38;5;124m\"\u001B[39m\u001B[38;5;124mgs://example_compliance_data/\u001B[39m\u001B[38;5;124m\"\u001B[39m)\n\u001B[0;32m----> 2\u001B[0m \u001B[43mcontext\u001B[49m\u001B[38;5;241;43m.\u001B[39;49m\u001B[43mrun\u001B[49m\u001B[43m(\u001B[49m\u001B[43mremote_example_gen\u001B[49m\u001B[43m)\u001B[49m\n\u001B[1;32m      3\u001B[0m context\u001B[38;5;241m.\u001B[39mshow(remote_example_gen)\n",
      "File \u001B[0;32m~/projects/pipeline/venv/lib/python3.8/site-packages/tfx/orchestration/experimental/interactive/notebook_utils.py:31\u001B[0m, in \u001B[0;36mrequires_ipython.<locals>.run_if_ipython\u001B[0;34m(*args, **kwargs)\u001B[0m\n\u001B[1;32m     27\u001B[0m \u001B[38;5;250m\u001B[39m\u001B[38;5;124;03m\"\"\"Invokes `fn` if called from IPython, otherwise just emits a warning.\"\"\"\u001B[39;00m\n\u001B[1;32m     28\u001B[0m \u001B[38;5;28;01mif\u001B[39;00m \u001B[38;5;28mgetattr\u001B[39m(builtins, \u001B[38;5;124m'\u001B[39m\u001B[38;5;124m__IPYTHON__\u001B[39m\u001B[38;5;124m'\u001B[39m, \u001B[38;5;28;01mNone\u001B[39;00m):\n\u001B[1;32m     29\u001B[0m   \u001B[38;5;66;03m# __IPYTHON__ variable is set by IPython, see\u001B[39;00m\n\u001B[1;32m     30\u001B[0m   \u001B[38;5;66;03m# https://ipython.org/ipython-doc/rel-0.10.2/html/interactive/reference.html#embedding-ipython.\u001B[39;00m\n\u001B[0;32m---> 31\u001B[0m   \u001B[38;5;28;01mreturn\u001B[39;00m \u001B[43mfn\u001B[49m\u001B[43m(\u001B[49m\u001B[38;5;241;43m*\u001B[39;49m\u001B[43margs\u001B[49m\u001B[43m,\u001B[49m\u001B[43m \u001B[49m\u001B[38;5;241;43m*\u001B[39;49m\u001B[38;5;241;43m*\u001B[39;49m\u001B[43mkwargs\u001B[49m\u001B[43m)\u001B[49m\n\u001B[1;32m     32\u001B[0m \u001B[38;5;28;01melse\u001B[39;00m:\n\u001B[1;32m     33\u001B[0m   logging\u001B[38;5;241m.\u001B[39mwarning(\n\u001B[1;32m     34\u001B[0m       \u001B[38;5;124m'\u001B[39m\u001B[38;5;124mMethod \u001B[39m\u001B[38;5;124m\"\u001B[39m\u001B[38;5;132;01m%s\u001B[39;00m\u001B[38;5;124m\"\u001B[39m\u001B[38;5;124m is a no-op when invoked outside of IPython.\u001B[39m\u001B[38;5;124m'\u001B[39m,\n\u001B[1;32m     35\u001B[0m       fn\u001B[38;5;241m.\u001B[39m\u001B[38;5;18m__name__\u001B[39m)\n",
      "File \u001B[0;32m~/projects/pipeline/venv/lib/python3.8/site-packages/tfx/orchestration/experimental/interactive/interactive_context.py:164\u001B[0m, in \u001B[0;36mInteractiveContext.run\u001B[0;34m(self, component, enable_cache, beam_pipeline_args)\u001B[0m\n\u001B[1;32m    160\u001B[0m   runner_label \u001B[38;5;241m=\u001B[39m \u001B[38;5;124m'\u001B[39m\u001B[38;5;124minteractivecontext\u001B[39m\u001B[38;5;124m'\u001B[39m\n\u001B[1;32m    161\u001B[0m \u001B[38;5;28;01mwith\u001B[39;00m telemetry_utils\u001B[38;5;241m.\u001B[39mscoped_labels({\n\u001B[1;32m    162\u001B[0m     telemetry_utils\u001B[38;5;241m.\u001B[39mLABEL_TFX_RUNNER: runner_label,\n\u001B[1;32m    163\u001B[0m }):\n\u001B[0;32m--> 164\u001B[0m   execution_id \u001B[38;5;241m=\u001B[39m \u001B[43mlauncher\u001B[49m\u001B[38;5;241;43m.\u001B[39;49m\u001B[43mlaunch\u001B[49m\u001B[43m(\u001B[49m\u001B[43m)\u001B[49m\u001B[38;5;241m.\u001B[39mexecution_id\n\u001B[1;32m    166\u001B[0m \u001B[38;5;28;01mreturn\u001B[39;00m execution_result\u001B[38;5;241m.\u001B[39mExecutionResult(\n\u001B[1;32m    167\u001B[0m     component\u001B[38;5;241m=\u001B[39mcomponent, execution_id\u001B[38;5;241m=\u001B[39mexecution_id)\n",
      "File \u001B[0;32m~/projects/pipeline/venv/lib/python3.8/site-packages/tfx/orchestration/launcher/base_component_launcher.py:206\u001B[0m, in \u001B[0;36mBaseComponentLauncher.launch\u001B[0;34m(self)\u001B[0m\n\u001B[1;32m    201\u001B[0m   absl\u001B[38;5;241m.\u001B[39mlogging\u001B[38;5;241m.\u001B[39minfo(\u001B[38;5;124m'\u001B[39m\u001B[38;5;124mRunning executor for \u001B[39m\u001B[38;5;132;01m%s\u001B[39;00m\u001B[38;5;124m'\u001B[39m,\n\u001B[1;32m    202\u001B[0m                     \u001B[38;5;28mself\u001B[39m\u001B[38;5;241m.\u001B[39m_component_info\u001B[38;5;241m.\u001B[39mcomponent_id)\n\u001B[1;32m    203\u001B[0m   \u001B[38;5;66;03m# Make a deep copy for input_dict and exec_properties, because they should\u001B[39;00m\n\u001B[1;32m    204\u001B[0m   \u001B[38;5;66;03m# be immutable in this context.\u001B[39;00m\n\u001B[1;32m    205\u001B[0m   \u001B[38;5;66;03m# output_dict can still be changed, specifically properties.\u001B[39;00m\n\u001B[0;32m--> 206\u001B[0m   \u001B[38;5;28;43mself\u001B[39;49m\u001B[38;5;241;43m.\u001B[39;49m\u001B[43m_run_executor\u001B[49m\u001B[43m(\u001B[49m\u001B[43mexecution_decision\u001B[49m\u001B[38;5;241;43m.\u001B[39;49m\u001B[43mexecution_id\u001B[49m\u001B[43m,\u001B[49m\n\u001B[1;32m    207\u001B[0m \u001B[43m                     \u001B[49m\u001B[43mcopy\u001B[49m\u001B[38;5;241;43m.\u001B[39;49m\u001B[43mdeepcopy\u001B[49m\u001B[43m(\u001B[49m\u001B[43mexecution_decision\u001B[49m\u001B[38;5;241;43m.\u001B[39;49m\u001B[43minput_dict\u001B[49m\u001B[43m)\u001B[49m\u001B[43m,\u001B[49m\n\u001B[1;32m    208\u001B[0m \u001B[43m                     \u001B[49m\u001B[43mexecution_decision\u001B[49m\u001B[38;5;241;43m.\u001B[39;49m\u001B[43moutput_dict\u001B[49m\u001B[43m,\u001B[49m\n\u001B[1;32m    209\u001B[0m \u001B[43m                     \u001B[49m\u001B[43mcopy\u001B[49m\u001B[38;5;241;43m.\u001B[39;49m\u001B[43mdeepcopy\u001B[49m\u001B[43m(\u001B[49m\u001B[43mexecution_decision\u001B[49m\u001B[38;5;241;43m.\u001B[39;49m\u001B[43mexec_properties\u001B[49m\u001B[43m)\u001B[49m\u001B[43m)\u001B[49m\n\u001B[1;32m    211\u001B[0m absl\u001B[38;5;241m.\u001B[39mlogging\u001B[38;5;241m.\u001B[39minfo(\u001B[38;5;124m'\u001B[39m\u001B[38;5;124mRunning publisher for \u001B[39m\u001B[38;5;132;01m%s\u001B[39;00m\u001B[38;5;124m'\u001B[39m,\n\u001B[1;32m    212\u001B[0m                   \u001B[38;5;28mself\u001B[39m\u001B[38;5;241m.\u001B[39m_component_info\u001B[38;5;241m.\u001B[39mcomponent_id)\n\u001B[1;32m    213\u001B[0m \u001B[38;5;28mself\u001B[39m\u001B[38;5;241m.\u001B[39m_run_publisher(output_dict\u001B[38;5;241m=\u001B[39mexecution_decision\u001B[38;5;241m.\u001B[39moutput_dict)\n",
      "File \u001B[0;32m~/projects/pipeline/venv/lib/python3.8/site-packages/tfx/orchestration/launcher/in_process_component_launcher.py:73\u001B[0m, in \u001B[0;36mInProcessComponentLauncher._run_executor\u001B[0;34m(self, execution_id, input_dict, output_dict, exec_properties)\u001B[0m\n\u001B[1;32m     67\u001B[0m executor \u001B[38;5;241m=\u001B[39m executor_class_spec\u001B[38;5;241m.\u001B[39mexecutor_class(\n\u001B[1;32m     68\u001B[0m     executor_context)  \u001B[38;5;66;03m# type: ignore\u001B[39;00m\n\u001B[1;32m     70\u001B[0m \u001B[38;5;66;03m# Make a deep copy for input_dict and exec_properties, because they should\u001B[39;00m\n\u001B[1;32m     71\u001B[0m \u001B[38;5;66;03m# be immutable in this context.\u001B[39;00m\n\u001B[1;32m     72\u001B[0m \u001B[38;5;66;03m# output_dict can still be changed, specifically properties.\u001B[39;00m\n\u001B[0;32m---> 73\u001B[0m \u001B[43mexecutor\u001B[49m\u001B[38;5;241;43m.\u001B[39;49m\u001B[43mDo\u001B[49m\u001B[43m(\u001B[49m\n\u001B[1;32m     74\u001B[0m \u001B[43m    \u001B[49m\u001B[43mcopy\u001B[49m\u001B[38;5;241;43m.\u001B[39;49m\u001B[43mdeepcopy\u001B[49m\u001B[43m(\u001B[49m\u001B[43minput_dict\u001B[49m\u001B[43m)\u001B[49m\u001B[43m,\u001B[49m\u001B[43m \u001B[49m\u001B[43moutput_dict\u001B[49m\u001B[43m,\u001B[49m\u001B[43m \u001B[49m\u001B[43mcopy\u001B[49m\u001B[38;5;241;43m.\u001B[39;49m\u001B[43mdeepcopy\u001B[49m\u001B[43m(\u001B[49m\u001B[43mexec_properties\u001B[49m\u001B[43m)\u001B[49m\u001B[43m)\u001B[49m\n",
      "File \u001B[0;32m~/projects/pipeline/venv/lib/python3.8/site-packages/tfx/components/example_gen/base_example_gen_executor.py:279\u001B[0m, in \u001B[0;36mBaseExampleGenExecutor.Do\u001B[0;34m(self, input_dict, output_dict, exec_properties)\u001B[0m\n\u001B[1;32m    277\u001B[0m logging\u001B[38;5;241m.\u001B[39minfo(\u001B[38;5;124m'\u001B[39m\u001B[38;5;124mGenerating examples.\u001B[39m\u001B[38;5;124m'\u001B[39m)\n\u001B[1;32m    278\u001B[0m \u001B[38;5;28;01mwith\u001B[39;00m \u001B[38;5;28mself\u001B[39m\u001B[38;5;241m.\u001B[39m_make_beam_pipeline() \u001B[38;5;28;01mas\u001B[39;00m pipeline:\n\u001B[0;32m--> 279\u001B[0m   example_splits \u001B[38;5;241m=\u001B[39m \u001B[38;5;28;43mself\u001B[39;49m\u001B[38;5;241;43m.\u001B[39;49m\u001B[43mGenerateExamplesByBeam\u001B[49m\u001B[43m(\u001B[49m\u001B[43mpipeline\u001B[49m\u001B[43m,\u001B[49m\u001B[43m \u001B[49m\u001B[43mexec_properties\u001B[49m\u001B[43m)\u001B[49m\n\u001B[1;32m    281\u001B[0m   \u001B[38;5;66;03m# pylint: disable=expression-not-assigned, no-value-for-parameter\u001B[39;00m\n\u001B[1;32m    282\u001B[0m   \u001B[38;5;28;01mfor\u001B[39;00m split_name, example_split \u001B[38;5;129;01min\u001B[39;00m example_splits\u001B[38;5;241m.\u001B[39mitems():\n",
      "File \u001B[0;32m~/projects/pipeline/venv/lib/python3.8/site-packages/tfx/components/example_gen/base_example_gen_executor.py:201\u001B[0m, in \u001B[0;36mBaseExampleGenExecutor.GenerateExamplesByBeam\u001B[0;34m(self, pipeline, exec_properties)\u001B[0m\n\u001B[1;32m    198\u001B[0m     total_buckets \u001B[38;5;241m+\u001B[39m\u001B[38;5;241m=\u001B[39m split\u001B[38;5;241m.\u001B[39mhash_buckets\n\u001B[1;32m    199\u001B[0m     buckets\u001B[38;5;241m.\u001B[39mappend(total_buckets)\n\u001B[1;32m    200\u001B[0m   example_splits \u001B[38;5;241m=\u001B[39m (\n\u001B[0;32m--> 201\u001B[0m       \u001B[43mpipeline\u001B[49m\n\u001B[1;32m    202\u001B[0m \u001B[43m      \u001B[49m\u001B[38;5;241;43m|\u001B[39;49m\u001B[43m \u001B[49m\u001B[38;5;124;43m'\u001B[39;49m\u001B[38;5;124;43mInputToRecord\u001B[39;49m\u001B[38;5;124;43m'\u001B[39;49m\u001B[43m \u001B[49m\u001B[38;5;241;43m>>\u001B[39;49m\n\u001B[1;32m    203\u001B[0m \u001B[43m      \u001B[49m\u001B[38;5;66;43;03m# pylint: disable=no-value-for-parameter\u001B[39;49;00m\n\u001B[1;32m    204\u001B[0m \u001B[43m      \u001B[49m\u001B[43minput_to_record\u001B[49m\u001B[43m(\u001B[49m\u001B[43mexec_properties\u001B[49m\u001B[43m,\u001B[49m\u001B[43m \u001B[49m\u001B[43minput_config\u001B[49m\u001B[38;5;241;43m.\u001B[39;49m\u001B[43msplits\u001B[49m\u001B[43m[\u001B[49m\u001B[38;5;241;43m0\u001B[39;49m\u001B[43m]\u001B[49m\u001B[38;5;241;43m.\u001B[39;49m\u001B[43mpattern\u001B[49m\u001B[43m)\u001B[49m\n\u001B[1;32m    205\u001B[0m       \u001B[38;5;241m|\u001B[39m \u001B[38;5;124m'\u001B[39m\u001B[38;5;124mSplitData\u001B[39m\u001B[38;5;124m'\u001B[39m \u001B[38;5;241m>>\u001B[39m beam\u001B[38;5;241m.\u001B[39mPartition(_PartitionFn, \u001B[38;5;28mlen\u001B[39m(buckets), buckets,\n\u001B[1;32m    206\u001B[0m                                       output_config\u001B[38;5;241m.\u001B[39msplit_config))\n\u001B[1;32m    207\u001B[0m \u001B[38;5;28;01melse\u001B[39;00m:\n\u001B[1;32m    208\u001B[0m   \u001B[38;5;66;03m# Use input splits.\u001B[39;00m\n\u001B[1;32m    209\u001B[0m   \u001B[38;5;28;01mfor\u001B[39;00m split \u001B[38;5;129;01min\u001B[39;00m input_config\u001B[38;5;241m.\u001B[39msplits:\n",
      "File \u001B[0;32m~/projects/pipeline/venv/lib/python3.8/site-packages/apache_beam/transforms/ptransform.py:1095\u001B[0m, in \u001B[0;36m_NamedPTransform.__ror__\u001B[0;34m(self, pvalueish, _unused)\u001B[0m\n\u001B[1;32m   1094\u001B[0m \u001B[38;5;28;01mdef\u001B[39;00m \u001B[38;5;21m__ror__\u001B[39m(\u001B[38;5;28mself\u001B[39m, pvalueish, _unused\u001B[38;5;241m=\u001B[39m\u001B[38;5;28;01mNone\u001B[39;00m):\n\u001B[0;32m-> 1095\u001B[0m   \u001B[38;5;28;01mreturn\u001B[39;00m \u001B[38;5;28;43mself\u001B[39;49m\u001B[38;5;241;43m.\u001B[39;49m\u001B[43mtransform\u001B[49m\u001B[38;5;241;43m.\u001B[39;49m\u001B[38;5;21;43m__ror__\u001B[39;49m\u001B[43m(\u001B[49m\u001B[43mpvalueish\u001B[49m\u001B[43m,\u001B[49m\u001B[43m \u001B[49m\u001B[38;5;28;43mself\u001B[39;49m\u001B[38;5;241;43m.\u001B[39;49m\u001B[43mlabel\u001B[49m\u001B[43m)\u001B[49m\n",
      "File \u001B[0;32m~/projects/pipeline/venv/lib/python3.8/site-packages/apache_beam/transforms/ptransform.py:617\u001B[0m, in \u001B[0;36mPTransform.__ror__\u001B[0;34m(self, left, label)\u001B[0m\n\u001B[1;32m    615\u001B[0m pvalueish \u001B[38;5;241m=\u001B[39m _SetInputPValues()\u001B[38;5;241m.\u001B[39mvisit(pvalueish, replacements)\n\u001B[1;32m    616\u001B[0m \u001B[38;5;28mself\u001B[39m\u001B[38;5;241m.\u001B[39mpipeline \u001B[38;5;241m=\u001B[39m p\n\u001B[0;32m--> 617\u001B[0m result \u001B[38;5;241m=\u001B[39m \u001B[43mp\u001B[49m\u001B[38;5;241;43m.\u001B[39;49m\u001B[43mapply\u001B[49m\u001B[43m(\u001B[49m\u001B[38;5;28;43mself\u001B[39;49m\u001B[43m,\u001B[49m\u001B[43m \u001B[49m\u001B[43mpvalueish\u001B[49m\u001B[43m,\u001B[49m\u001B[43m \u001B[49m\u001B[43mlabel\u001B[49m\u001B[43m)\u001B[49m\n\u001B[1;32m    618\u001B[0m \u001B[38;5;28;01mif\u001B[39;00m deferred:\n\u001B[1;32m    619\u001B[0m   \u001B[38;5;28;01mreturn\u001B[39;00m result\n",
      "File \u001B[0;32m~/projects/pipeline/venv/lib/python3.8/site-packages/apache_beam/pipeline.py:663\u001B[0m, in \u001B[0;36mPipeline.apply\u001B[0;34m(self, transform, pvalueish, label)\u001B[0m\n\u001B[1;32m    661\u001B[0m old_label, transform\u001B[38;5;241m.\u001B[39mlabel \u001B[38;5;241m=\u001B[39m transform\u001B[38;5;241m.\u001B[39mlabel, label\n\u001B[1;32m    662\u001B[0m \u001B[38;5;28;01mtry\u001B[39;00m:\n\u001B[0;32m--> 663\u001B[0m   \u001B[38;5;28;01mreturn\u001B[39;00m \u001B[38;5;28;43mself\u001B[39;49m\u001B[38;5;241;43m.\u001B[39;49m\u001B[43mapply\u001B[49m\u001B[43m(\u001B[49m\u001B[43mtransform\u001B[49m\u001B[43m,\u001B[49m\u001B[43m \u001B[49m\u001B[43mpvalueish\u001B[49m\u001B[43m)\u001B[49m\n\u001B[1;32m    664\u001B[0m \u001B[38;5;28;01mfinally\u001B[39;00m:\n\u001B[1;32m    665\u001B[0m   transform\u001B[38;5;241m.\u001B[39mlabel \u001B[38;5;241m=\u001B[39m old_label\n",
      "File \u001B[0;32m~/projects/pipeline/venv/lib/python3.8/site-packages/apache_beam/pipeline.py:709\u001B[0m, in \u001B[0;36mPipeline.apply\u001B[0;34m(self, transform, pvalueish, label)\u001B[0m\n\u001B[1;32m    706\u001B[0m \u001B[38;5;28;01mif\u001B[39;00m type_options\u001B[38;5;241m.\u001B[39mpipeline_type_check:\n\u001B[1;32m    707\u001B[0m   transform\u001B[38;5;241m.\u001B[39mtype_check_inputs(pvalueish)\n\u001B[0;32m--> 709\u001B[0m pvalueish_result \u001B[38;5;241m=\u001B[39m \u001B[38;5;28;43mself\u001B[39;49m\u001B[38;5;241;43m.\u001B[39;49m\u001B[43mrunner\u001B[49m\u001B[38;5;241;43m.\u001B[39;49m\u001B[43mapply\u001B[49m\u001B[43m(\u001B[49m\u001B[43mtransform\u001B[49m\u001B[43m,\u001B[49m\u001B[43m \u001B[49m\u001B[43mpvalueish\u001B[49m\u001B[43m,\u001B[49m\u001B[43m \u001B[49m\u001B[38;5;28;43mself\u001B[39;49m\u001B[38;5;241;43m.\u001B[39;49m\u001B[43m_options\u001B[49m\u001B[43m)\u001B[49m\n\u001B[1;32m    711\u001B[0m \u001B[38;5;28;01mif\u001B[39;00m type_options \u001B[38;5;129;01mis\u001B[39;00m \u001B[38;5;129;01mnot\u001B[39;00m \u001B[38;5;28;01mNone\u001B[39;00m \u001B[38;5;129;01mand\u001B[39;00m type_options\u001B[38;5;241m.\u001B[39mpipeline_type_check:\n\u001B[1;32m    712\u001B[0m   transform\u001B[38;5;241m.\u001B[39mtype_check_outputs(pvalueish_result)\n",
      "File \u001B[0;32m~/projects/pipeline/venv/lib/python3.8/site-packages/apache_beam/runners/runner.py:185\u001B[0m, in \u001B[0;36mPipelineRunner.apply\u001B[0;34m(self, transform, input, options)\u001B[0m\n\u001B[1;32m    183\u001B[0m   m \u001B[38;5;241m=\u001B[39m \u001B[38;5;28mgetattr\u001B[39m(\u001B[38;5;28mself\u001B[39m, \u001B[38;5;124m'\u001B[39m\u001B[38;5;124mapply_\u001B[39m\u001B[38;5;132;01m%s\u001B[39;00m\u001B[38;5;124m'\u001B[39m \u001B[38;5;241m%\u001B[39m \u001B[38;5;28mcls\u001B[39m\u001B[38;5;241m.\u001B[39m\u001B[38;5;18m__name__\u001B[39m, \u001B[38;5;28;01mNone\u001B[39;00m)\n\u001B[1;32m    184\u001B[0m   \u001B[38;5;28;01mif\u001B[39;00m m:\n\u001B[0;32m--> 185\u001B[0m     \u001B[38;5;28;01mreturn\u001B[39;00m \u001B[43mm\u001B[49m\u001B[43m(\u001B[49m\u001B[43mtransform\u001B[49m\u001B[43m,\u001B[49m\u001B[43m \u001B[49m\u001B[38;5;28;43minput\u001B[39;49m\u001B[43m,\u001B[49m\u001B[43m \u001B[49m\u001B[43moptions\u001B[49m\u001B[43m)\u001B[49m\n\u001B[1;32m    186\u001B[0m \u001B[38;5;28;01mraise\u001B[39;00m \u001B[38;5;167;01mNotImplementedError\u001B[39;00m(\n\u001B[1;32m    187\u001B[0m     \u001B[38;5;124m'\u001B[39m\u001B[38;5;124mExecution of [\u001B[39m\u001B[38;5;132;01m%s\u001B[39;00m\u001B[38;5;124m] not implemented in runner \u001B[39m\u001B[38;5;132;01m%s\u001B[39;00m\u001B[38;5;124m.\u001B[39m\u001B[38;5;124m'\u001B[39m \u001B[38;5;241m%\u001B[39m (transform, \u001B[38;5;28mself\u001B[39m))\n",
      "File \u001B[0;32m~/projects/pipeline/venv/lib/python3.8/site-packages/apache_beam/runners/runner.py:215\u001B[0m, in \u001B[0;36mPipelineRunner.apply_PTransform\u001B[0;34m(self, transform, input, options)\u001B[0m\n\u001B[1;32m    213\u001B[0m \u001B[38;5;28;01mdef\u001B[39;00m \u001B[38;5;21mapply_PTransform\u001B[39m(\u001B[38;5;28mself\u001B[39m, transform, \u001B[38;5;28minput\u001B[39m, options):\n\u001B[1;32m    214\u001B[0m   \u001B[38;5;66;03m# The base case of apply is to call the transform's expand.\u001B[39;00m\n\u001B[0;32m--> 215\u001B[0m   \u001B[38;5;28;01mreturn\u001B[39;00m \u001B[43mtransform\u001B[49m\u001B[38;5;241;43m.\u001B[39;49m\u001B[43mexpand\u001B[49m\u001B[43m(\u001B[49m\u001B[38;5;28;43minput\u001B[39;49m\u001B[43m)\u001B[49m\n",
      "File \u001B[0;32m~/projects/pipeline/venv/lib/python3.8/site-packages/tfx/components/example_gen/csv_example_gen/executor.py:183\u001B[0m, in \u001B[0;36m_CsvToExample.expand\u001B[0;34m(self, pipeline)\u001B[0m\n\u001B[1;32m    181\u001B[0m csv_files \u001B[38;5;241m=\u001B[39m fileio\u001B[38;5;241m.\u001B[39mglob(\u001B[38;5;28mself\u001B[39m\u001B[38;5;241m.\u001B[39m_csv_pattern)\n\u001B[1;32m    182\u001B[0m \u001B[38;5;28;01mif\u001B[39;00m \u001B[38;5;129;01mnot\u001B[39;00m csv_files:\n\u001B[0;32m--> 183\u001B[0m   \u001B[38;5;28;01mraise\u001B[39;00m \u001B[38;5;167;01mRuntimeError\u001B[39;00m(\u001B[38;5;124m'\u001B[39m\u001B[38;5;124mSplit pattern \u001B[39m\u001B[38;5;132;01m{}\u001B[39;00m\u001B[38;5;124m does not match any files.\u001B[39m\u001B[38;5;124m'\u001B[39m\u001B[38;5;241m.\u001B[39mformat(\n\u001B[1;32m    184\u001B[0m       \u001B[38;5;28mself\u001B[39m\u001B[38;5;241m.\u001B[39m_csv_pattern))\n\u001B[1;32m    186\u001B[0m column_names \u001B[38;5;241m=\u001B[39m io_utils\u001B[38;5;241m.\u001B[39mload_csv_column_names(csv_files[\u001B[38;5;241m0\u001B[39m])\n\u001B[1;32m    187\u001B[0m \u001B[38;5;28;01mfor\u001B[39;00m csv_file \u001B[38;5;129;01min\u001B[39;00m csv_files[\u001B[38;5;241m1\u001B[39m:]:\n",
      "\u001B[0;31mRuntimeError\u001B[0m: Split pattern gs://example_compliance_data/* does not match any files."
     ]
    }
   ],
   "source": [
    "# 가상의 스토리지이므로 작동 안 함\n",
    "remote_example_gen = CsvExampleGen(input_base=\"gs://example/\")\n",
    "context.run(remote_example_gen)\n",
    "context.show(remote_example_gen)"
   ],
   "metadata": {
    "collapsed": false
   }
  },
  {
   "cell_type": "markdown",
   "source": [
    "# 데이터 준비"
   ],
   "metadata": {
    "collapsed": false
   }
  },
  {
   "cell_type": "markdown",
   "source": [
    "## 데이터 분할"
   ],
   "metadata": {
    "collapsed": false
   }
  },
  {
   "cell_type": "markdown",
   "source": [
    "### 직접 분할 지정"
   ],
   "metadata": {
    "collapsed": false
   }
  },
  {
   "cell_type": "code",
   "execution_count": 71,
   "outputs": [
    {
     "data": {
      "text/plain": "ExecutionResult(\n    component_id: CsvExampleGen\n    execution_id: 1\n    outputs:\n        examples: OutputChannel(artifact_type=Examples, producer_component_id=CsvExampleGen, output_key=examples, additional_properties={}, additional_custom_properties={}))",
      "text/html": "<style>\n.tfx-object.expanded {\n  padding: 4px 8px 4px 8px;\n  background: white;\n  border: 1px solid #bbbbbb;\n  box-shadow: 4px 4px 2px rgba(0,0,0,0.05);\n}\nhtml[theme=dark] .tfx-object.expanded {\n  background: black;\n}\n.tfx-object, .tfx-object * {\n  font-size: 11pt;\n}\n.tfx-object > .title {\n  cursor: pointer;\n}\n.tfx-object .expansion-marker {\n  color: #999999;\n}\n.tfx-object.expanded > .title > .expansion-marker:before {\n  content: '▼';\n}\n.tfx-object.collapsed > .title > .expansion-marker:before {\n  content: '▶';\n}\n.tfx-object .class-name {\n  font-weight: bold;\n}\n.tfx-object .deemphasize {\n  opacity: 0.5;\n}\n.tfx-object.collapsed > table.attr-table {\n  display: none;\n}\n.tfx-object.expanded > table.attr-table {\n  display: block;\n}\n.tfx-object table.attr-table {\n  border: 2px solid white;\n  margin-top: 5px;\n}\nhtml[theme=dark] .tfx-object table.attr-table {\n  border: 2px solid black;\n}\n.tfx-object table.attr-table td.attr-name {\n  vertical-align: top;\n  font-weight: bold;\n}\n.tfx-object table.attr-table td.attrvalue {\n  text-align: left;\n}\n</style>\n<script>\nfunction toggleTfxObject(element) {\n  var objElement = element.parentElement;\n  if (objElement.classList.contains('collapsed')) {\n    objElement.classList.remove('collapsed');\n    objElement.classList.add('expanded');\n  } else {\n    objElement.classList.add('collapsed');\n    objElement.classList.remove('expanded');\n  }\n}\n</script>\n<div class=\"tfx-object expanded\"><div class = \"title\" onclick=\"toggleTfxObject(this)\"><span class=\"expansion-marker\"></span><span class=\"class-name\">ExecutionResult</span><span class=\"deemphasize\"> at 0x7f905ac2f100</span></div><table class=\"attr-table\"><tr><td class=\"attr-name\">.execution_id</td><td class = \"attrvalue\">1</td></tr><tr><td class=\"attr-name\">.component</td><td class = \"attrvalue\"><style>\n.tfx-object.expanded {\n  padding: 4px 8px 4px 8px;\n  background: white;\n  border: 1px solid #bbbbbb;\n  box-shadow: 4px 4px 2px rgba(0,0,0,0.05);\n}\nhtml[theme=dark] .tfx-object.expanded {\n  background: black;\n}\n.tfx-object, .tfx-object * {\n  font-size: 11pt;\n}\n.tfx-object > .title {\n  cursor: pointer;\n}\n.tfx-object .expansion-marker {\n  color: #999999;\n}\n.tfx-object.expanded > .title > .expansion-marker:before {\n  content: '▼';\n}\n.tfx-object.collapsed > .title > .expansion-marker:before {\n  content: '▶';\n}\n.tfx-object .class-name {\n  font-weight: bold;\n}\n.tfx-object .deemphasize {\n  opacity: 0.5;\n}\n.tfx-object.collapsed > table.attr-table {\n  display: none;\n}\n.tfx-object.expanded > table.attr-table {\n  display: block;\n}\n.tfx-object table.attr-table {\n  border: 2px solid white;\n  margin-top: 5px;\n}\nhtml[theme=dark] .tfx-object table.attr-table {\n  border: 2px solid black;\n}\n.tfx-object table.attr-table td.attr-name {\n  vertical-align: top;\n  font-weight: bold;\n}\n.tfx-object table.attr-table td.attrvalue {\n  text-align: left;\n}\n</style>\n<script>\nfunction toggleTfxObject(element) {\n  var objElement = element.parentElement;\n  if (objElement.classList.contains('collapsed')) {\n    objElement.classList.remove('collapsed');\n    objElement.classList.add('expanded');\n  } else {\n    objElement.classList.add('collapsed');\n    objElement.classList.remove('expanded');\n  }\n}\n</script>\n<div class=\"tfx-object collapsed\"><div class = \"title\" onclick=\"toggleTfxObject(this)\"><span class=\"expansion-marker\"></span><span class=\"class-name\">CsvExampleGen</span><span class=\"deemphasize\"> at 0x7f905dc153a0</span></div><table class=\"attr-table\"><tr><td class=\"attr-name\">.inputs</td><td class = \"attrvalue\">{}</td></tr><tr><td class=\"attr-name\">.outputs</td><td class = \"attrvalue\"><table class=\"attr-table\"><tr><td class=\"attr-name\">['examples']</td><td class = \"attrvalue\"><style>\n.tfx-object.expanded {\n  padding: 4px 8px 4px 8px;\n  background: white;\n  border: 1px solid #bbbbbb;\n  box-shadow: 4px 4px 2px rgba(0,0,0,0.05);\n}\nhtml[theme=dark] .tfx-object.expanded {\n  background: black;\n}\n.tfx-object, .tfx-object * {\n  font-size: 11pt;\n}\n.tfx-object > .title {\n  cursor: pointer;\n}\n.tfx-object .expansion-marker {\n  color: #999999;\n}\n.tfx-object.expanded > .title > .expansion-marker:before {\n  content: '▼';\n}\n.tfx-object.collapsed > .title > .expansion-marker:before {\n  content: '▶';\n}\n.tfx-object .class-name {\n  font-weight: bold;\n}\n.tfx-object .deemphasize {\n  opacity: 0.5;\n}\n.tfx-object.collapsed > table.attr-table {\n  display: none;\n}\n.tfx-object.expanded > table.attr-table {\n  display: block;\n}\n.tfx-object table.attr-table {\n  border: 2px solid white;\n  margin-top: 5px;\n}\nhtml[theme=dark] .tfx-object table.attr-table {\n  border: 2px solid black;\n}\n.tfx-object table.attr-table td.attr-name {\n  vertical-align: top;\n  font-weight: bold;\n}\n.tfx-object table.attr-table td.attrvalue {\n  text-align: left;\n}\n</style>\n<script>\nfunction toggleTfxObject(element) {\n  var objElement = element.parentElement;\n  if (objElement.classList.contains('collapsed')) {\n    objElement.classList.remove('collapsed');\n    objElement.classList.add('expanded');\n  } else {\n    objElement.classList.add('collapsed');\n    objElement.classList.remove('expanded');\n  }\n}\n</script>\n<div class=\"tfx-object collapsed\"><div class = \"title\" onclick=\"toggleTfxObject(this)\"><span class=\"expansion-marker\"></span><span class=\"class-name\">Channel</span> of type <span class=\"class-name\">'Examples'</span> (1 artifact)<span class=\"deemphasize\"> at 0x7f90565c6ac0</span></div><table class=\"attr-table\"><tr><td class=\"attr-name\">.type_name</td><td class = \"attrvalue\">Examples</td></tr><tr><td class=\"attr-name\">._artifacts</td><td class = \"attrvalue\"><table class=\"attr-table\"><tr><td class=\"attr-name\">[0]</td><td class = \"attrvalue\"><style>\n.tfx-object.expanded {\n  padding: 4px 8px 4px 8px;\n  background: white;\n  border: 1px solid #bbbbbb;\n  box-shadow: 4px 4px 2px rgba(0,0,0,0.05);\n}\nhtml[theme=dark] .tfx-object.expanded {\n  background: black;\n}\n.tfx-object, .tfx-object * {\n  font-size: 11pt;\n}\n.tfx-object > .title {\n  cursor: pointer;\n}\n.tfx-object .expansion-marker {\n  color: #999999;\n}\n.tfx-object.expanded > .title > .expansion-marker:before {\n  content: '▼';\n}\n.tfx-object.collapsed > .title > .expansion-marker:before {\n  content: '▶';\n}\n.tfx-object .class-name {\n  font-weight: bold;\n}\n.tfx-object .deemphasize {\n  opacity: 0.5;\n}\n.tfx-object.collapsed > table.attr-table {\n  display: none;\n}\n.tfx-object.expanded > table.attr-table {\n  display: block;\n}\n.tfx-object table.attr-table {\n  border: 2px solid white;\n  margin-top: 5px;\n}\nhtml[theme=dark] .tfx-object table.attr-table {\n  border: 2px solid black;\n}\n.tfx-object table.attr-table td.attr-name {\n  vertical-align: top;\n  font-weight: bold;\n}\n.tfx-object table.attr-table td.attrvalue {\n  text-align: left;\n}\n</style>\n<script>\nfunction toggleTfxObject(element) {\n  var objElement = element.parentElement;\n  if (objElement.classList.contains('collapsed')) {\n    objElement.classList.remove('collapsed');\n    objElement.classList.add('expanded');\n  } else {\n    objElement.classList.add('collapsed');\n    objElement.classList.remove('expanded');\n  }\n}\n</script>\n<div class=\"tfx-object collapsed\"><div class = \"title\" onclick=\"toggleTfxObject(this)\"><span class=\"expansion-marker\"></span><span class=\"class-name\">Artifact</span> of type <span class=\"class-name\">'Examples'</span> (uri: /tmp/tfx-interactive-2023-01-10T06_37_47.936270-f9j737lv/CsvExampleGen/examples/1)<span class=\"deemphasize\"> at 0x7f90565c6b20</span></div><table class=\"attr-table\"><tr><td class=\"attr-name\">.type</td><td class = \"attrvalue\">&lt;class &#x27;tfx.types.standard_artifacts.Examples&#x27;&gt;</td></tr><tr><td class=\"attr-name\">.uri</td><td class = \"attrvalue\">/tmp/tfx-interactive-2023-01-10T06_37_47.936270-f9j737lv/CsvExampleGen/examples/1</td></tr><tr><td class=\"attr-name\">.span</td><td class = \"attrvalue\">0</td></tr><tr><td class=\"attr-name\">.split_names</td><td class = \"attrvalue\">[&quot;train&quot;, &quot;eval&quot;, &quot;test&quot;]</td></tr><tr><td class=\"attr-name\">.version</td><td class = \"attrvalue\">0</td></tr></table></div></td></tr></table></td></tr></table></div></td></tr></table></td></tr><tr><td class=\"attr-name\">.exec_properties</td><td class = \"attrvalue\"><table class=\"attr-table\"><tr><td class=\"attr-name\">['input_base']</td><td class = \"attrvalue\">/home/hakjun/projects/pipeline/data/taxi</td></tr><tr><td class=\"attr-name\">['input_config']</td><td class = \"attrvalue\">{\n  &quot;splits&quot;: [\n    {\n      &quot;name&quot;: &quot;single_split&quot;,\n      &quot;pattern&quot;: &quot;*&quot;\n    }\n  ]\n}</td></tr><tr><td class=\"attr-name\">['output_config']</td><td class = \"attrvalue\">{\n  &quot;split_config&quot;: {\n    &quot;splits&quot;: [\n      {\n        &quot;hash_buckets&quot;: 6,\n        &quot;name&quot;: &quot;train&quot;\n      },\n      {\n        &quot;hash_buckets&quot;: 2,\n        &quot;name&quot;: &quot;eval&quot;\n      },\n      {\n        &quot;hash_buckets&quot;: 2,\n        &quot;name&quot;: &quot;test&quot;\n      }\n    ]\n  }\n}</td></tr><tr><td class=\"attr-name\">['output_data_format']</td><td class = \"attrvalue\">6</td></tr><tr><td class=\"attr-name\">['output_file_format']</td><td class = \"attrvalue\">5</td></tr><tr><td class=\"attr-name\">['custom_config']</td><td class = \"attrvalue\">None</td></tr><tr><td class=\"attr-name\">['range_config']</td><td class = \"attrvalue\">None</td></tr><tr><td class=\"attr-name\">['span']</td><td class = \"attrvalue\">0</td></tr><tr><td class=\"attr-name\">['version']</td><td class = \"attrvalue\">None</td></tr><tr><td class=\"attr-name\">['input_fingerprint']</td><td class = \"attrvalue\">split:single_split,num_files:1,total_bytes:1922812,xor_checksum:1673313402,sum_checksum:1673313402</td></tr></table></td></tr></table></div></td></tr><tr><td class=\"attr-name\">.component.inputs</td><td class = \"attrvalue\">{}</td></tr><tr><td class=\"attr-name\">.component.outputs</td><td class = \"attrvalue\"><table class=\"attr-table\"><tr><td class=\"attr-name\">['examples']</td><td class = \"attrvalue\"><style>\n.tfx-object.expanded {\n  padding: 4px 8px 4px 8px;\n  background: white;\n  border: 1px solid #bbbbbb;\n  box-shadow: 4px 4px 2px rgba(0,0,0,0.05);\n}\nhtml[theme=dark] .tfx-object.expanded {\n  background: black;\n}\n.tfx-object, .tfx-object * {\n  font-size: 11pt;\n}\n.tfx-object > .title {\n  cursor: pointer;\n}\n.tfx-object .expansion-marker {\n  color: #999999;\n}\n.tfx-object.expanded > .title > .expansion-marker:before {\n  content: '▼';\n}\n.tfx-object.collapsed > .title > .expansion-marker:before {\n  content: '▶';\n}\n.tfx-object .class-name {\n  font-weight: bold;\n}\n.tfx-object .deemphasize {\n  opacity: 0.5;\n}\n.tfx-object.collapsed > table.attr-table {\n  display: none;\n}\n.tfx-object.expanded > table.attr-table {\n  display: block;\n}\n.tfx-object table.attr-table {\n  border: 2px solid white;\n  margin-top: 5px;\n}\nhtml[theme=dark] .tfx-object table.attr-table {\n  border: 2px solid black;\n}\n.tfx-object table.attr-table td.attr-name {\n  vertical-align: top;\n  font-weight: bold;\n}\n.tfx-object table.attr-table td.attrvalue {\n  text-align: left;\n}\n</style>\n<script>\nfunction toggleTfxObject(element) {\n  var objElement = element.parentElement;\n  if (objElement.classList.contains('collapsed')) {\n    objElement.classList.remove('collapsed');\n    objElement.classList.add('expanded');\n  } else {\n    objElement.classList.add('collapsed');\n    objElement.classList.remove('expanded');\n  }\n}\n</script>\n<div class=\"tfx-object collapsed\"><div class = \"title\" onclick=\"toggleTfxObject(this)\"><span class=\"expansion-marker\"></span><span class=\"class-name\">Channel</span> of type <span class=\"class-name\">'Examples'</span> (1 artifact)<span class=\"deemphasize\"> at 0x7f90565c6ac0</span></div><table class=\"attr-table\"><tr><td class=\"attr-name\">.type_name</td><td class = \"attrvalue\">Examples</td></tr><tr><td class=\"attr-name\">._artifacts</td><td class = \"attrvalue\"><table class=\"attr-table\"><tr><td class=\"attr-name\">[0]</td><td class = \"attrvalue\"><style>\n.tfx-object.expanded {\n  padding: 4px 8px 4px 8px;\n  background: white;\n  border: 1px solid #bbbbbb;\n  box-shadow: 4px 4px 2px rgba(0,0,0,0.05);\n}\nhtml[theme=dark] .tfx-object.expanded {\n  background: black;\n}\n.tfx-object, .tfx-object * {\n  font-size: 11pt;\n}\n.tfx-object > .title {\n  cursor: pointer;\n}\n.tfx-object .expansion-marker {\n  color: #999999;\n}\n.tfx-object.expanded > .title > .expansion-marker:before {\n  content: '▼';\n}\n.tfx-object.collapsed > .title > .expansion-marker:before {\n  content: '▶';\n}\n.tfx-object .class-name {\n  font-weight: bold;\n}\n.tfx-object .deemphasize {\n  opacity: 0.5;\n}\n.tfx-object.collapsed > table.attr-table {\n  display: none;\n}\n.tfx-object.expanded > table.attr-table {\n  display: block;\n}\n.tfx-object table.attr-table {\n  border: 2px solid white;\n  margin-top: 5px;\n}\nhtml[theme=dark] .tfx-object table.attr-table {\n  border: 2px solid black;\n}\n.tfx-object table.attr-table td.attr-name {\n  vertical-align: top;\n  font-weight: bold;\n}\n.tfx-object table.attr-table td.attrvalue {\n  text-align: left;\n}\n</style>\n<script>\nfunction toggleTfxObject(element) {\n  var objElement = element.parentElement;\n  if (objElement.classList.contains('collapsed')) {\n    objElement.classList.remove('collapsed');\n    objElement.classList.add('expanded');\n  } else {\n    objElement.classList.add('collapsed');\n    objElement.classList.remove('expanded');\n  }\n}\n</script>\n<div class=\"tfx-object collapsed\"><div class = \"title\" onclick=\"toggleTfxObject(this)\"><span class=\"expansion-marker\"></span><span class=\"class-name\">Artifact</span> of type <span class=\"class-name\">'Examples'</span> (uri: /tmp/tfx-interactive-2023-01-10T06_37_47.936270-f9j737lv/CsvExampleGen/examples/1)<span class=\"deemphasize\"> at 0x7f90565c6b20</span></div><table class=\"attr-table\"><tr><td class=\"attr-name\">.type</td><td class = \"attrvalue\">&lt;class &#x27;tfx.types.standard_artifacts.Examples&#x27;&gt;</td></tr><tr><td class=\"attr-name\">.uri</td><td class = \"attrvalue\">/tmp/tfx-interactive-2023-01-10T06_37_47.936270-f9j737lv/CsvExampleGen/examples/1</td></tr><tr><td class=\"attr-name\">.span</td><td class = \"attrvalue\">0</td></tr><tr><td class=\"attr-name\">.split_names</td><td class = \"attrvalue\">[&quot;train&quot;, &quot;eval&quot;, &quot;test&quot;]</td></tr><tr><td class=\"attr-name\">.version</td><td class = \"attrvalue\">0</td></tr></table></div></td></tr></table></td></tr></table></div></td></tr></table></td></tr></table></div>"
     },
     "execution_count": 71,
     "metadata": {},
     "output_type": "execute_result"
    }
   ],
   "source": [
    "# 분할 설정 지정: 지정 없으면 기본 설정은 train:test = 2:1이다.\n",
    "output_config = example_gen_pb2.Output(\n",
    "    split_config=example_gen_pb2.SplitConfig(splits=[\n",
    "        example_gen_pb2.SplitConfig.Split(name=\"train\", hash_buckets=6),\n",
    "        example_gen_pb2.SplitConfig.Split(name=\"eval\", hash_buckets=2),\n",
    "        example_gen_pb2.SplitConfig.Split(name=\"test\", hash_buckets=2)\n",
    "    ])\n",
    ")\n",
    "\n",
    "csv_example_gen = CsvExampleGen(input_base=csv_dir, output_config=output_config)\n",
    "context.run(csv_example_gen)"
   ],
   "metadata": {
    "collapsed": false
   }
  },
  {
   "cell_type": "code",
   "execution_count": 72,
   "outputs": [
    {
     "name": "stdout",
     "output_type": "stream",
     "text": [
      "Artifact(artifact: id: 1\n",
      "type_id: 14\n",
      "uri: \"/tmp/tfx-interactive-2023-01-10T06_37_47.936270-f9j737lv/CsvExampleGen/examples/1\"\n",
      "properties {\n",
      "  key: \"split_names\"\n",
      "  value {\n",
      "    string_value: \"[\\\"train\\\", \\\"eval\\\", \\\"test\\\"]\"\n",
      "  }\n",
      "}\n",
      "custom_properties {\n",
      "  key: \"file_format\"\n",
      "  value {\n",
      "    string_value: \"tfrecords_gzip\"\n",
      "  }\n",
      "}\n",
      "custom_properties {\n",
      "  key: \"input_fingerprint\"\n",
      "  value {\n",
      "    string_value: \"split:single_split,num_files:1,total_bytes:1922812,xor_checksum:1673313402,sum_checksum:1673313402\"\n",
      "  }\n",
      "}\n",
      "custom_properties {\n",
      "  key: \"payload_format\"\n",
      "  value {\n",
      "    string_value: \"FORMAT_TF_EXAMPLE\"\n",
      "  }\n",
      "}\n",
      "custom_properties {\n",
      "  key: \"span\"\n",
      "  value {\n",
      "    int_value: 0\n",
      "  }\n",
      "}\n",
      "custom_properties {\n",
      "  key: \"state\"\n",
      "  value {\n",
      "    string_value: \"published\"\n",
      "  }\n",
      "}\n",
      "custom_properties {\n",
      "  key: \"tfx_version\"\n",
      "  value {\n",
      "    string_value: \"1.12.0\"\n",
      "  }\n",
      "}\n",
      "state: LIVE\n",
      ", artifact_type: id: 14\n",
      "name: \"Examples\"\n",
      "properties {\n",
      "  key: \"span\"\n",
      "  value: INT\n",
      "}\n",
      "properties {\n",
      "  key: \"split_names\"\n",
      "  value: STRING\n",
      "}\n",
      "properties {\n",
      "  key: \"version\"\n",
      "  value: INT\n",
      "}\n",
      "base_type: DATASET\n",
      ")\n"
     ]
    }
   ],
   "source": [
    "for artifact in csv_example_gen.outputs['examples'].get():\n",
    "    print(artifact)  # \"split_names\" 특성에서 분할 결과 확인 가능."
   ],
   "metadata": {
    "collapsed": false
   }
  },
  {
   "cell_type": "markdown",
   "source": [
    "### 이미 분할된 파일을 가져오기"
   ],
   "metadata": {
    "collapsed": false
   }
  },
  {
   "cell_type": "code",
   "execution_count": 103,
   "outputs": [],
   "source": [
    "input_config = example_gen_pb2.Input(\n",
    "    splits=[\n",
    "        # '00000-00100' 이런 식으로 분할별 파일이 많아지면 \"train/*\" 이런 패턴이 더 낫음.\n",
    "        example_gen_pb2.Input.Split(name=\"train\", pattern=\"train.tfrecord\"),\n",
    "        example_gen_pb2.Input.Split(name=\"eval\", pattern=\"eval.tfrecord\"),\n",
    "        example_gen_pb2.Input.Split(name=\"test\", pattern=\"test.tfrecord\")\n",
    "    ]\n",
    ")\n",
    "example_gen = ImportExampleGen(input_base=split_dir, input_config=input_config)"
   ],
   "metadata": {
    "collapsed": false
   }
  },
  {
   "cell_type": "code",
   "execution_count": 104,
   "outputs": [
    {
     "data": {
      "text/plain": "ExecutionResult(\n    component_id: ImportExampleGen\n    execution_id: 8\n    outputs:\n        examples: OutputChannel(artifact_type=Examples, producer_component_id=ImportExampleGen, output_key=examples, additional_properties={}, additional_custom_properties={}))",
      "text/html": "<style>\n.tfx-object.expanded {\n  padding: 4px 8px 4px 8px;\n  background: white;\n  border: 1px solid #bbbbbb;\n  box-shadow: 4px 4px 2px rgba(0,0,0,0.05);\n}\nhtml[theme=dark] .tfx-object.expanded {\n  background: black;\n}\n.tfx-object, .tfx-object * {\n  font-size: 11pt;\n}\n.tfx-object > .title {\n  cursor: pointer;\n}\n.tfx-object .expansion-marker {\n  color: #999999;\n}\n.tfx-object.expanded > .title > .expansion-marker:before {\n  content: '▼';\n}\n.tfx-object.collapsed > .title > .expansion-marker:before {\n  content: '▶';\n}\n.tfx-object .class-name {\n  font-weight: bold;\n}\n.tfx-object .deemphasize {\n  opacity: 0.5;\n}\n.tfx-object.collapsed > table.attr-table {\n  display: none;\n}\n.tfx-object.expanded > table.attr-table {\n  display: block;\n}\n.tfx-object table.attr-table {\n  border: 2px solid white;\n  margin-top: 5px;\n}\nhtml[theme=dark] .tfx-object table.attr-table {\n  border: 2px solid black;\n}\n.tfx-object table.attr-table td.attr-name {\n  vertical-align: top;\n  font-weight: bold;\n}\n.tfx-object table.attr-table td.attrvalue {\n  text-align: left;\n}\n</style>\n<script>\nfunction toggleTfxObject(element) {\n  var objElement = element.parentElement;\n  if (objElement.classList.contains('collapsed')) {\n    objElement.classList.remove('collapsed');\n    objElement.classList.add('expanded');\n  } else {\n    objElement.classList.add('collapsed');\n    objElement.classList.remove('expanded');\n  }\n}\n</script>\n<div class=\"tfx-object expanded\"><div class = \"title\" onclick=\"toggleTfxObject(this)\"><span class=\"expansion-marker\"></span><span class=\"class-name\">ExecutionResult</span><span class=\"deemphasize\"> at 0x7f905f1eaa60</span></div><table class=\"attr-table\"><tr><td class=\"attr-name\">.execution_id</td><td class = \"attrvalue\">8</td></tr><tr><td class=\"attr-name\">.component</td><td class = \"attrvalue\"><style>\n.tfx-object.expanded {\n  padding: 4px 8px 4px 8px;\n  background: white;\n  border: 1px solid #bbbbbb;\n  box-shadow: 4px 4px 2px rgba(0,0,0,0.05);\n}\nhtml[theme=dark] .tfx-object.expanded {\n  background: black;\n}\n.tfx-object, .tfx-object * {\n  font-size: 11pt;\n}\n.tfx-object > .title {\n  cursor: pointer;\n}\n.tfx-object .expansion-marker {\n  color: #999999;\n}\n.tfx-object.expanded > .title > .expansion-marker:before {\n  content: '▼';\n}\n.tfx-object.collapsed > .title > .expansion-marker:before {\n  content: '▶';\n}\n.tfx-object .class-name {\n  font-weight: bold;\n}\n.tfx-object .deemphasize {\n  opacity: 0.5;\n}\n.tfx-object.collapsed > table.attr-table {\n  display: none;\n}\n.tfx-object.expanded > table.attr-table {\n  display: block;\n}\n.tfx-object table.attr-table {\n  border: 2px solid white;\n  margin-top: 5px;\n}\nhtml[theme=dark] .tfx-object table.attr-table {\n  border: 2px solid black;\n}\n.tfx-object table.attr-table td.attr-name {\n  vertical-align: top;\n  font-weight: bold;\n}\n.tfx-object table.attr-table td.attrvalue {\n  text-align: left;\n}\n</style>\n<script>\nfunction toggleTfxObject(element) {\n  var objElement = element.parentElement;\n  if (objElement.classList.contains('collapsed')) {\n    objElement.classList.remove('collapsed');\n    objElement.classList.add('expanded');\n  } else {\n    objElement.classList.add('collapsed');\n    objElement.classList.remove('expanded');\n  }\n}\n</script>\n<div class=\"tfx-object collapsed\"><div class = \"title\" onclick=\"toggleTfxObject(this)\"><span class=\"expansion-marker\"></span><span class=\"class-name\">ImportExampleGen</span><span class=\"deemphasize\"> at 0x7f905fb726a0</span></div><table class=\"attr-table\"><tr><td class=\"attr-name\">.inputs</td><td class = \"attrvalue\">{}</td></tr><tr><td class=\"attr-name\">.outputs</td><td class = \"attrvalue\"><table class=\"attr-table\"><tr><td class=\"attr-name\">['examples']</td><td class = \"attrvalue\"><style>\n.tfx-object.expanded {\n  padding: 4px 8px 4px 8px;\n  background: white;\n  border: 1px solid #bbbbbb;\n  box-shadow: 4px 4px 2px rgba(0,0,0,0.05);\n}\nhtml[theme=dark] .tfx-object.expanded {\n  background: black;\n}\n.tfx-object, .tfx-object * {\n  font-size: 11pt;\n}\n.tfx-object > .title {\n  cursor: pointer;\n}\n.tfx-object .expansion-marker {\n  color: #999999;\n}\n.tfx-object.expanded > .title > .expansion-marker:before {\n  content: '▼';\n}\n.tfx-object.collapsed > .title > .expansion-marker:before {\n  content: '▶';\n}\n.tfx-object .class-name {\n  font-weight: bold;\n}\n.tfx-object .deemphasize {\n  opacity: 0.5;\n}\n.tfx-object.collapsed > table.attr-table {\n  display: none;\n}\n.tfx-object.expanded > table.attr-table {\n  display: block;\n}\n.tfx-object table.attr-table {\n  border: 2px solid white;\n  margin-top: 5px;\n}\nhtml[theme=dark] .tfx-object table.attr-table {\n  border: 2px solid black;\n}\n.tfx-object table.attr-table td.attr-name {\n  vertical-align: top;\n  font-weight: bold;\n}\n.tfx-object table.attr-table td.attrvalue {\n  text-align: left;\n}\n</style>\n<script>\nfunction toggleTfxObject(element) {\n  var objElement = element.parentElement;\n  if (objElement.classList.contains('collapsed')) {\n    objElement.classList.remove('collapsed');\n    objElement.classList.add('expanded');\n  } else {\n    objElement.classList.add('collapsed');\n    objElement.classList.remove('expanded');\n  }\n}\n</script>\n<div class=\"tfx-object collapsed\"><div class = \"title\" onclick=\"toggleTfxObject(this)\"><span class=\"expansion-marker\"></span><span class=\"class-name\">Channel</span> of type <span class=\"class-name\">'Examples'</span> (1 artifact)<span class=\"deemphasize\"> at 0x7f905fb66d00</span></div><table class=\"attr-table\"><tr><td class=\"attr-name\">.type_name</td><td class = \"attrvalue\">Examples</td></tr><tr><td class=\"attr-name\">._artifacts</td><td class = \"attrvalue\"><table class=\"attr-table\"><tr><td class=\"attr-name\">[0]</td><td class = \"attrvalue\"><style>\n.tfx-object.expanded {\n  padding: 4px 8px 4px 8px;\n  background: white;\n  border: 1px solid #bbbbbb;\n  box-shadow: 4px 4px 2px rgba(0,0,0,0.05);\n}\nhtml[theme=dark] .tfx-object.expanded {\n  background: black;\n}\n.tfx-object, .tfx-object * {\n  font-size: 11pt;\n}\n.tfx-object > .title {\n  cursor: pointer;\n}\n.tfx-object .expansion-marker {\n  color: #999999;\n}\n.tfx-object.expanded > .title > .expansion-marker:before {\n  content: '▼';\n}\n.tfx-object.collapsed > .title > .expansion-marker:before {\n  content: '▶';\n}\n.tfx-object .class-name {\n  font-weight: bold;\n}\n.tfx-object .deemphasize {\n  opacity: 0.5;\n}\n.tfx-object.collapsed > table.attr-table {\n  display: none;\n}\n.tfx-object.expanded > table.attr-table {\n  display: block;\n}\n.tfx-object table.attr-table {\n  border: 2px solid white;\n  margin-top: 5px;\n}\nhtml[theme=dark] .tfx-object table.attr-table {\n  border: 2px solid black;\n}\n.tfx-object table.attr-table td.attr-name {\n  vertical-align: top;\n  font-weight: bold;\n}\n.tfx-object table.attr-table td.attrvalue {\n  text-align: left;\n}\n</style>\n<script>\nfunction toggleTfxObject(element) {\n  var objElement = element.parentElement;\n  if (objElement.classList.contains('collapsed')) {\n    objElement.classList.remove('collapsed');\n    objElement.classList.add('expanded');\n  } else {\n    objElement.classList.add('collapsed');\n    objElement.classList.remove('expanded');\n  }\n}\n</script>\n<div class=\"tfx-object collapsed\"><div class = \"title\" onclick=\"toggleTfxObject(this)\"><span class=\"expansion-marker\"></span><span class=\"class-name\">Artifact</span> of type <span class=\"class-name\">'Examples'</span> (uri: /tmp/tfx-interactive-2023-01-10T06_37_47.936270-f9j737lv/ImportExampleGen/examples/8)<span class=\"deemphasize\"> at 0x7f90617beeb0</span></div><table class=\"attr-table\"><tr><td class=\"attr-name\">.type</td><td class = \"attrvalue\">&lt;class &#x27;tfx.types.standard_artifacts.Examples&#x27;&gt;</td></tr><tr><td class=\"attr-name\">.uri</td><td class = \"attrvalue\">/tmp/tfx-interactive-2023-01-10T06_37_47.936270-f9j737lv/ImportExampleGen/examples/8</td></tr><tr><td class=\"attr-name\">.span</td><td class = \"attrvalue\">0</td></tr><tr><td class=\"attr-name\">.split_names</td><td class = \"attrvalue\">[&quot;train&quot;, &quot;eval&quot;, &quot;test&quot;]</td></tr><tr><td class=\"attr-name\">.version</td><td class = \"attrvalue\">0</td></tr></table></div></td></tr></table></td></tr></table></div></td></tr></table></td></tr><tr><td class=\"attr-name\">.exec_properties</td><td class = \"attrvalue\"><table class=\"attr-table\"><tr><td class=\"attr-name\">['input_base']</td><td class = \"attrvalue\">/home/hakjun/projects/pipeline/data/tfrecords/splits</td></tr><tr><td class=\"attr-name\">['input_config']</td><td class = \"attrvalue\">{\n  &quot;splits&quot;: [\n    {\n      &quot;name&quot;: &quot;train&quot;,\n      &quot;pattern&quot;: &quot;train.tfrecord&quot;\n    },\n    {\n      &quot;name&quot;: &quot;eval&quot;,\n      &quot;pattern&quot;: &quot;eval.tfrecord&quot;\n    },\n    {\n      &quot;name&quot;: &quot;test&quot;,\n      &quot;pattern&quot;: &quot;test.tfrecord&quot;\n    }\n  ]\n}</td></tr><tr><td class=\"attr-name\">['output_config']</td><td class = \"attrvalue\">{}</td></tr><tr><td class=\"attr-name\">['output_data_format']</td><td class = \"attrvalue\">6</td></tr><tr><td class=\"attr-name\">['output_file_format']</td><td class = \"attrvalue\">5</td></tr><tr><td class=\"attr-name\">['custom_config']</td><td class = \"attrvalue\">None</td></tr><tr><td class=\"attr-name\">['range_config']</td><td class = \"attrvalue\">None</td></tr><tr><td class=\"attr-name\">['span']</td><td class = \"attrvalue\">0</td></tr><tr><td class=\"attr-name\">['version']</td><td class = \"attrvalue\">None</td></tr><tr><td class=\"attr-name\">['input_fingerprint']</td><td class = \"attrvalue\">split:train,num_files:1,total_bytes:24762731,xor_checksum:1673335398,sum_checksum:1673335398\nsplit:eval,num_files:1,total_bytes:24762731,xor_checksum:1673335414,sum_checksum:1673335414\nsplit:test,num_files:1,total_bytes:24762731,xor_checksum:1673335431,sum_checksum:1673335431</td></tr></table></td></tr></table></div></td></tr><tr><td class=\"attr-name\">.component.inputs</td><td class = \"attrvalue\">{}</td></tr><tr><td class=\"attr-name\">.component.outputs</td><td class = \"attrvalue\"><table class=\"attr-table\"><tr><td class=\"attr-name\">['examples']</td><td class = \"attrvalue\"><style>\n.tfx-object.expanded {\n  padding: 4px 8px 4px 8px;\n  background: white;\n  border: 1px solid #bbbbbb;\n  box-shadow: 4px 4px 2px rgba(0,0,0,0.05);\n}\nhtml[theme=dark] .tfx-object.expanded {\n  background: black;\n}\n.tfx-object, .tfx-object * {\n  font-size: 11pt;\n}\n.tfx-object > .title {\n  cursor: pointer;\n}\n.tfx-object .expansion-marker {\n  color: #999999;\n}\n.tfx-object.expanded > .title > .expansion-marker:before {\n  content: '▼';\n}\n.tfx-object.collapsed > .title > .expansion-marker:before {\n  content: '▶';\n}\n.tfx-object .class-name {\n  font-weight: bold;\n}\n.tfx-object .deemphasize {\n  opacity: 0.5;\n}\n.tfx-object.collapsed > table.attr-table {\n  display: none;\n}\n.tfx-object.expanded > table.attr-table {\n  display: block;\n}\n.tfx-object table.attr-table {\n  border: 2px solid white;\n  margin-top: 5px;\n}\nhtml[theme=dark] .tfx-object table.attr-table {\n  border: 2px solid black;\n}\n.tfx-object table.attr-table td.attr-name {\n  vertical-align: top;\n  font-weight: bold;\n}\n.tfx-object table.attr-table td.attrvalue {\n  text-align: left;\n}\n</style>\n<script>\nfunction toggleTfxObject(element) {\n  var objElement = element.parentElement;\n  if (objElement.classList.contains('collapsed')) {\n    objElement.classList.remove('collapsed');\n    objElement.classList.add('expanded');\n  } else {\n    objElement.classList.add('collapsed');\n    objElement.classList.remove('expanded');\n  }\n}\n</script>\n<div class=\"tfx-object collapsed\"><div class = \"title\" onclick=\"toggleTfxObject(this)\"><span class=\"expansion-marker\"></span><span class=\"class-name\">Channel</span> of type <span class=\"class-name\">'Examples'</span> (1 artifact)<span class=\"deemphasize\"> at 0x7f905fb66d00</span></div><table class=\"attr-table\"><tr><td class=\"attr-name\">.type_name</td><td class = \"attrvalue\">Examples</td></tr><tr><td class=\"attr-name\">._artifacts</td><td class = \"attrvalue\"><table class=\"attr-table\"><tr><td class=\"attr-name\">[0]</td><td class = \"attrvalue\"><style>\n.tfx-object.expanded {\n  padding: 4px 8px 4px 8px;\n  background: white;\n  border: 1px solid #bbbbbb;\n  box-shadow: 4px 4px 2px rgba(0,0,0,0.05);\n}\nhtml[theme=dark] .tfx-object.expanded {\n  background: black;\n}\n.tfx-object, .tfx-object * {\n  font-size: 11pt;\n}\n.tfx-object > .title {\n  cursor: pointer;\n}\n.tfx-object .expansion-marker {\n  color: #999999;\n}\n.tfx-object.expanded > .title > .expansion-marker:before {\n  content: '▼';\n}\n.tfx-object.collapsed > .title > .expansion-marker:before {\n  content: '▶';\n}\n.tfx-object .class-name {\n  font-weight: bold;\n}\n.tfx-object .deemphasize {\n  opacity: 0.5;\n}\n.tfx-object.collapsed > table.attr-table {\n  display: none;\n}\n.tfx-object.expanded > table.attr-table {\n  display: block;\n}\n.tfx-object table.attr-table {\n  border: 2px solid white;\n  margin-top: 5px;\n}\nhtml[theme=dark] .tfx-object table.attr-table {\n  border: 2px solid black;\n}\n.tfx-object table.attr-table td.attr-name {\n  vertical-align: top;\n  font-weight: bold;\n}\n.tfx-object table.attr-table td.attrvalue {\n  text-align: left;\n}\n</style>\n<script>\nfunction toggleTfxObject(element) {\n  var objElement = element.parentElement;\n  if (objElement.classList.contains('collapsed')) {\n    objElement.classList.remove('collapsed');\n    objElement.classList.add('expanded');\n  } else {\n    objElement.classList.add('collapsed');\n    objElement.classList.remove('expanded');\n  }\n}\n</script>\n<div class=\"tfx-object collapsed\"><div class = \"title\" onclick=\"toggleTfxObject(this)\"><span class=\"expansion-marker\"></span><span class=\"class-name\">Artifact</span> of type <span class=\"class-name\">'Examples'</span> (uri: /tmp/tfx-interactive-2023-01-10T06_37_47.936270-f9j737lv/ImportExampleGen/examples/8)<span class=\"deemphasize\"> at 0x7f90617beeb0</span></div><table class=\"attr-table\"><tr><td class=\"attr-name\">.type</td><td class = \"attrvalue\">&lt;class &#x27;tfx.types.standard_artifacts.Examples&#x27;&gt;</td></tr><tr><td class=\"attr-name\">.uri</td><td class = \"attrvalue\">/tmp/tfx-interactive-2023-01-10T06_37_47.936270-f9j737lv/ImportExampleGen/examples/8</td></tr><tr><td class=\"attr-name\">.span</td><td class = \"attrvalue\">0</td></tr><tr><td class=\"attr-name\">.split_names</td><td class = \"attrvalue\">[&quot;train&quot;, &quot;eval&quot;, &quot;test&quot;]</td></tr><tr><td class=\"attr-name\">.version</td><td class = \"attrvalue\">0</td></tr></table></div></td></tr></table></td></tr></table></div></td></tr></table></td></tr></table></div>"
     },
     "execution_count": 104,
     "metadata": {},
     "output_type": "execute_result"
    }
   ],
   "source": [
    "context.run(example_gen)"
   ],
   "metadata": {
    "collapsed": false
   }
  },
  {
   "cell_type": "markdown",
   "source": [
    "## 스팬(span): 데이터의 스냅샷"
   ],
   "metadata": {
    "collapsed": false
   }
  },
  {
   "cell_type": "code",
   "execution_count": 5,
   "outputs": [
    {
     "data": {
      "application/javascript": "\n        if (typeof window.interactive_beam_jquery == 'undefined') {\n          var jqueryScript = document.createElement('script');\n          jqueryScript.src = 'https://code.jquery.com/jquery-3.4.1.slim.min.js';\n          jqueryScript.type = 'text/javascript';\n          jqueryScript.onload = function() {\n            var datatableScript = document.createElement('script');\n            datatableScript.src = 'https://cdn.datatables.net/1.10.20/js/jquery.dataTables.min.js';\n            datatableScript.type = 'text/javascript';\n            datatableScript.onload = function() {\n              window.interactive_beam_jquery = jQuery.noConflict(true);\n              window.interactive_beam_jquery(document).ready(function($){\n                \n              });\n            }\n            document.head.appendChild(datatableScript);\n          };\n          document.head.appendChild(jqueryScript);\n        } else {\n          window.interactive_beam_jquery(document).ready(function($){\n            \n          });\n        }"
     },
     "metadata": {},
     "output_type": "display_data"
    },
    {
     "name": "stderr",
     "output_type": "stream",
     "text": [
      "WARNING:apache_beam.io.tfrecordio:Couldn't find python-snappy so the implementation of _TFRecordUtil._masked_crc32c is not as fast as it could be.\n"
     ]
    },
    {
     "data": {
      "text/plain": "CsvExampleGen(spec: <tfx.types.standard_component_specs.FileBasedExampleGenSpec object at 0x7f6a6c2bbe80>, executor_spec: <tfx.dsl.components.base.executor_spec.BeamExecutorSpec object at 0x7f6a6c283a90>, driver_class: <class 'tfx.components.example_gen.driver.FileBasedDriver'>, component_id: CsvExampleGen, inputs: {}, outputs: {'examples': OutputChannel(artifact_type=Examples, producer_component_id=CsvExampleGen, output_key=examples, additional_properties={}, additional_custom_properties={})})",
      "text/html": "<style>\n.tfx-object.expanded {\n  padding: 4px 8px 4px 8px;\n  background: white;\n  border: 1px solid #bbbbbb;\n  box-shadow: 4px 4px 2px rgba(0,0,0,0.05);\n}\nhtml[theme=dark] .tfx-object.expanded {\n  background: black;\n}\n.tfx-object, .tfx-object * {\n  font-size: 11pt;\n}\n.tfx-object > .title {\n  cursor: pointer;\n}\n.tfx-object .expansion-marker {\n  color: #999999;\n}\n.tfx-object.expanded > .title > .expansion-marker:before {\n  content: '▼';\n}\n.tfx-object.collapsed > .title > .expansion-marker:before {\n  content: '▶';\n}\n.tfx-object .class-name {\n  font-weight: bold;\n}\n.tfx-object .deemphasize {\n  opacity: 0.5;\n}\n.tfx-object.collapsed > table.attr-table {\n  display: none;\n}\n.tfx-object.expanded > table.attr-table {\n  display: block;\n}\n.tfx-object table.attr-table {\n  border: 2px solid white;\n  margin-top: 5px;\n}\nhtml[theme=dark] .tfx-object table.attr-table {\n  border: 2px solid black;\n}\n.tfx-object table.attr-table td.attr-name {\n  vertical-align: top;\n  font-weight: bold;\n}\n.tfx-object table.attr-table td.attrvalue {\n  text-align: left;\n}\n</style>\n<script>\nfunction toggleTfxObject(element) {\n  var objElement = element.parentElement;\n  if (objElement.classList.contains('collapsed')) {\n    objElement.classList.remove('collapsed');\n    objElement.classList.add('expanded');\n  } else {\n    objElement.classList.add('collapsed');\n    objElement.classList.remove('expanded');\n  }\n}\n</script>\n<div class=\"tfx-object expanded\"><div class = \"title\" onclick=\"toggleTfxObject(this)\"><span class=\"expansion-marker\"></span><span class=\"class-name\">CsvExampleGen</span><span class=\"deemphasize\"> at 0x7f6a6c2bbd30</span></div><table class=\"attr-table\"><tr><td class=\"attr-name\">.inputs</td><td class = \"attrvalue\">{}</td></tr><tr><td class=\"attr-name\">.outputs</td><td class = \"attrvalue\"><table class=\"attr-table\"><tr><td class=\"attr-name\">['examples']</td><td class = \"attrvalue\"><style>\n.tfx-object.expanded {\n  padding: 4px 8px 4px 8px;\n  background: white;\n  border: 1px solid #bbbbbb;\n  box-shadow: 4px 4px 2px rgba(0,0,0,0.05);\n}\nhtml[theme=dark] .tfx-object.expanded {\n  background: black;\n}\n.tfx-object, .tfx-object * {\n  font-size: 11pt;\n}\n.tfx-object > .title {\n  cursor: pointer;\n}\n.tfx-object .expansion-marker {\n  color: #999999;\n}\n.tfx-object.expanded > .title > .expansion-marker:before {\n  content: '▼';\n}\n.tfx-object.collapsed > .title > .expansion-marker:before {\n  content: '▶';\n}\n.tfx-object .class-name {\n  font-weight: bold;\n}\n.tfx-object .deemphasize {\n  opacity: 0.5;\n}\n.tfx-object.collapsed > table.attr-table {\n  display: none;\n}\n.tfx-object.expanded > table.attr-table {\n  display: block;\n}\n.tfx-object table.attr-table {\n  border: 2px solid white;\n  margin-top: 5px;\n}\nhtml[theme=dark] .tfx-object table.attr-table {\n  border: 2px solid black;\n}\n.tfx-object table.attr-table td.attr-name {\n  vertical-align: top;\n  font-weight: bold;\n}\n.tfx-object table.attr-table td.attrvalue {\n  text-align: left;\n}\n</style>\n<script>\nfunction toggleTfxObject(element) {\n  var objElement = element.parentElement;\n  if (objElement.classList.contains('collapsed')) {\n    objElement.classList.remove('collapsed');\n    objElement.classList.add('expanded');\n  } else {\n    objElement.classList.add('collapsed');\n    objElement.classList.remove('expanded');\n  }\n}\n</script>\n<div class=\"tfx-object collapsed\"><div class = \"title\" onclick=\"toggleTfxObject(this)\"><span class=\"expansion-marker\"></span><span class=\"class-name\">Channel</span> of type <span class=\"class-name\">'Examples'</span> (1 artifact)<span class=\"deemphasize\"> at 0x7f6a6c207340</span></div><table class=\"attr-table\"><tr><td class=\"attr-name\">.type_name</td><td class = \"attrvalue\">Examples</td></tr><tr><td class=\"attr-name\">._artifacts</td><td class = \"attrvalue\"><table class=\"attr-table\"><tr><td class=\"attr-name\">[0]</td><td class = \"attrvalue\"><style>\n.tfx-object.expanded {\n  padding: 4px 8px 4px 8px;\n  background: white;\n  border: 1px solid #bbbbbb;\n  box-shadow: 4px 4px 2px rgba(0,0,0,0.05);\n}\nhtml[theme=dark] .tfx-object.expanded {\n  background: black;\n}\n.tfx-object, .tfx-object * {\n  font-size: 11pt;\n}\n.tfx-object > .title {\n  cursor: pointer;\n}\n.tfx-object .expansion-marker {\n  color: #999999;\n}\n.tfx-object.expanded > .title > .expansion-marker:before {\n  content: '▼';\n}\n.tfx-object.collapsed > .title > .expansion-marker:before {\n  content: '▶';\n}\n.tfx-object .class-name {\n  font-weight: bold;\n}\n.tfx-object .deemphasize {\n  opacity: 0.5;\n}\n.tfx-object.collapsed > table.attr-table {\n  display: none;\n}\n.tfx-object.expanded > table.attr-table {\n  display: block;\n}\n.tfx-object table.attr-table {\n  border: 2px solid white;\n  margin-top: 5px;\n}\nhtml[theme=dark] .tfx-object table.attr-table {\n  border: 2px solid black;\n}\n.tfx-object table.attr-table td.attr-name {\n  vertical-align: top;\n  font-weight: bold;\n}\n.tfx-object table.attr-table td.attrvalue {\n  text-align: left;\n}\n</style>\n<script>\nfunction toggleTfxObject(element) {\n  var objElement = element.parentElement;\n  if (objElement.classList.contains('collapsed')) {\n    objElement.classList.remove('collapsed');\n    objElement.classList.add('expanded');\n  } else {\n    objElement.classList.add('collapsed');\n    objElement.classList.remove('expanded');\n  }\n}\n</script>\n<div class=\"tfx-object collapsed\"><div class = \"title\" onclick=\"toggleTfxObject(this)\"><span class=\"expansion-marker\"></span><span class=\"class-name\">Artifact</span> of type <span class=\"class-name\">'Examples'</span> (uri: /tmp/tfx-interactive-2023-01-10T10_12_19.691034-9ridu_hl/CsvExampleGen/examples/1)<span class=\"deemphasize\"> at 0x7f6a84d767c0</span></div><table class=\"attr-table\"><tr><td class=\"attr-name\">.type</td><td class = \"attrvalue\">&lt;class &#x27;tfx.types.standard_artifacts.Examples&#x27;&gt;</td></tr><tr><td class=\"attr-name\">.uri</td><td class = \"attrvalue\">/tmp/tfx-interactive-2023-01-10T10_12_19.691034-9ridu_hl/CsvExampleGen/examples/1</td></tr><tr><td class=\"attr-name\">.span</td><td class = \"attrvalue\">0</td></tr><tr><td class=\"attr-name\">.split_names</td><td class = \"attrvalue\">[&quot;train&quot;, &quot;eval&quot;]</td></tr><tr><td class=\"attr-name\">.version</td><td class = \"attrvalue\">0</td></tr></table></div></td></tr></table></td></tr></table></div></td></tr></table></td></tr><tr><td class=\"attr-name\">.exec_properties</td><td class = \"attrvalue\"><table class=\"attr-table\"><tr><td class=\"attr-name\">['input_base']</td><td class = \"attrvalue\">/home/hakjun/projects/pipeline/data/span</td></tr><tr><td class=\"attr-name\">['input_config']</td><td class = \"attrvalue\">{\n  &quot;splits&quot;: [\n    {\n      &quot;pattern&quot;: &quot;export-3/*&quot;\n    }\n  ]\n}</td></tr><tr><td class=\"attr-name\">['output_config']</td><td class = \"attrvalue\">{\n  &quot;split_config&quot;: {\n    &quot;splits&quot;: [\n      {\n        &quot;hash_buckets&quot;: 2,\n        &quot;name&quot;: &quot;train&quot;\n      },\n      {\n        &quot;hash_buckets&quot;: 1,\n        &quot;name&quot;: &quot;eval&quot;\n      }\n    ]\n  }\n}</td></tr><tr><td class=\"attr-name\">['output_data_format']</td><td class = \"attrvalue\">6</td></tr><tr><td class=\"attr-name\">['output_file_format']</td><td class = \"attrvalue\">5</td></tr><tr><td class=\"attr-name\">['custom_config']</td><td class = \"attrvalue\">None</td></tr><tr><td class=\"attr-name\">['range_config']</td><td class = \"attrvalue\">None</td></tr><tr><td class=\"attr-name\">['span']</td><td class = \"attrvalue\">3</td></tr><tr><td class=\"attr-name\">['version']</td><td class = \"attrvalue\">None</td></tr><tr><td class=\"attr-name\">['input_fingerprint']</td><td class = \"attrvalue\">split:,num_files:1,total_bytes:8402,xor_checksum:1673346417,sum_checksum:1673346417</td></tr></table></td></tr></table></div>"
     },
     "metadata": {},
     "output_type": "display_data"
    }
   ],
   "source": [
    "span_dir = os.path.join(data_dir, 'span')\n",
    "\n",
    "# SPAN 자리 표시자를 사용해서 항상 최신의 스팬을 불러오도록 설정한다.\n",
    "# export-0 < export-1 < export-2 순으로 작은 숫자는 큰 숫자 데이터의 부분집합이다.\n",
    "input_config = example_gen_pb2.Input(\n",
    "    splits=[example_gen_pb2.Input.Split(pattern=\"export-{SPAN}/*\")]\n",
    ")\n",
    "\n",
    "span_example_gen = CsvExampleGen(input_base=span_dir, input_config=input_config)\n",
    "context.run(span_example_gen)\n",
    "context.show(span_example_gen)  # 'input_config'에서 최신 스팬을 받은 것을 확인."
   ],
   "metadata": {
    "collapsed": false
   }
  },
  {
   "cell_type": "markdown",
   "source": [
    "## 데이터셋 버저닝(Dataset versioning)\n",
    "  - [DVC](https://dvc.org/)\n",
    "  - [Pachyderm](https://www.pachyderm.com/)\n",
    "\n",
    "외부 도구 사용 시 완전한 파이프라인을 위해선 MLMD에 메타데이터를 저장할 수 있는지 여부를 확인해야 한다."
   ],
   "metadata": {
    "collapsed": false
   }
  },
  {
   "cell_type": "markdown",
   "source": [
    "## 이미지 데이터 입력"
   ],
   "metadata": {
    "collapsed": false
   }
  },
  {
   "cell_type": "code",
   "execution_count": 23,
   "outputs": [],
   "source": [
    "def _bytes_feature(value):\n",
    "    return tf.train.Feature(bytes_list=tf.train.BytesList(value=[value]))\n",
    "\n",
    "\n",
    "def _int64_feature(value):\n",
    "    return tf.train.Feature(int64_list=tf.train.Int64List(value=[value]))\n",
    "\n",
    "\n",
    "def generate_label(table: dict, filepath):\n",
    "    \"\"\"\n",
    "\n",
    "    :param filepath: 파일명 라벨의 역할을 한다고 가정한다.\n",
    "    :param table: str 라벨에 대응하는 int 값을 기술한 dict.\n",
    "    :return: `filepath`를 파싱한 라벨.\n",
    "    \"\"\"\n",
    "    filename = os.path.basename(filepath)\n",
    "    label = os.path.splitext(filename)[0]\n",
    "\n",
    "    return table[label]\n",
    "\n",
    "\n",
    "# 주의: 통상 이미지는 압축된 상태로 이를 디코딩하면 급격한 메모리, 디스크 부족 상태가 될 수 있음.\n",
    "def write_img_tfrecord(indir, outpath, label_gen_fn):\n",
    "    \"\"\"분류 작업을 위한 이미지 데이터셋 생성\n",
    "\n",
    "    :param indir: 이미지만 담고 있는 디렉토리. 이미지들은 모두 `label`을 파일명으로 지닌다 가정.\n",
    "    :param outpath: tfrecord을 생성할 경로.\n",
    "    :param label_gen_fn: 정수형으로 인코딩된 라벨을 반환하는 함수.\n",
    "    \"\"\"\n",
    "    filenames = os.scandir(indir)\n",
    "\n",
    "    with tf.io.TFRecordWriter(outpath) as writer:\n",
    "        for img_path in filenames:\n",
    "            try:\n",
    "                print(f\"처리 중: {img_path.path}\")\n",
    "                raw_file = tf.io.read_file(img_path.path)\n",
    "            except FileNotFoundError:\n",
    "                print(f\"{img_path.name}은 존재하지 않습니다.\")\n",
    "                continue\n",
    "\n",
    "            example = tf.train.Example(\n",
    "                features=tf.train.Features(\n",
    "                    feature={\n",
    "                        'raw_image': _bytes_feature(raw_file.numpy()),\n",
    "                        'label': _int64_feature(label_gen_fn(img_path))\n",
    "                    }\n",
    "                )\n",
    "            )\n",
    "\n",
    "            writer.write(example.SerializeToString())"
   ],
   "metadata": {
    "collapsed": false
   }
  },
  {
   "cell_type": "code",
   "execution_count": 24,
   "outputs": [],
   "source": [
    "from functools import partial"
   ],
   "metadata": {
    "collapsed": false
   }
  },
  {
   "cell_type": "code",
   "execution_count": 31,
   "outputs": [],
   "source": [
    "img_dir = os.path.join(data_dir, \"images\")\n",
    "record_path = os.path.join(data_dir, \"animal_records\", \"samples.tfrecord\")\n",
    "enc_tab = {\n",
    "    'dog': 0,\n",
    "    'cat': 1,\n",
    "    'parrot': 2\n",
    "}\n",
    "generate_encoded_label = partial(generate_label, enc_tab)"
   ],
   "metadata": {
    "collapsed": false
   }
  },
  {
   "cell_type": "code",
   "execution_count": 32,
   "outputs": [
    {
     "name": "stdout",
     "output_type": "stream",
     "text": [
      "처리 중: /home/hakjun/projects/pipeline/data/images/dog.jpg\n",
      "처리 중: /home/hakjun/projects/pipeline/data/images/parrot.jpg\n",
      "처리 중: /home/hakjun/projects/pipeline/data/images/cat.jpg\n"
     ]
    }
   ],
   "source": [
    "write_img_tfrecord(img_dir, record_path, generate_encoded_label)"
   ],
   "metadata": {
    "collapsed": false
   }
  },
  {
   "cell_type": "code",
   "execution_count": 37,
   "outputs": [
    {
     "data": {
      "text/plain": "ImportExampleGen(spec: <tfx.types.standard_component_specs.FileBasedExampleGenSpec object at 0x7f6a515e7bb0>, executor_spec: <tfx.dsl.components.base.executor_spec.BeamExecutorSpec object at 0x7f6a515e7d90>, driver_class: <class 'tfx.components.example_gen.driver.FileBasedDriver'>, component_id: ImportExampleGen, inputs: {}, outputs: {'examples': OutputChannel(artifact_type=Examples, producer_component_id=ImportExampleGen, output_key=examples, additional_properties={}, additional_custom_properties={})})",
      "text/html": "<style>\n.tfx-object.expanded {\n  padding: 4px 8px 4px 8px;\n  background: white;\n  border: 1px solid #bbbbbb;\n  box-shadow: 4px 4px 2px rgba(0,0,0,0.05);\n}\nhtml[theme=dark] .tfx-object.expanded {\n  background: black;\n}\n.tfx-object, .tfx-object * {\n  font-size: 11pt;\n}\n.tfx-object > .title {\n  cursor: pointer;\n}\n.tfx-object .expansion-marker {\n  color: #999999;\n}\n.tfx-object.expanded > .title > .expansion-marker:before {\n  content: '▼';\n}\n.tfx-object.collapsed > .title > .expansion-marker:before {\n  content: '▶';\n}\n.tfx-object .class-name {\n  font-weight: bold;\n}\n.tfx-object .deemphasize {\n  opacity: 0.5;\n}\n.tfx-object.collapsed > table.attr-table {\n  display: none;\n}\n.tfx-object.expanded > table.attr-table {\n  display: block;\n}\n.tfx-object table.attr-table {\n  border: 2px solid white;\n  margin-top: 5px;\n}\nhtml[theme=dark] .tfx-object table.attr-table {\n  border: 2px solid black;\n}\n.tfx-object table.attr-table td.attr-name {\n  vertical-align: top;\n  font-weight: bold;\n}\n.tfx-object table.attr-table td.attrvalue {\n  text-align: left;\n}\n</style>\n<script>\nfunction toggleTfxObject(element) {\n  var objElement = element.parentElement;\n  if (objElement.classList.contains('collapsed')) {\n    objElement.classList.remove('collapsed');\n    objElement.classList.add('expanded');\n  } else {\n    objElement.classList.add('collapsed');\n    objElement.classList.remove('expanded');\n  }\n}\n</script>\n<div class=\"tfx-object expanded\"><div class = \"title\" onclick=\"toggleTfxObject(this)\"><span class=\"expansion-marker\"></span><span class=\"class-name\">ImportExampleGen</span><span class=\"deemphasize\"> at 0x7f6a515e7fa0</span></div><table class=\"attr-table\"><tr><td class=\"attr-name\">.inputs</td><td class = \"attrvalue\">{}</td></tr><tr><td class=\"attr-name\">.outputs</td><td class = \"attrvalue\"><table class=\"attr-table\"><tr><td class=\"attr-name\">['examples']</td><td class = \"attrvalue\"><style>\n.tfx-object.expanded {\n  padding: 4px 8px 4px 8px;\n  background: white;\n  border: 1px solid #bbbbbb;\n  box-shadow: 4px 4px 2px rgba(0,0,0,0.05);\n}\nhtml[theme=dark] .tfx-object.expanded {\n  background: black;\n}\n.tfx-object, .tfx-object * {\n  font-size: 11pt;\n}\n.tfx-object > .title {\n  cursor: pointer;\n}\n.tfx-object .expansion-marker {\n  color: #999999;\n}\n.tfx-object.expanded > .title > .expansion-marker:before {\n  content: '▼';\n}\n.tfx-object.collapsed > .title > .expansion-marker:before {\n  content: '▶';\n}\n.tfx-object .class-name {\n  font-weight: bold;\n}\n.tfx-object .deemphasize {\n  opacity: 0.5;\n}\n.tfx-object.collapsed > table.attr-table {\n  display: none;\n}\n.tfx-object.expanded > table.attr-table {\n  display: block;\n}\n.tfx-object table.attr-table {\n  border: 2px solid white;\n  margin-top: 5px;\n}\nhtml[theme=dark] .tfx-object table.attr-table {\n  border: 2px solid black;\n}\n.tfx-object table.attr-table td.attr-name {\n  vertical-align: top;\n  font-weight: bold;\n}\n.tfx-object table.attr-table td.attrvalue {\n  text-align: left;\n}\n</style>\n<script>\nfunction toggleTfxObject(element) {\n  var objElement = element.parentElement;\n  if (objElement.classList.contains('collapsed')) {\n    objElement.classList.remove('collapsed');\n    objElement.classList.add('expanded');\n  } else {\n    objElement.classList.add('collapsed');\n    objElement.classList.remove('expanded');\n  }\n}\n</script>\n<div class=\"tfx-object collapsed\"><div class = \"title\" onclick=\"toggleTfxObject(this)\"><span class=\"expansion-marker\"></span><span class=\"class-name\">Channel</span> of type <span class=\"class-name\">'Examples'</span> (1 artifact)<span class=\"deemphasize\"> at 0x7f6a51597730</span></div><table class=\"attr-table\"><tr><td class=\"attr-name\">.type_name</td><td class = \"attrvalue\">Examples</td></tr><tr><td class=\"attr-name\">._artifacts</td><td class = \"attrvalue\"><table class=\"attr-table\"><tr><td class=\"attr-name\">[0]</td><td class = \"attrvalue\"><style>\n.tfx-object.expanded {\n  padding: 4px 8px 4px 8px;\n  background: white;\n  border: 1px solid #bbbbbb;\n  box-shadow: 4px 4px 2px rgba(0,0,0,0.05);\n}\nhtml[theme=dark] .tfx-object.expanded {\n  background: black;\n}\n.tfx-object, .tfx-object * {\n  font-size: 11pt;\n}\n.tfx-object > .title {\n  cursor: pointer;\n}\n.tfx-object .expansion-marker {\n  color: #999999;\n}\n.tfx-object.expanded > .title > .expansion-marker:before {\n  content: '▼';\n}\n.tfx-object.collapsed > .title > .expansion-marker:before {\n  content: '▶';\n}\n.tfx-object .class-name {\n  font-weight: bold;\n}\n.tfx-object .deemphasize {\n  opacity: 0.5;\n}\n.tfx-object.collapsed > table.attr-table {\n  display: none;\n}\n.tfx-object.expanded > table.attr-table {\n  display: block;\n}\n.tfx-object table.attr-table {\n  border: 2px solid white;\n  margin-top: 5px;\n}\nhtml[theme=dark] .tfx-object table.attr-table {\n  border: 2px solid black;\n}\n.tfx-object table.attr-table td.attr-name {\n  vertical-align: top;\n  font-weight: bold;\n}\n.tfx-object table.attr-table td.attrvalue {\n  text-align: left;\n}\n</style>\n<script>\nfunction toggleTfxObject(element) {\n  var objElement = element.parentElement;\n  if (objElement.classList.contains('collapsed')) {\n    objElement.classList.remove('collapsed');\n    objElement.classList.add('expanded');\n  } else {\n    objElement.classList.add('collapsed');\n    objElement.classList.remove('expanded');\n  }\n}\n</script>\n<div class=\"tfx-object collapsed\"><div class = \"title\" onclick=\"toggleTfxObject(this)\"><span class=\"expansion-marker\"></span><span class=\"class-name\">Artifact</span> of type <span class=\"class-name\">'Examples'</span> (uri: /tmp/tfx-interactive-2023-01-10T10_12_19.691034-9ridu_hl/ImportExampleGen/examples/3)<span class=\"deemphasize\"> at 0x7f6a68ae27c0</span></div><table class=\"attr-table\"><tr><td class=\"attr-name\">.type</td><td class = \"attrvalue\">&lt;class &#x27;tfx.types.standard_artifacts.Examples&#x27;&gt;</td></tr><tr><td class=\"attr-name\">.uri</td><td class = \"attrvalue\">/tmp/tfx-interactive-2023-01-10T10_12_19.691034-9ridu_hl/ImportExampleGen/examples/3</td></tr><tr><td class=\"attr-name\">.span</td><td class = \"attrvalue\">0</td></tr><tr><td class=\"attr-name\">.split_names</td><td class = \"attrvalue\">[&quot;train&quot;, &quot;eval&quot;]</td></tr><tr><td class=\"attr-name\">.version</td><td class = \"attrvalue\">0</td></tr></table></div></td></tr></table></td></tr></table></div></td></tr></table></td></tr><tr><td class=\"attr-name\">.exec_properties</td><td class = \"attrvalue\"><table class=\"attr-table\"><tr><td class=\"attr-name\">['input_base']</td><td class = \"attrvalue\">/home/hakjun/projects/pipeline/data/animal_records</td></tr><tr><td class=\"attr-name\">['input_config']</td><td class = \"attrvalue\">{\n  &quot;splits&quot;: [\n    {\n      &quot;name&quot;: &quot;single_split&quot;,\n      &quot;pattern&quot;: &quot;*&quot;\n    }\n  ]\n}</td></tr><tr><td class=\"attr-name\">['output_config']</td><td class = \"attrvalue\">{\n  &quot;split_config&quot;: {\n    &quot;splits&quot;: [\n      {\n        &quot;hash_buckets&quot;: 2,\n        &quot;name&quot;: &quot;train&quot;\n      },\n      {\n        &quot;hash_buckets&quot;: 1,\n        &quot;name&quot;: &quot;eval&quot;\n      }\n    ]\n  }\n}</td></tr><tr><td class=\"attr-name\">['output_data_format']</td><td class = \"attrvalue\">6</td></tr><tr><td class=\"attr-name\">['output_file_format']</td><td class = \"attrvalue\">5</td></tr><tr><td class=\"attr-name\">['custom_config']</td><td class = \"attrvalue\">None</td></tr><tr><td class=\"attr-name\">['range_config']</td><td class = \"attrvalue\">None</td></tr><tr><td class=\"attr-name\">['span']</td><td class = \"attrvalue\">0</td></tr><tr><td class=\"attr-name\">['version']</td><td class = \"attrvalue\">None</td></tr><tr><td class=\"attr-name\">['input_fingerprint']</td><td class = \"attrvalue\">split:single_split,num_files:1,total_bytes:917346,xor_checksum:1673350567,sum_checksum:1673350567</td></tr></table></td></tr></table></div>"
     },
     "metadata": {},
     "output_type": "display_data"
    }
   ],
   "source": [
    "# tfrecord 생성에 성공했는지 읽어서 확인.\n",
    "rec_example_gen = ImportExampleGen(input_base=str(Path(record_path).parent))\n",
    "context.run(rec_example_gen)\n",
    "context.show(rec_example_gen)"
   ],
   "metadata": {
    "collapsed": false
   }
  }
 ],
 "metadata": {
  "kernelspec": {
   "display_name": "Python 3",
   "language": "python",
   "name": "python3"
  },
  "language_info": {
   "codemirror_mode": {
    "name": "ipython",
    "version": 2
   },
   "file_extension": ".py",
   "mimetype": "text/x-python",
   "name": "python",
   "nbconvert_exporter": "python",
   "pygments_lexer": "ipython2",
   "version": "2.7.6"
  }
 },
 "nbformat": 4,
 "nbformat_minor": 0
}
