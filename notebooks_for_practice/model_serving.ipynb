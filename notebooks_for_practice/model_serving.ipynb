{
 "cells": [
  {
   "cell_type": "markdown",
   "source": [
    "## 모델을 내보내는 방법\n",
    "1. Keras\n",
    "```Python\n",
    "saved_model_path = model.save(file_path=model_path, save_format=\"tf\")\n",
    "```\n",
    "\n",
    "2. Estimator\n",
    "```Python\n",
    "import tensorflow as tf\n",
    "\n",
    "# 먼저 reciver_fn 정의가 필요.\n",
    "def serving_input_receiver_fn():\n",
    "    input_feature = tf.compat.v1.placeholder(dtype=tf.string,\n",
    "                                             shape=[None, 1],\n",
    "                                             name=\"input\")\n",
    "    fn = tf.estimator.export.build_raw_serving_input_receiver_fn(\n",
    "        features={\"input_feature\": input_feature})\n",
    "\n",
    "    return fn\n",
    "\n",
    "# `model_fn`은 모델을 리턴하는 함수.\n",
    "estimator = tf.estimator.Estimator(model_fn, \"model\", params={})\n",
    "estimator.export_saved_model(export_dir_base=\"model_dir\",\n",
    "                             serving_input_receiver_fn=serving_input_receiver_fn)\n",
    "```\n",
    "\n",
    "이렇게 내보낸 모델 형식 SavedModel은 다음 구조로 돼 있다:\n",
    "  - `saved_model.pb`: `MetaGraphDef` 형식으로 표현된 추론 그래프.\n",
    "  - `variables`: 파라미터를 이진 형식으로 만든 파일과 체크포인트.\n",
    "  - `assets`: 모델 로드에 필요한 각종 파일들."
   ],
   "metadata": {
    "collapsed": false
   }
  },
  {
   "cell_type": "markdown",
   "source": [
    "## 모델 서명(signature)\n",
    "서명 함수를 정의한다. 이 서명 함수 호출이 모델에게 추론을 요청하는 API다.\n",
    "이 함수가 어떤 입력과 출력을 받는지 일정한 형식으로 나타나는 '서명'으로 정의한다.\n",
    "가능한 서명 함수는 `predict`, `classify`, `regress` 세 가지이다. 단일 그래프는 복수의 서명\n",
    "함수를 지닐 수 있다.\n",
    "\n",
    "모델이 어떤 서명을 갖고 있는지는 CLI 명령줄 도구 `saved_model_cli`로 확인 가능.\n",
    "\n",
    "```bash\n",
    "$ saved_model_cli show --dir <model_dir>\n",
    "```\n",
    "The given SavedModel contains the following tag-sets: 'serve'\n",
    "여기서 `tag-sets`란 이 그래프에 부여된 파악하기 쉬운 이름이다.\n",
    "단일 모델일지라도 TFLite용, 일반 서버용 등 복수의 그래프가 포함될 수 있다.\n",
    "\n",
    "```bash\n",
    "$ saved_model_cli show --dir <model_dir> --tag_set <tag>\n",
    "```\n",
    "다음과 같은 결과를 얻었다.\n",
    "    The given SavedModel MetaGraphDef contains SignatureDefs with the following keys:\n",
    "    SignatureDef key: \"__saved_model_init_op\"\n",
    "    SignatureDef key: \"serving_default\"\n",
    "\n",
    "`SignatureDef`는 SavedModel 포맷 모델을 빌드할 때 정의된 서명 함수의 입출력을 보여주는 객체다.\n",
    " `serving_default`는 특별히 지정하지 않은 경우 기본적으로 서명되는 함수다.\n",
    "\n",
    "```bash\n",
    "$ saved_model_cli show --dir <model_dir> --tag_set <tag> --signature_def <sign>\n",
    "```\n",
    "결과:\n",
    "The given SavedModel SignatureDef contains the following input(s):\n",
    "  inputs['examples'] tensor_info:\n",
    "      dtype: DT_STRING\n",
    "      shape: (-1)\n",
    "      name: serving_default_examples:0\n",
    "The given SavedModel SignatureDef contains the following output(s):\n",
    "  outputs['outputs'] tensor_info:\n",
    "      dtype: DT_FLOAT\n",
    "      shape: (-1, 1)\n",
    "      name: StatefulPartitionedCall_11:0\n",
    "Method name is: tensorflow/serving/predict  # 이 서명에 묶인 추론 함수.\n",
    "\n",
    "직접 모델을 로드하지 않고도 `saved_model_cli`로 터미널에서 특정 서명으로 모델 추론을 시험해 볼 수\n",
    "있다:\n",
    "```bash\n",
    "$ saved_model_cli run --dir <model_dir> --tag_set <tag> --signature_def <sign> \\\n",
    "    --input_examples <examples>\n",
    "```\n",
    "입력 가능한 형식은 모두 세 가지다:\n",
    "  - `inputs`: np.ndarray\n",
    "  - `input_exprs`: Python expression\n",
    "  - `input_examples`: tf.Example"
   ],
   "metadata": {
    "collapsed": false
   }
  },
  {
   "cell_type": "markdown",
   "source": [
    "# TFServing 모델 배포\n",
    "ExampleGen, Trainer, Pusher 등 일련의 파이프라인 구성에 Serving을 편입시키려면\n",
    "Pusher가 bless된 모델을 저장하는 경로를 Serving이 모델을 가져오는 경로와 동일하게 설정하면 된다.\n",
    "Serving은 모델을 쌓아두는 경로에서 가장 넘버링이 큰 모델을 불러오도록 돼 있으니, Pusher가 날짜순 등\n",
    "으로 모델 디렉토리를 저장하도록 설정하면 자동으로 최신 배포가 가능하다."
   ],
   "metadata": {
    "collapsed": false
   }
  },
  {
   "cell_type": "markdown",
   "source": [
    "Serving은 우분투가 아닌 이상 도커 이미지로 받는 것이 제일 편하다.\n",
    "\n",
    "```bash\n",
    "# 8500: gRPC용 포트, 8501: REST API용\n",
    "# source: 이 디렉토리 안에 모델들이 1/, 2/ 등 모여 있어야 한다.\n",
    "# target: `$(MODEL_BASE_PATH)/$(MODEL_NAME)`결합이 돼야 한다.\n",
    "# ARM 아키텍쳐 미지원이라 커뮤니티 지원 사용\n",
    "docker run -p 8501:8501 -p 8500:8500 \\\n",
    "           --mount type=bind,source=$(pwd)/models,target=/models/complaints \\\n",
    "           -e MODEL_NAME=complaints \\\n",
    "           -e MODEL_BASE_PATH=/models \\\n",
    "           -t emacski/tensorflow-serving\n",
    "```\n"
   ],
   "metadata": {
    "collapsed": false
   }
  },
  {
   "cell_type": "markdown",
   "source": [
    "## 다중 모델 구성\n",
    "아래 설정을 파일로 저장 후 `doker --model_config_file=<config_file>`로 도커 기동 시 인수로 지정\n",
    "\n",
    "```\n",
    "model_config_list {\n",
    "  config {\n",
    "    name: 'my_model'\n",
    "    base_path: '/models/my_model'\n",
    "    model_platform: 'tensorflow'\n",
    "  }\n",
    "  config {\n",
    "    name: 'your_model'\n",
    "    base_path: '/models/your_model'\n",
    "    model_platform: 'tensorflow'\n",
    "    model_version_policy: {\n",
    "      # 다른 옵션(all) 등도 지정 가능.\n",
    "      specific: {\n",
    "        versions: 123456\n",
    "        versions: 654321\n",
    "      }\n",
    "    }\n",
    "    # 아래 버전별 라벨 지정은 선택 사항이다.\n",
    "    version_labels {\n",
    "      key: 'stable'\n",
    "      value: 123456\n",
    "    }\n",
    "    version_labels {\n",
    "      key: 'dev'\n",
    "      value: 654321\n",
    "    }\n",
    "  }\n",
    "}\n",
    "```"
   ],
   "metadata": {
    "collapsed": false
   }
  },
  {
   "cell_type": "markdown",
   "source": [
    "## 모델 서버로 요청"
   ],
   "metadata": {
    "collapsed": false
   }
  },
  {
   "cell_type": "markdown",
   "source": [
    "### REST API"
   ],
   "metadata": {
    "collapsed": false
   }
  },
  {
   "cell_type": "code",
   "execution_count": 14,
   "outputs": [
    {
     "ename": "ModuleNotFoundError",
     "evalue": "No module named 'tensorflow'",
     "output_type": "error",
     "traceback": [
      "\u001B[0;31m---------------------------------------------------------------------------\u001B[0m",
      "\u001B[0;31mModuleNotFoundError\u001B[0m                       Traceback (most recent call last)",
      "Cell \u001B[0;32mIn[14], line 6\u001B[0m\n\u001B[1;32m      3\u001B[0m \u001B[38;5;28;01mimport\u001B[39;00m \u001B[38;5;21;01mjson\u001B[39;00m\n\u001B[1;32m      4\u001B[0m \u001B[38;5;28;01mimport\u001B[39;00m \u001B[38;5;21;01mbase64\u001B[39;00m\n\u001B[0;32m----> 6\u001B[0m \u001B[38;5;28;01mimport\u001B[39;00m \u001B[38;5;21;01mtensorflow\u001B[39;00m \u001B[38;5;28;01mas\u001B[39;00m \u001B[38;5;21;01mtf\u001B[39;00m\n",
      "\u001B[0;31mModuleNotFoundError\u001B[0m: No module named 'tensorflow'"
     ]
    }
   ],
   "source": [
    "import os\n",
    "import requests\n",
    "import json\n",
    "import base64\n",
    "\n",
    "import tensorflow as tf"
   ],
   "metadata": {
    "collapsed": false
   }
  },
  {
   "cell_type": "code",
   "execution_count": 6,
   "outputs": [],
   "source": [
    "def _bytes_feature(value: str):\n",
    "    return tf.train.Feature(\n",
    "        bytes_list=tf.train.BytesList(value=[value.encode()])\n",
    "    )\n",
    "\n",
    "\n",
    "def _float_feature(value: float):\n",
    "    return tf.train.Feature(\n",
    "        float_list=tf.train.FloatList(value=[value])\n",
    "    )\n",
    "\n",
    "\n",
    "def __int64_feature(value: int):\n",
    "    return tf.train.Feature(\n",
    "        int64_list=tf.train.Int64List(value=[value])\n",
    "    )"
   ],
   "metadata": {
    "collapsed": false
   }
  },
  {
   "cell_type": "code",
   "execution_count": 4,
   "outputs": [],
   "source": [
    "sample = {\n",
    "    \"product\": \"XXX\",\n",
    "    \"sub_product\": \"XXX\",\n",
    "    \"issue\": \"XXX\",\n",
    "    \"sub_issue\": \"XXX\",\n",
    "    \"state\": \"NY\",\n",
    "    \"zip_code\": 63512,\n",
    "    \"company\": \"XXX\",\n",
    "    \"company_response\": \"XXX\",\n",
    "    \"timely_response\": \"XXX\",\n",
    "    \"consumer_disputed\": 1,\n",
    "    \"consumer_complaint_narrative\": \"XXX\",\n",
    "}"
   ],
   "metadata": {
    "collapsed": false
   }
  },
  {
   "cell_type": "code",
   "execution_count": 5,
   "outputs": [
    {
     "ename": "NameError",
     "evalue": "name 'tf' is not defined",
     "output_type": "error",
     "traceback": [
      "\u001B[0;31m---------------------------------------------------------------------------\u001B[0m",
      "\u001B[0;31mNameError\u001B[0m                                 Traceback (most recent call last)",
      "Cell \u001B[0;32mIn[5], line 20\u001B[0m\n\u001B[1;32m      1\u001B[0m \u001B[38;5;28;01mdef\u001B[39;00m \u001B[38;5;21mcreate_example\u001B[39m(data: \u001B[38;5;28mdict\u001B[39m):\n\u001B[1;32m      2\u001B[0m     \u001B[38;5;28;01mreturn\u001B[39;00m tf\u001B[38;5;241m.\u001B[39mtrain\u001B[38;5;241m.\u001B[39mExample(\n\u001B[1;32m      3\u001B[0m         features\u001B[38;5;241m=\u001B[39mtf\u001B[38;5;241m.\u001B[39mtrain\u001B[38;5;241m.\u001B[39mFeatures(\n\u001B[1;32m      4\u001B[0m             feature\u001B[38;5;241m=\u001B[39m{\n\u001B[0;32m   (...)\u001B[0m\n\u001B[1;32m     17\u001B[0m         )\n\u001B[1;32m     18\u001B[0m     )\n\u001B[0;32m---> 20\u001B[0m example \u001B[38;5;241m=\u001B[39m \u001B[43mcreate_example\u001B[49m\u001B[43m(\u001B[49m\u001B[43msample\u001B[49m\u001B[43m)\u001B[49m\n",
      "Cell \u001B[0;32mIn[5], line 2\u001B[0m, in \u001B[0;36mcreate_example\u001B[0;34m(data)\u001B[0m\n\u001B[1;32m      1\u001B[0m \u001B[38;5;28;01mdef\u001B[39;00m \u001B[38;5;21mcreate_example\u001B[39m(data: \u001B[38;5;28mdict\u001B[39m):\n\u001B[0;32m----> 2\u001B[0m     \u001B[38;5;28;01mreturn\u001B[39;00m \u001B[43mtf\u001B[49m\u001B[38;5;241m.\u001B[39mtrain\u001B[38;5;241m.\u001B[39mExample(\n\u001B[1;32m      3\u001B[0m         features\u001B[38;5;241m=\u001B[39mtf\u001B[38;5;241m.\u001B[39mtrain\u001B[38;5;241m.\u001B[39mFeatures(\n\u001B[1;32m      4\u001B[0m             feature\u001B[38;5;241m=\u001B[39m{\n\u001B[1;32m      5\u001B[0m                 \u001B[38;5;124m\"\u001B[39m\u001B[38;5;124mproduct\u001B[39m\u001B[38;5;124m\"\u001B[39m: _bytes_feature(\u001B[38;5;28mstr\u001B[39m(data[\u001B[38;5;124m\"\u001B[39m\u001B[38;5;124mproduct\u001B[39m\u001B[38;5;124m\"\u001B[39m])),\n\u001B[1;32m      6\u001B[0m                 \u001B[38;5;124m\"\u001B[39m\u001B[38;5;124msub_product\u001B[39m\u001B[38;5;124m\"\u001B[39m: _bytes_feature(\u001B[38;5;28mstr\u001B[39m(data[\u001B[38;5;124m\"\u001B[39m\u001B[38;5;124msub_product\u001B[39m\u001B[38;5;124m\"\u001B[39m])),\n\u001B[1;32m      7\u001B[0m                 \u001B[38;5;124m\"\u001B[39m\u001B[38;5;124missue\u001B[39m\u001B[38;5;124m\"\u001B[39m: _bytes_feature(\u001B[38;5;28mstr\u001B[39m(data[\u001B[38;5;124m\"\u001B[39m\u001B[38;5;124missue\u001B[39m\u001B[38;5;124m\"\u001B[39m])),\n\u001B[1;32m      8\u001B[0m                 \u001B[38;5;124m\"\u001B[39m\u001B[38;5;124msub_issue\u001B[39m\u001B[38;5;124m\"\u001B[39m: _bytes_feature(\u001B[38;5;28mstr\u001B[39m(data[\u001B[38;5;124m\"\u001B[39m\u001B[38;5;124msub_issue\u001B[39m\u001B[38;5;124m\"\u001B[39m])),\n\u001B[1;32m      9\u001B[0m                 \u001B[38;5;124m\"\u001B[39m\u001B[38;5;124mstate\u001B[39m\u001B[38;5;124m\"\u001B[39m: _bytes_feature(\u001B[38;5;28mstr\u001B[39m(data[\u001B[38;5;124m\"\u001B[39m\u001B[38;5;124mstate\u001B[39m\u001B[38;5;124m\"\u001B[39m])),\n\u001B[1;32m     10\u001B[0m                 \u001B[38;5;124m\"\u001B[39m\u001B[38;5;124mzip_code\u001B[39m\u001B[38;5;124m\"\u001B[39m: __int64_feature(\u001B[38;5;28mint\u001B[39m(data[\u001B[38;5;124m\"\u001B[39m\u001B[38;5;124mzip_code\u001B[39m\u001B[38;5;124m\"\u001B[39m])),\n\u001B[1;32m     11\u001B[0m                 \u001B[38;5;124m\"\u001B[39m\u001B[38;5;124mcompany\u001B[39m\u001B[38;5;124m\"\u001B[39m: _bytes_feature(\u001B[38;5;28mstr\u001B[39m(data[\u001B[38;5;124m\"\u001B[39m\u001B[38;5;124mcompany\u001B[39m\u001B[38;5;124m\"\u001B[39m])),\n\u001B[1;32m     12\u001B[0m                 \u001B[38;5;124m\"\u001B[39m\u001B[38;5;124mcompany_response\u001B[39m\u001B[38;5;124m\"\u001B[39m: _bytes_feature(\u001B[38;5;28mstr\u001B[39m(data[\u001B[38;5;124m\"\u001B[39m\u001B[38;5;124mcompany_response\u001B[39m\u001B[38;5;124m\"\u001B[39m])),\n\u001B[1;32m     13\u001B[0m                 \u001B[38;5;124m\"\u001B[39m\u001B[38;5;124mtimely_response\u001B[39m\u001B[38;5;124m\"\u001B[39m: _bytes_feature(\u001B[38;5;28mstr\u001B[39m(data[\u001B[38;5;124m\"\u001B[39m\u001B[38;5;124mtimely_response\u001B[39m\u001B[38;5;124m\"\u001B[39m])),\n\u001B[1;32m     14\u001B[0m                 \u001B[38;5;124m\"\u001B[39m\u001B[38;5;124mconsumer_disputed\u001B[39m\u001B[38;5;124m\"\u001B[39m: _float_feature(\u001B[38;5;28mfloat\u001B[39m(data[\u001B[38;5;124m\"\u001B[39m\u001B[38;5;124mconsumer_disputed\u001B[39m\u001B[38;5;124m\"\u001B[39m])),\n\u001B[1;32m     15\u001B[0m                 \u001B[38;5;124m\"\u001B[39m\u001B[38;5;124mconsumer_complaint_narrative\u001B[39m\u001B[38;5;124m\"\u001B[39m: _bytes_feature(\u001B[38;5;28mstr\u001B[39m(data[\u001B[38;5;124m\"\u001B[39m\u001B[38;5;124mconsumer_complaint_narrative\u001B[39m\u001B[38;5;124m\"\u001B[39m])),\n\u001B[1;32m     16\u001B[0m             }\n\u001B[1;32m     17\u001B[0m         )\n\u001B[1;32m     18\u001B[0m     )\n",
      "\u001B[0;31mNameError\u001B[0m: name 'tf' is not defined"
     ]
    }
   ],
   "source": [
    "def create_example(data: dict):\n",
    "    return tf.train.Example(\n",
    "        features=tf.train.Features(\n",
    "            feature={\n",
    "                \"product\": _bytes_feature(str(data[\"product\"])),\n",
    "                \"sub_product\": _bytes_feature(str(data[\"sub_product\"])),\n",
    "                \"issue\": _bytes_feature(str(data[\"issue\"])),\n",
    "                \"sub_issue\": _bytes_feature(str(data[\"sub_issue\"])),\n",
    "                \"state\": _bytes_feature(str(data[\"state\"])),\n",
    "                \"zip_code\": __int64_feature(int(data[\"zip_code\"])),\n",
    "                \"company\": _bytes_feature(str(data[\"company\"])),\n",
    "                \"company_response\": _bytes_feature(str(data[\"company_response\"])),\n",
    "                \"timely_response\": _bytes_feature(str(data[\"timely_response\"])),\n",
    "                \"consumer_disputed\": _float_feature(float(data[\"consumer_disputed\"])),\n",
    "                \"consumer_complaint_narrative\": _bytes_feature(str(data[\"consumer_complaint_narrative\"])),\n",
    "            }\n",
    "        )\n",
    "    )\n",
    "\n",
    "example = create_example(sample)"
   ],
   "metadata": {
    "collapsed": false
   }
  },
  {
   "cell_type": "code",
   "execution_count": 11,
   "outputs": [
    {
     "name": "stdout",
     "output_type": "stream",
     "text": [
      "http://localhost:8501/v1/models/complaints/versions/2:predict\n"
     ]
    }
   ],
   "source": [
    "# http://localhost:8501/v1/models/complaints\n",
    "# http://35.216.48.148:8501/v1/models/complaints\n",
    "HOST = \"localhost\"\n",
    "PORT = 8501\n",
    "MODEL_NAME = \"complaints\"\n",
    "VERSION = 2\n",
    "VERB = \"predict\"  # predict(기본), 서명 설정 시 classify, regress 가능\n",
    "url = f\"http://{HOST}:{PORT}/v1/models/{MODEL_NAME}/versions/{VERSION}:{VERB}\"\n",
    "print(url)\n",
    "# ex_dec = base64.urlsafe_b64encode(example.SerializeToString()).decode('utf-8')\n",
    "headers = {\"content-type\": \"application/json\"}\n",
    "payload = {  # TFServing REST API 데이터는 JSON으로 주고 받는다.\n",
    "    \"signature_name\": \"serving_default\",  # optional: serving_default 자체가 기본값.\n",
    "    \"instances\": [\"sample\"]\n",
    "}\n",
    "\n",
    "# data = json.dumps(payload)"
   ],
   "metadata": {
    "collapsed": false
   }
  },
  {
   "cell_type": "code",
   "execution_count": 12,
   "outputs": [
    {
     "name": "stdout",
     "output_type": "stream",
     "text": [
      "{'error': 'JSON Value: \"{\\\\\"signature_name\\\\\": \\\\\"serving_default\\\\\", \\\\\"instances\\\\\": [\\\\\"sample\\\\\"]}\" Is not object'}\n"
     ]
    }
   ],
   "source": [
    "response = requests.post(url, json=json.dumps(payload))\n",
    "# response = requests.post(url, headers=headers, data=data)\n",
    "print(response.json())"
   ],
   "metadata": {
    "collapsed": false
   }
  },
  {
   "cell_type": "markdown",
   "source": [
    "### gRPC\n",
    "channel: 서버-호스트 간 gRPC 연결. 통신의 최초 전제.\n",
    "stub: 사용 가능 메서드를 서버로부터 복사해 로컬에 저장한 객체."
   ],
   "metadata": {
    "collapsed": false
   }
  },
  {
   "cell_type": "code",
   "execution_count": null,
   "outputs": [],
   "source": [
    "import grpc\n",
    "import tensorflow as tf\n",
    "from tensorflow_serving.apis import predict_pb2, prediction_service_pb2_grpc"
   ],
   "metadata": {
    "collapsed": false
   }
  }
 ],
 "metadata": {
  "kernelspec": {
   "display_name": "Python 3",
   "language": "python",
   "name": "python3"
  },
  "language_info": {
   "codemirror_mode": {
    "name": "ipython",
    "version": 2
   },
   "file_extension": ".py",
   "mimetype": "text/x-python",
   "name": "python",
   "nbconvert_exporter": "python",
   "pygments_lexer": "ipython2",
   "version": "2.7.6"
  }
 },
 "nbformat": 4,
 "nbformat_minor": 0
}
