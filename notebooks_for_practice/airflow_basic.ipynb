{
 "cells": [
  {
   "cell_type": "markdown",
   "source": [
    "# Airflow\n",
    "\n",
    "Airflow는 파이프라인을 DAG(Directed Acyclic Graph)로 정의하고,\n",
    "파이프라인에서 수행해야 할 각 단계 작업을 Task라고 부른다.\n",
    "\n",
    "```Bash\n",
    "pip install apache-airflow\n",
    "airflow db init  # 기본은 SQLite로, 실제론 Postgresql 등을 사용할 것.\n",
    "airflow scheduler  # 작업 종속성을 설정\n",
    "airflow webserver -p 8081  # 작업 시작, 중지, 모니터링 가능한 서버 열기\n",
    "```\n",
    "\n",
    "Task operator: shell이나 파이썬 인터프리터 중 하나에게 정의된 작업 수행을 명할 수 있다.\n",
    "\n",
    "이 노트북을 파이썬 스크립트로 전환 후, airflow_pipeline.py(가칭)을 AIRFLOW_HOME/dags 아래\n",
    "저장한다. 그 후 스크립트를 실행하면 `$ airflow dags list`에서 등록된 이 그래프를 볼 수 있다.\n",
    "출력되는 그래프명은 `DAG.dag_id`에 지정한 것이다.\n"
   ],
   "metadata": {
    "collapsed": false
   }
  },
  {
   "cell_type": "code",
   "execution_count": 1,
   "metadata": {
    "collapsed": true
   },
   "outputs": [
    {
     "data": {
      "text/plain": "\u001B[1;33m/Users/hakjun/PycharmProjects/pipeliine/venv/lib/python3.8/site-packages/airflow/models/\u001B[0m\u001B[1;33mbase.py\u001B[0m\u001B[1;33m:\u001B[0m\u001B[1;33m49\u001B[0m\u001B[1;33m MovedIn20Warning\u001B[0m\u001B[33m: Deprecated API features detected! These \u001B[0m\u001B[1;33mfeature\u001B[0m\u001B[1;33m(\u001B[0m\u001B[33ms\u001B[0m\u001B[1;33m)\u001B[0m\u001B[33m are not compatible with SQLAlchemy \u001B[0m\u001B[1;33m2.0\u001B[0m\u001B[33m. To prevent incompatible upgrades prior to updating applications, ensure requirements files are pinned to \u001B[0m\u001B[33m\"sqlalchemy<2.0\"\u001B[0m\u001B[33m. Set environment variable \u001B[0m\u001B[33mSQLALCHEMY_WARN_20\u001B[0m\u001B[33m=\u001B[0m\u001B[1;33m1\u001B[0m\u001B[33m to show all deprecation warnings.  Set environment variable \u001B[0m\u001B[33mSQLALCHEMY_SILENCE_UBER_WARNING\u001B[0m\u001B[33m=\u001B[0m\u001B[1;33m1\u001B[0m\u001B[33m to silence this message. \u001B[0m\u001B[1;33m(\u001B[0m\u001B[33mBackground on SQLAlchemy \u001B[0m\u001B[1;33m2.0\u001B[0m\u001B[33m at: \u001B[0m\u001B[4;33mhttps://sqlalche.me/e/b8d9\u001B[0m\u001B[4;33m)\u001B[0m\n",
      "text/html": "<pre style=\"white-space:pre;overflow-x:auto;line-height:normal;font-family:Menlo,'DejaVu Sans Mono',consolas,'Courier New',monospace\"><span style=\"color: #808000; text-decoration-color: #808000; font-weight: bold\">/Users/hakjun/PycharmProjects/pipeliine/venv/lib/python3.8/site-packages/airflow/models/base.py:</span><span style=\"color: #808000; text-decoration-color: #808000; font-weight: bold\">49</span><span style=\"color: #808000; text-decoration-color: #808000; font-weight: bold\"> MovedIn20Warning</span><span style=\"color: #808000; text-decoration-color: #808000\">: Deprecated API features detected! These </span><span style=\"color: #808000; text-decoration-color: #808000; font-weight: bold\">feature(</span><span style=\"color: #808000; text-decoration-color: #808000\">s</span><span style=\"color: #808000; text-decoration-color: #808000; font-weight: bold\">)</span><span style=\"color: #808000; text-decoration-color: #808000\"> are not compatible with SQLAlchemy </span><span style=\"color: #808000; text-decoration-color: #808000; font-weight: bold\">2.0</span><span style=\"color: #808000; text-decoration-color: #808000\">. To prevent incompatible upgrades prior to updating applications, ensure requirements files are pinned to </span><span style=\"color: #808000; text-decoration-color: #808000\">\"sqlalchemy&lt;2.0\"</span><span style=\"color: #808000; text-decoration-color: #808000\">. Set environment variable </span><span style=\"color: #808000; text-decoration-color: #808000\">SQLALCHEMY_WARN_20</span><span style=\"color: #808000; text-decoration-color: #808000\">=</span><span style=\"color: #808000; text-decoration-color: #808000; font-weight: bold\">1</span><span style=\"color: #808000; text-decoration-color: #808000\"> to show all deprecation warnings.  Set environment variable </span><span style=\"color: #808000; text-decoration-color: #808000\">SQLALCHEMY_SILENCE_UBER_WARNING</span><span style=\"color: #808000; text-decoration-color: #808000\">=</span><span style=\"color: #808000; text-decoration-color: #808000; font-weight: bold\">1</span><span style=\"color: #808000; text-decoration-color: #808000\"> to silence this message. </span><span style=\"color: #808000; text-decoration-color: #808000; font-weight: bold\">(</span><span style=\"color: #808000; text-decoration-color: #808000\">Background on SQLAlchemy </span><span style=\"color: #808000; text-decoration-color: #808000; font-weight: bold\">2.0</span><span style=\"color: #808000; text-decoration-color: #808000\"> at: </span><span style=\"color: #808000; text-decoration-color: #808000; text-decoration: underline\">https://sqlalche.me/e/b8d9)</span>\n</pre>\n"
     },
     "metadata": {},
     "output_type": "display_data"
    }
   ],
   "source": [
    "from airflow import DAG\n",
    "# Task operator 정의: `.bash import BashOperator`도 가능.\n",
    "from airflow.operators.python import PythonOperator\n",
    "from datetime import datetime, timedelta"
   ]
  },
  {
   "cell_type": "code",
   "execution_count": 2,
   "outputs": [],
   "source": [
    "project_cfg = {\n",
    "    \"owner\": \"airflow\",\n",
    "    \"email\": [\"hukanj@gmail.com\"],\n",
    "    \"email_on_failure\": True,\n",
    "    \"start_date\": datetime.today(),\n",
    "    \"retries\": 1,\n",
    "    \"retry_delay\": timedelta(hours=1)}"
   ],
   "metadata": {
    "collapsed": false
   }
  },
  {
   "cell_type": "code",
   "execution_count": 3,
   "outputs": [
    {
     "data": {
      "text/plain": "\u001B[1;33m/var/folders/0m/fkztzrsx5837r5n_lvb4z9lm0000gn/T/ipykernel_45665/\u001B[0m\u001B[1;33m3763984624.py\u001B[0m\u001B[1;33m:\u001B[0m\u001B[1;33m1\u001B[0m\u001B[1;33m RemovedInAirflow3Warning\u001B[0m\u001B[33m: Param `schedule_interval` is deprecated and will be removed in a future release. Please use `schedule` instead.\u001B[0m\n",
      "text/html": "<pre style=\"white-space:pre;overflow-x:auto;line-height:normal;font-family:Menlo,'DejaVu Sans Mono',consolas,'Courier New',monospace\"><span style=\"color: #808000; text-decoration-color: #808000; font-weight: bold\">/var/folders/0m/fkztzrsx5837r5n_lvb4z9lm0000gn/T/ipykernel_45665/3763984624.py:</span><span style=\"color: #808000; text-decoration-color: #808000; font-weight: bold\">1</span><span style=\"color: #808000; text-decoration-color: #808000; font-weight: bold\"> RemovedInAirflow3Warning</span><span style=\"color: #808000; text-decoration-color: #808000\">: Param `schedule_interval` is deprecated and will be removed in a future release. Please use `schedule` instead.</span>\n</pre>\n"
     },
     "metadata": {},
     "output_type": "display_data"
    }
   ],
   "source": [
    "dag = DAG(dag_id=\"basic_pipeline\",\n",
    "          default_args=project_cfg,\n",
    "          schedule_interval=timedelta(days=1))"
   ],
   "metadata": {
    "collapsed": false
   }
  },
  {
   "cell_type": "code",
   "execution_count": 4,
   "outputs": [],
   "source": [
    "# 파이썬 작업 연산자에게는 작업(task)이란 파이썬 함수 형태다.\n",
    "def example_task(_id, **kwargs):\n",
    "    print(f\"Task {_id} started.\")\n",
    "    return f\"Completed task {_id}\""
   ],
   "metadata": {
    "collapsed": false
   }
  },
  {
   "cell_type": "code",
   "execution_count": 5,
   "outputs": [],
   "source": [
    "task1 = PythonOperator(\n",
    "    task_id=\"task1\",\n",
    "    python_callable=example_task,  # 정의한 태스크\n",
    "    op_kwargs={\"_id\": 1},\n",
    "    dag=dag)  # 이 태스크를 파넣을 그래프 지정.\n",
    "\n",
    "task2 = PythonOperator(\n",
    "    task_id=\"task2\",\n",
    "    python_callable=example_task,\n",
    "    op_kwargs={\"_id\": 2},\n",
    "    dag=dag)"
   ],
   "metadata": {
    "collapsed": false
   }
  },
  {
   "cell_type": "markdown",
   "source": [
    "## Task dependency\n",
    "Task1 -> Task2 -> Task3 -> ... 식으로 선-후행 작업 관계를 정의할 수 있다.\n",
    "이 때 선행 작업은 upstream, 후행 작업은 downstream으로 칭한다."
   ],
   "metadata": {
    "collapsed": false
   }
  },
  {
   "cell_type": "code",
   "execution_count": 6,
   "outputs": [],
   "source": [
    "# 방법 1: T1이 upstream, T2가 downstream(T1 -> T2)\n",
    "task1.set_downstream(task2)"
   ],
   "metadata": {
    "collapsed": false
   }
  },
  {
   "cell_type": "code",
   "execution_count": 7,
   "outputs": [
    {
     "name": "stdout",
     "output_type": "stream",
     "text": [
      "[\u001B[34m2023-01-16 01:17:28,902\u001B[0m] {\u001B[34mtaskmixin.py:\u001B[0m205} WARNING\u001B[0m - Dependency <Task(PythonOperator): task1>, task2 already registered for DAG: basic_pipeline\u001B[0m\n",
      "[\u001B[34m2023-01-16 01:17:28,903\u001B[0m] {\u001B[34mtaskmixin.py:\u001B[0m205} WARNING\u001B[0m - Dependency <Task(PythonOperator): task2>, task1 already registered for DAG: basic_pipeline\u001B[0m\n"
     ]
    },
    {
     "data": {
      "text/plain": "<Task(PythonOperator): task2>"
     },
     "execution_count": 7,
     "metadata": {},
     "output_type": "execute_result"
    }
   ],
   "source": [
    "# 방법 2: 동일하게 T1이 upstream, T2가 downstream\n",
    "task1 >> task2"
   ],
   "metadata": {
    "collapsed": false
   }
  },
  {
   "cell_type": "code",
   "execution_count": null,
   "outputs": [],
   "source": [],
   "metadata": {
    "collapsed": false
   }
  }
 ],
 "metadata": {
  "kernelspec": {
   "display_name": "Python 3",
   "language": "python",
   "name": "python3"
  },
  "language_info": {
   "codemirror_mode": {
    "name": "ipython",
    "version": 2
   },
   "file_extension": ".py",
   "mimetype": "text/x-python",
   "name": "python",
   "nbconvert_exporter": "python",
   "pygments_lexer": "ipython2",
   "version": "2.7.6"
  }
 },
 "nbformat": 4,
 "nbformat_minor": 0
}
