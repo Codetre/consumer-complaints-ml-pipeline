{
 "cells": [
  {
   "cell_type": "markdown",
   "source": [
    "# 대화형 파이프라인 프로덕션으로 내보내기\n",
    "\n",
    "지금까지는 `InteractiveContext` 인스턴스가 각 컴포넌트를 실행토록 했다. 이는 각 단계를 살펴 보기에\n",
    "유용했을진 모르나 실제 서비스로 사용하기엔 무리가 있으며 또한 오케스트레이션 도구의 각종 기능을 사용할\n",
    "수 없다. 오케스트레이션 도구로는 Apache Beam, Airflow, Kubeflow 등이 있으며 여기서는 Beam을 위한\n",
    "파이프라인으로 내보내겠다. Beam pipeline은 가장 기본적인 기능만 가능하기에 확장을 위해선\n",
    "Airflow, Kubeflow 등의 도입을 고려해야 한다."
   ],
   "metadata": {
    "collapsed": false
   }
  },
  {
   "cell_type": "code",
   "execution_count": 1,
   "metadata": {
    "collapsed": true
   },
   "outputs": [
    {
     "name": "stderr",
     "output_type": "stream",
     "text": [
      "2023-01-15 18:10:51.455943: I tensorflow/core/platform/cpu_feature_guard.cc:193] This TensorFlow binary is optimized with oneAPI Deep Neural Network Library (oneDNN) to use the following CPU instructions in performance-critical operations:  SSE4.1 SSE4.2 AVX AVX2 FMA\n",
      "To enable them in other operations, rebuild TensorFlow with the appropriate compiler flags.\n"
     ]
    }
   ],
   "source": [
    "import os\n",
    "from datetime import datetime\n",
    "\n",
    "from tfx.orchestration.experimental.interactive.interactive_context import InteractiveContext"
   ]
  },
  {
   "cell_type": "code",
   "execution_count": 2,
   "outputs": [
    {
     "name": "stderr",
     "output_type": "stream",
     "text": [
      "WARNING:absl:InteractiveContext pipeline_root argument not provided: using temporary directory /tmp/tfx-interactive-2023-01-15T18_10_56.070929-oz_ft41b as root for pipeline outputs.\n",
      "WARNING:absl:InteractiveContext metadata_connection_config not provided: using SQLite ML Metadata database at /tmp/tfx-interactive-2023-01-15T18_10_56.070929-oz_ft41b/metadata.sqlite.\n"
     ]
    }
   ],
   "source": [
    "context = InteractiveContext()"
   ],
   "metadata": {
    "collapsed": false
   }
  },
  {
   "cell_type": "code",
   "execution_count": 3,
   "outputs": [],
   "source": [
    "runner_type = input(\"Which runner(beam or airflow): \").strip()\n",
    "while runner_type not in (\"beam\", \"airflow\"):\n",
    "    runner_type = input(\"Only beam or airflow is allowd for runner type.\")\n",
    "\n",
    "notebook_filepath = os.path.join(os.getcwd(), f\"{runner_type}_exporting.ipynb\")\n",
    "export_filepath = f\"{runner_type}_pipeline.py\""
   ],
   "metadata": {
    "collapsed": false
   }
  },
  {
   "cell_type": "code",
   "execution_count": 6,
   "outputs": [],
   "source": [
    "# 지정된 대로 아파치 빔으로 실행되는 파이프라인 스크립트가 생성됐다.\n",
    "# 이 파이프라인을 실행시키면 지금까지 대화형 컨텍스트로 실행됐던 일련의 컴포넌트들이 실행된다.\n",
    "context.export_to_pipeline(notebook_filepath=notebook_filepath,\n",
    "                           export_filepath=export_filepath,\n",
    "                           runner_type=runner_type)"
   ],
   "metadata": {
    "collapsed": false
   }
  },
  {
   "cell_type": "code",
   "execution_count": null,
   "outputs": [],
   "source": [],
   "metadata": {
    "collapsed": false
   }
  }
 ],
 "metadata": {
  "kernelspec": {
   "display_name": "Python 3",
   "language": "python",
   "name": "python3"
  },
  "language_info": {
   "codemirror_mode": {
    "name": "ipython",
    "version": 2
   },
   "file_extension": ".py",
   "mimetype": "text/x-python",
   "name": "python",
   "nbconvert_exporter": "python",
   "pygments_lexer": "ipython2",
   "version": "2.7.6"
  }
 },
 "nbformat": 4,
 "nbformat_minor": 0
}
